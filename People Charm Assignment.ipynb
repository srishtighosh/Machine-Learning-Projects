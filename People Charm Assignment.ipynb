{
 "cells": [
  {
   "cell_type": "code",
   "execution_count": 1,
   "metadata": {},
   "outputs": [],
   "source": [
    "import pandas as pd\n",
    "import numpy as np\n",
    "import matplotlib.pyplot as plt\n",
    "%matplotlib inline\n",
    "import seaborn as sns\n",
    "from sklearn import tree\n",
    "\n",
    "from sklearn.model_selection import train_test_split \n",
    "from sklearn.preprocessing import LabelEncoder\n",
    "from sklearn.metrics import confusion_matrix\n",
    "from sklearn.metrics import accuracy_score\n",
    "from sklearn import metrics\n",
    "\n",
    "from sklearn.neighbors import KNeighborsClassifier\n",
    "\n",
    "from sklearn.naive_bayes import GaussianNB\n",
    "from sklearn.naive_bayes import BernoulliNB\n",
    "from sklearn.naive_bayes import MultinomialNB\n",
    "\n",
    "from sklearn.linear_model import LogisticRegression\n",
    "\n",
    "from sklearn.tree import DecisionTreeClassifier\n",
    "from sklearn.ensemble import RandomForestClassifier,AdaBoostClassifier,GradientBoostingClassifier\n",
    "from xgboost import XGBClassifier"
   ]
  },
  {
   "cell_type": "code",
   "execution_count": 2,
   "metadata": {},
   "outputs": [
    {
     "data": {
      "text/html": [
       "<div>\n",
       "<style scoped>\n",
       "    .dataframe tbody tr th:only-of-type {\n",
       "        vertical-align: middle;\n",
       "    }\n",
       "\n",
       "    .dataframe tbody tr th {\n",
       "        vertical-align: top;\n",
       "    }\n",
       "\n",
       "    .dataframe thead th {\n",
       "        text-align: right;\n",
       "    }\n",
       "</style>\n",
       "<table border=\"1\" class=\"dataframe\">\n",
       "  <thead>\n",
       "    <tr style=\"text-align: right;\">\n",
       "      <th></th>\n",
       "      <th>satisfactoryLevel</th>\n",
       "      <th>lastEvaluation</th>\n",
       "      <th>numberOfProjects</th>\n",
       "      <th>avgMonthlyHours</th>\n",
       "      <th>timeSpent.company</th>\n",
       "      <th>workAccident</th>\n",
       "      <th>left</th>\n",
       "      <th>promotionInLast5years</th>\n",
       "      <th>dept</th>\n",
       "      <th>salary</th>\n",
       "    </tr>\n",
       "  </thead>\n",
       "  <tbody>\n",
       "    <tr>\n",
       "      <th>0</th>\n",
       "      <td>0.38</td>\n",
       "      <td>0.53</td>\n",
       "      <td>2</td>\n",
       "      <td>157</td>\n",
       "      <td>3</td>\n",
       "      <td>0</td>\n",
       "      <td>1</td>\n",
       "      <td>0</td>\n",
       "      <td>sales</td>\n",
       "      <td>low</td>\n",
       "    </tr>\n",
       "    <tr>\n",
       "      <th>1</th>\n",
       "      <td>0.80</td>\n",
       "      <td>0.86</td>\n",
       "      <td>5</td>\n",
       "      <td>262</td>\n",
       "      <td>6</td>\n",
       "      <td>0</td>\n",
       "      <td>1</td>\n",
       "      <td>0</td>\n",
       "      <td>sales</td>\n",
       "      <td>medium</td>\n",
       "    </tr>\n",
       "    <tr>\n",
       "      <th>2</th>\n",
       "      <td>0.11</td>\n",
       "      <td>0.88</td>\n",
       "      <td>7</td>\n",
       "      <td>272</td>\n",
       "      <td>4</td>\n",
       "      <td>0</td>\n",
       "      <td>1</td>\n",
       "      <td>0</td>\n",
       "      <td>sales</td>\n",
       "      <td>medium</td>\n",
       "    </tr>\n",
       "    <tr>\n",
       "      <th>3</th>\n",
       "      <td>0.37</td>\n",
       "      <td>0.52</td>\n",
       "      <td>2</td>\n",
       "      <td>159</td>\n",
       "      <td>3</td>\n",
       "      <td>0</td>\n",
       "      <td>1</td>\n",
       "      <td>0</td>\n",
       "      <td>sales</td>\n",
       "      <td>low</td>\n",
       "    </tr>\n",
       "    <tr>\n",
       "      <th>4</th>\n",
       "      <td>0.41</td>\n",
       "      <td>0.50</td>\n",
       "      <td>2</td>\n",
       "      <td>153</td>\n",
       "      <td>3</td>\n",
       "      <td>0</td>\n",
       "      <td>1</td>\n",
       "      <td>0</td>\n",
       "      <td>sales</td>\n",
       "      <td>low</td>\n",
       "    </tr>\n",
       "  </tbody>\n",
       "</table>\n",
       "</div>"
      ],
      "text/plain": [
       "   satisfactoryLevel  lastEvaluation  numberOfProjects  avgMonthlyHours  \\\n",
       "0               0.38            0.53                 2              157   \n",
       "1               0.80            0.86                 5              262   \n",
       "2               0.11            0.88                 7              272   \n",
       "3               0.37            0.52                 2              159   \n",
       "4               0.41            0.50                 2              153   \n",
       "\n",
       "   timeSpent.company  workAccident  left  promotionInLast5years   dept  salary  \n",
       "0                  3             0     1                      0  sales     low  \n",
       "1                  6             0     1                      0  sales  medium  \n",
       "2                  4             0     1                      0  sales  medium  \n",
       "3                  3             0     1                      0  sales     low  \n",
       "4                  3             0     1                      0  sales     low  "
      ]
     },
     "execution_count": 2,
     "metadata": {},
     "output_type": "execute_result"
    }
   ],
   "source": [
    "dataset=pd.read_csv('C:/Users/Srishti/Desktop/Data Science/Machine Learning/Assignments/Assignment2_PGD B7/People Charm case.csv')\n",
    "dataset.head()"
   ]
  },
  {
   "cell_type": "code",
   "execution_count": 3,
   "metadata": {},
   "outputs": [
    {
     "data": {
      "text/plain": [
       "(14999, 10)"
      ]
     },
     "execution_count": 3,
     "metadata": {},
     "output_type": "execute_result"
    }
   ],
   "source": [
    "dataset.shape"
   ]
  },
  {
   "cell_type": "code",
   "execution_count": 4,
   "metadata": {},
   "outputs": [
    {
     "data": {
      "text/plain": [
       "(3008, 10)"
      ]
     },
     "execution_count": 4,
     "metadata": {},
     "output_type": "execute_result"
    }
   ],
   "source": [
    "#checking for the duplicate values:\n",
    "dataset[dataset.duplicated()].shape"
   ]
  },
  {
   "cell_type": "code",
   "execution_count": 5,
   "metadata": {},
   "outputs": [
    {
     "data": {
      "text/plain": [
       "satisfactoryLevel        0\n",
       "lastEvaluation           0\n",
       "numberOfProjects         0\n",
       "avgMonthlyHours          0\n",
       "timeSpent.company        0\n",
       "workAccident             0\n",
       "left                     0\n",
       "promotionInLast5years    0\n",
       "dept                     0\n",
       "salary                   0\n",
       "dtype: int64"
      ]
     },
     "execution_count": 5,
     "metadata": {},
     "output_type": "execute_result"
    }
   ],
   "source": [
    "#checking for the null values:\n",
    "dataset.isnull().sum()"
   ]
  },
  {
   "cell_type": "code",
   "execution_count": 6,
   "metadata": {},
   "outputs": [
    {
     "data": {
      "text/plain": [
       "(11991, 10)"
      ]
     },
     "execution_count": 6,
     "metadata": {},
     "output_type": "execute_result"
    }
   ],
   "source": [
    "#dropping the duplicate values and then storing the unique values in a new dataframe as 'new_dataset'\n",
    "new_dataset=dataset.drop_duplicates()\n",
    "new_dataset.shape"
   ]
  },
  {
   "cell_type": "code",
   "execution_count": 7,
   "metadata": {},
   "outputs": [
    {
     "data": {
      "text/html": [
       "<div>\n",
       "<style scoped>\n",
       "    .dataframe tbody tr th:only-of-type {\n",
       "        vertical-align: middle;\n",
       "    }\n",
       "\n",
       "    .dataframe tbody tr th {\n",
       "        vertical-align: top;\n",
       "    }\n",
       "\n",
       "    .dataframe thead th {\n",
       "        text-align: right;\n",
       "    }\n",
       "</style>\n",
       "<table border=\"1\" class=\"dataframe\">\n",
       "  <thead>\n",
       "    <tr style=\"text-align: right;\">\n",
       "      <th></th>\n",
       "      <th>satisfactoryLevel</th>\n",
       "      <th>lastEvaluation</th>\n",
       "      <th>numberOfProjects</th>\n",
       "      <th>avgMonthlyHours</th>\n",
       "      <th>timeSpent.company</th>\n",
       "      <th>workAccident</th>\n",
       "      <th>left</th>\n",
       "      <th>promotionInLast5years</th>\n",
       "      <th>dept</th>\n",
       "      <th>salary</th>\n",
       "    </tr>\n",
       "  </thead>\n",
       "  <tbody>\n",
       "    <tr>\n",
       "      <th>0</th>\n",
       "      <td>0.38</td>\n",
       "      <td>0.53</td>\n",
       "      <td>2</td>\n",
       "      <td>157</td>\n",
       "      <td>3</td>\n",
       "      <td>0</td>\n",
       "      <td>1</td>\n",
       "      <td>0</td>\n",
       "      <td>sales</td>\n",
       "      <td>low</td>\n",
       "    </tr>\n",
       "    <tr>\n",
       "      <th>1</th>\n",
       "      <td>0.80</td>\n",
       "      <td>0.86</td>\n",
       "      <td>5</td>\n",
       "      <td>262</td>\n",
       "      <td>6</td>\n",
       "      <td>0</td>\n",
       "      <td>1</td>\n",
       "      <td>0</td>\n",
       "      <td>sales</td>\n",
       "      <td>medium</td>\n",
       "    </tr>\n",
       "    <tr>\n",
       "      <th>2</th>\n",
       "      <td>0.11</td>\n",
       "      <td>0.88</td>\n",
       "      <td>7</td>\n",
       "      <td>272</td>\n",
       "      <td>4</td>\n",
       "      <td>0</td>\n",
       "      <td>1</td>\n",
       "      <td>0</td>\n",
       "      <td>sales</td>\n",
       "      <td>medium</td>\n",
       "    </tr>\n",
       "    <tr>\n",
       "      <th>3</th>\n",
       "      <td>0.37</td>\n",
       "      <td>0.52</td>\n",
       "      <td>2</td>\n",
       "      <td>159</td>\n",
       "      <td>3</td>\n",
       "      <td>0</td>\n",
       "      <td>1</td>\n",
       "      <td>0</td>\n",
       "      <td>sales</td>\n",
       "      <td>low</td>\n",
       "    </tr>\n",
       "    <tr>\n",
       "      <th>4</th>\n",
       "      <td>0.41</td>\n",
       "      <td>0.50</td>\n",
       "      <td>2</td>\n",
       "      <td>153</td>\n",
       "      <td>3</td>\n",
       "      <td>0</td>\n",
       "      <td>1</td>\n",
       "      <td>0</td>\n",
       "      <td>sales</td>\n",
       "      <td>low</td>\n",
       "    </tr>\n",
       "  </tbody>\n",
       "</table>\n",
       "</div>"
      ],
      "text/plain": [
       "   satisfactoryLevel  lastEvaluation  numberOfProjects  avgMonthlyHours  \\\n",
       "0               0.38            0.53                 2              157   \n",
       "1               0.80            0.86                 5              262   \n",
       "2               0.11            0.88                 7              272   \n",
       "3               0.37            0.52                 2              159   \n",
       "4               0.41            0.50                 2              153   \n",
       "\n",
       "   timeSpent.company  workAccident  left  promotionInLast5years   dept  salary  \n",
       "0                  3             0     1                      0  sales     low  \n",
       "1                  6             0     1                      0  sales  medium  \n",
       "2                  4             0     1                      0  sales  medium  \n",
       "3                  3             0     1                      0  sales     low  \n",
       "4                  3             0     1                      0  sales     low  "
      ]
     },
     "execution_count": 7,
     "metadata": {},
     "output_type": "execute_result"
    }
   ],
   "source": [
    "new_dataset.head()"
   ]
  },
  {
   "cell_type": "code",
   "execution_count": 8,
   "metadata": {},
   "outputs": [
    {
     "data": {
      "text/plain": [
       "array(['sales', 'accounting', 'hr', 'technical', 'support', 'IT',\n",
       "       'product_mng', 'marketing', 'management', 'RandD'], dtype=object)"
      ]
     },
     "execution_count": 8,
     "metadata": {},
     "output_type": "execute_result"
    }
   ],
   "source": [
    "new_dataset['dept'].unique()"
   ]
  },
  {
   "cell_type": "code",
   "execution_count": 9,
   "metadata": {},
   "outputs": [
    {
     "data": {
      "text/plain": [
       "array(['low', 'medium', 'high'], dtype=object)"
      ]
     },
     "execution_count": 9,
     "metadata": {},
     "output_type": "execute_result"
    }
   ],
   "source": [
    "new_dataset['salary'].unique()"
   ]
  },
  {
   "cell_type": "code",
   "execution_count": 10,
   "metadata": {},
   "outputs": [
    {
     "name": "stderr",
     "output_type": "stream",
     "text": [
      "C:\\Users\\Srishti\\AppData\\Local\\Continuum\\anaconda3\\lib\\site-packages\\ipykernel_launcher.py:3: SettingWithCopyWarning: \n",
      "A value is trying to be set on a copy of a slice from a DataFrame.\n",
      "Try using .loc[row_indexer,col_indexer] = value instead\n",
      "\n",
      "See the caveats in the documentation: http://pandas.pydata.org/pandas-docs/stable/indexing.html#indexing-view-versus-copy\n",
      "  This is separate from the ipykernel package so we can avoid doing imports until\n",
      "C:\\Users\\Srishti\\AppData\\Local\\Continuum\\anaconda3\\lib\\site-packages\\ipykernel_launcher.py:4: SettingWithCopyWarning: \n",
      "A value is trying to be set on a copy of a slice from a DataFrame.\n",
      "Try using .loc[row_indexer,col_indexer] = value instead\n",
      "\n",
      "See the caveats in the documentation: http://pandas.pydata.org/pandas-docs/stable/indexing.html#indexing-view-versus-copy\n",
      "  after removing the cwd from sys.path.\n"
     ]
    },
    {
     "data": {
      "text/html": [
       "<div>\n",
       "<style scoped>\n",
       "    .dataframe tbody tr th:only-of-type {\n",
       "        vertical-align: middle;\n",
       "    }\n",
       "\n",
       "    .dataframe tbody tr th {\n",
       "        vertical-align: top;\n",
       "    }\n",
       "\n",
       "    .dataframe thead th {\n",
       "        text-align: right;\n",
       "    }\n",
       "</style>\n",
       "<table border=\"1\" class=\"dataframe\">\n",
       "  <thead>\n",
       "    <tr style=\"text-align: right;\">\n",
       "      <th></th>\n",
       "      <th>satisfactoryLevel</th>\n",
       "      <th>lastEvaluation</th>\n",
       "      <th>numberOfProjects</th>\n",
       "      <th>avgMonthlyHours</th>\n",
       "      <th>timeSpent.company</th>\n",
       "      <th>workAccident</th>\n",
       "      <th>left</th>\n",
       "      <th>promotionInLast5years</th>\n",
       "      <th>dept</th>\n",
       "      <th>salary</th>\n",
       "    </tr>\n",
       "  </thead>\n",
       "  <tbody>\n",
       "    <tr>\n",
       "      <th>0</th>\n",
       "      <td>0.38</td>\n",
       "      <td>0.53</td>\n",
       "      <td>2</td>\n",
       "      <td>157</td>\n",
       "      <td>3</td>\n",
       "      <td>0</td>\n",
       "      <td>1</td>\n",
       "      <td>0</td>\n",
       "      <td>7</td>\n",
       "      <td>1</td>\n",
       "    </tr>\n",
       "    <tr>\n",
       "      <th>1</th>\n",
       "      <td>0.80</td>\n",
       "      <td>0.86</td>\n",
       "      <td>5</td>\n",
       "      <td>262</td>\n",
       "      <td>6</td>\n",
       "      <td>0</td>\n",
       "      <td>1</td>\n",
       "      <td>0</td>\n",
       "      <td>7</td>\n",
       "      <td>2</td>\n",
       "    </tr>\n",
       "    <tr>\n",
       "      <th>2</th>\n",
       "      <td>0.11</td>\n",
       "      <td>0.88</td>\n",
       "      <td>7</td>\n",
       "      <td>272</td>\n",
       "      <td>4</td>\n",
       "      <td>0</td>\n",
       "      <td>1</td>\n",
       "      <td>0</td>\n",
       "      <td>7</td>\n",
       "      <td>2</td>\n",
       "    </tr>\n",
       "    <tr>\n",
       "      <th>3</th>\n",
       "      <td>0.37</td>\n",
       "      <td>0.52</td>\n",
       "      <td>2</td>\n",
       "      <td>159</td>\n",
       "      <td>3</td>\n",
       "      <td>0</td>\n",
       "      <td>1</td>\n",
       "      <td>0</td>\n",
       "      <td>7</td>\n",
       "      <td>1</td>\n",
       "    </tr>\n",
       "    <tr>\n",
       "      <th>4</th>\n",
       "      <td>0.41</td>\n",
       "      <td>0.50</td>\n",
       "      <td>2</td>\n",
       "      <td>153</td>\n",
       "      <td>3</td>\n",
       "      <td>0</td>\n",
       "      <td>1</td>\n",
       "      <td>0</td>\n",
       "      <td>7</td>\n",
       "      <td>1</td>\n",
       "    </tr>\n",
       "  </tbody>\n",
       "</table>\n",
       "</div>"
      ],
      "text/plain": [
       "   satisfactoryLevel  lastEvaluation  numberOfProjects  avgMonthlyHours  \\\n",
       "0               0.38            0.53                 2              157   \n",
       "1               0.80            0.86                 5              262   \n",
       "2               0.11            0.88                 7              272   \n",
       "3               0.37            0.52                 2              159   \n",
       "4               0.41            0.50                 2              153   \n",
       "\n",
       "   timeSpent.company  workAccident  left  promotionInLast5years  dept  salary  \n",
       "0                  3             0     1                      0     7       1  \n",
       "1                  6             0     1                      0     7       2  \n",
       "2                  4             0     1                      0     7       2  \n",
       "3                  3             0     1                      0     7       1  \n",
       "4                  3             0     1                      0     7       1  "
      ]
     },
     "execution_count": 10,
     "metadata": {},
     "output_type": "execute_result"
    }
   ],
   "source": [
    "#converting the categorical data to numerical data:\n",
    "le=LabelEncoder()\n",
    "new_dataset['dept']=le.fit_transform(new_dataset['dept'])\n",
    "new_dataset['salary']=le.fit_transform(new_dataset['salary'])\n",
    "new_dataset.head()"
   ]
  },
  {
   "cell_type": "code",
   "execution_count": 11,
   "metadata": {},
   "outputs": [
    {
     "data": {
      "text/plain": [
       "<matplotlib.axes._subplots.AxesSubplot at 0x147d7442d68>"
      ]
     },
     "execution_count": 11,
     "metadata": {},
     "output_type": "execute_result"
    },
    {
     "data": {
      "image/png": "[encoded data removed]",
      "text/plain": [
       "<Figure size 1008x432 with 1 Axes>"
      ]
     },
     "metadata": {
      "needs_background": "light"
     },
     "output_type": "display_data"
    }
   ],
   "source": [
    "#checking for the independent data to be normally distributed or not\n",
    "plt.figure(figsize=(14,6))\n",
    "plt.ylim(0,0.12)\n",
    "sns.kdeplot(new_dataset['satisfactoryLevel'])\n",
    "sns.kdeplot(new_dataset['lastEvaluation'])\n",
    "sns.kdeplot(new_dataset['numberOfProjects'])\n",
    "sns.kdeplot(new_dataset['avgMonthlyHours'])\n",
    "sns.kdeplot(new_dataset['timeSpent.company'])\n",
    "sns.kdeplot(new_dataset['workAccident'])\n",
    "sns.kdeplot(new_dataset['promotionInLast5years'])\n",
    "sns.kdeplot(new_dataset['dept'])\n",
    "sns.kdeplot(new_dataset['salary'])"
   ]
  },
  {
   "cell_type": "code",
   "execution_count": 12,
   "metadata": {},
   "outputs": [
    {
     "data": {
      "text/plain": [
       "<matplotlib.axes._subplots.AxesSubplot at 0x147d7b84ba8>"
      ]
     },
     "execution_count": 12,
     "metadata": {},
     "output_type": "execute_result"
    },
    {
     "data": {
      "image/png": "[encoded data removed]",
      "text/plain": [
       "<Figure size 432x288 with 1 Axes>"
      ]
     },
     "metadata": {
      "needs_background": "light"
     },
     "output_type": "display_data"
    }
   ],
   "source": [
    "#checking for the dependent data to be normally distributed or not \n",
    "sns.kdeplot(new_dataset['left'])"
   ]
  },
  {
   "cell_type": "code",
   "execution_count": 13,
   "metadata": {},
   "outputs": [
    {
     "data": {
      "text/plain": [
       "Index(['satisfactoryLevel', 'lastEvaluation', 'numberOfProjects',\n",
       "       'avgMonthlyHours', 'timeSpent.company', 'workAccident', 'left',\n",
       "       'promotionInLast5years', 'dept', 'salary'],\n",
       "      dtype='object')"
      ]
     },
     "execution_count": 13,
     "metadata": {},
     "output_type": "execute_result"
    }
   ],
   "source": [
    "new_dataset.columns"
   ]
  },
  {
   "cell_type": "code",
   "execution_count": 14,
   "metadata": {},
   "outputs": [
    {
     "data": {
      "text/html": [
       "<div>\n",
       "<style scoped>\n",
       "    .dataframe tbody tr th:only-of-type {\n",
       "        vertical-align: middle;\n",
       "    }\n",
       "\n",
       "    .dataframe tbody tr th {\n",
       "        vertical-align: top;\n",
       "    }\n",
       "\n",
       "    .dataframe thead th {\n",
       "        text-align: right;\n",
       "    }\n",
       "</style>\n",
       "<table border=\"1\" class=\"dataframe\">\n",
       "  <thead>\n",
       "    <tr style=\"text-align: right;\">\n",
       "      <th></th>\n",
       "      <th>0</th>\n",
       "      <th>1</th>\n",
       "      <th>2</th>\n",
       "      <th>3</th>\n",
       "      <th>4</th>\n",
       "      <th>5</th>\n",
       "      <th>6</th>\n",
       "      <th>7</th>\n",
       "      <th>8</th>\n",
       "      <th>9</th>\n",
       "    </tr>\n",
       "  </thead>\n",
       "  <tbody>\n",
       "    <tr>\n",
       "      <th>0</th>\n",
       "      <td>0.002417</td>\n",
       "      <td>0.003371</td>\n",
       "      <td>0.012722</td>\n",
       "      <td>0.998696</td>\n",
       "      <td>0.019083</td>\n",
       "      <td>0.0</td>\n",
       "      <td>0.006361</td>\n",
       "      <td>0.0</td>\n",
       "      <td>0.044528</td>\n",
       "      <td>0.006361</td>\n",
       "    </tr>\n",
       "    <tr>\n",
       "      <th>1</th>\n",
       "      <td>0.003051</td>\n",
       "      <td>0.003280</td>\n",
       "      <td>0.019068</td>\n",
       "      <td>0.999153</td>\n",
       "      <td>0.022881</td>\n",
       "      <td>0.0</td>\n",
       "      <td>0.003814</td>\n",
       "      <td>0.0</td>\n",
       "      <td>0.026695</td>\n",
       "      <td>0.007627</td>\n",
       "    </tr>\n",
       "    <tr>\n",
       "      <th>2</th>\n",
       "      <td>0.000404</td>\n",
       "      <td>0.003233</td>\n",
       "      <td>0.025714</td>\n",
       "      <td>0.999191</td>\n",
       "      <td>0.014694</td>\n",
       "      <td>0.0</td>\n",
       "      <td>0.003673</td>\n",
       "      <td>0.0</td>\n",
       "      <td>0.025714</td>\n",
       "      <td>0.007347</td>\n",
       "    </tr>\n",
       "    <tr>\n",
       "      <th>3</th>\n",
       "      <td>0.002324</td>\n",
       "      <td>0.003266</td>\n",
       "      <td>0.012563</td>\n",
       "      <td>0.998729</td>\n",
       "      <td>0.018844</td>\n",
       "      <td>0.0</td>\n",
       "      <td>0.006281</td>\n",
       "      <td>0.0</td>\n",
       "      <td>0.043969</td>\n",
       "      <td>0.006281</td>\n",
       "    </tr>\n",
       "    <tr>\n",
       "      <th>4</th>\n",
       "      <td>0.002676</td>\n",
       "      <td>0.003263</td>\n",
       "      <td>0.013054</td>\n",
       "      <td>0.998627</td>\n",
       "      <td>0.019581</td>\n",
       "      <td>0.0</td>\n",
       "      <td>0.006527</td>\n",
       "      <td>0.0</td>\n",
       "      <td>0.045689</td>\n",
       "      <td>0.006527</td>\n",
       "    </tr>\n",
       "  </tbody>\n",
       "</table>\n",
       "</div>"
      ],
      "text/plain": [
       "          0         1         2         3         4    5         6    7  \\\n",
       "0  0.002417  0.003371  0.012722  0.998696  0.019083  0.0  0.006361  0.0   \n",
       "1  0.003051  0.003280  0.019068  0.999153  0.022881  0.0  0.003814  0.0   \n",
       "2  0.000404  0.003233  0.025714  0.999191  0.014694  0.0  0.003673  0.0   \n",
       "3  0.002324  0.003266  0.012563  0.998729  0.018844  0.0  0.006281  0.0   \n",
       "4  0.002676  0.003263  0.013054  0.998627  0.019581  0.0  0.006527  0.0   \n",
       "\n",
       "          8         9  \n",
       "0  0.044528  0.006361  \n",
       "1  0.026695  0.007627  \n",
       "2  0.025714  0.007347  \n",
       "3  0.043969  0.006281  \n",
       "4  0.045689  0.006527  "
      ]
     },
     "execution_count": 14,
     "metadata": {},
     "output_type": "execute_result"
    }
   ],
   "source": [
    "#trying to normalize the data:\n",
    "from sklearn.preprocessing import Normalizer\n",
    "mmsc=Normalizer()\n",
    "sc_data=mmsc.fit_transform(new_dataset)\n",
    "sc_data=pd.DataFrame(sc_data)\n",
    "sc_data.head()"
   ]
  },
  {
   "cell_type": "code",
   "execution_count": 15,
   "metadata": {},
   "outputs": [
    {
     "data": {
      "text/html": [
       "<div>\n",
       "<style scoped>\n",
       "    .dataframe tbody tr th:only-of-type {\n",
       "        vertical-align: middle;\n",
       "    }\n",
       "\n",
       "    .dataframe tbody tr th {\n",
       "        vertical-align: top;\n",
       "    }\n",
       "\n",
       "    .dataframe thead th {\n",
       "        text-align: right;\n",
       "    }\n",
       "</style>\n",
       "<table border=\"1\" class=\"dataframe\">\n",
       "  <thead>\n",
       "    <tr style=\"text-align: right;\">\n",
       "      <th></th>\n",
       "      <th>satisfactoryLevel</th>\n",
       "      <th>lastEvaluation</th>\n",
       "      <th>numberOfProjects</th>\n",
       "      <th>avgMonthlyHours</th>\n",
       "      <th>timeSpent.company</th>\n",
       "      <th>workAccident</th>\n",
       "      <th>left</th>\n",
       "      <th>promotionInLast5years</th>\n",
       "      <th>dept</th>\n",
       "      <th>salary</th>\n",
       "    </tr>\n",
       "  </thead>\n",
       "  <tbody>\n",
       "    <tr>\n",
       "      <th>0</th>\n",
       "      <td>0.002417</td>\n",
       "      <td>0.003371</td>\n",
       "      <td>0.012722</td>\n",
       "      <td>0.998696</td>\n",
       "      <td>0.019083</td>\n",
       "      <td>0.0</td>\n",
       "      <td>0.006361</td>\n",
       "      <td>0.0</td>\n",
       "      <td>0.044528</td>\n",
       "      <td>0.006361</td>\n",
       "    </tr>\n",
       "    <tr>\n",
       "      <th>1</th>\n",
       "      <td>0.003051</td>\n",
       "      <td>0.003280</td>\n",
       "      <td>0.019068</td>\n",
       "      <td>0.999153</td>\n",
       "      <td>0.022881</td>\n",
       "      <td>0.0</td>\n",
       "      <td>0.003814</td>\n",
       "      <td>0.0</td>\n",
       "      <td>0.026695</td>\n",
       "      <td>0.007627</td>\n",
       "    </tr>\n",
       "    <tr>\n",
       "      <th>2</th>\n",
       "      <td>0.000404</td>\n",
       "      <td>0.003233</td>\n",
       "      <td>0.025714</td>\n",
       "      <td>0.999191</td>\n",
       "      <td>0.014694</td>\n",
       "      <td>0.0</td>\n",
       "      <td>0.003673</td>\n",
       "      <td>0.0</td>\n",
       "      <td>0.025714</td>\n",
       "      <td>0.007347</td>\n",
       "    </tr>\n",
       "    <tr>\n",
       "      <th>3</th>\n",
       "      <td>0.002324</td>\n",
       "      <td>0.003266</td>\n",
       "      <td>0.012563</td>\n",
       "      <td>0.998729</td>\n",
       "      <td>0.018844</td>\n",
       "      <td>0.0</td>\n",
       "      <td>0.006281</td>\n",
       "      <td>0.0</td>\n",
       "      <td>0.043969</td>\n",
       "      <td>0.006281</td>\n",
       "    </tr>\n",
       "    <tr>\n",
       "      <th>4</th>\n",
       "      <td>0.002676</td>\n",
       "      <td>0.003263</td>\n",
       "      <td>0.013054</td>\n",
       "      <td>0.998627</td>\n",
       "      <td>0.019581</td>\n",
       "      <td>0.0</td>\n",
       "      <td>0.006527</td>\n",
       "      <td>0.0</td>\n",
       "      <td>0.045689</td>\n",
       "      <td>0.006527</td>\n",
       "    </tr>\n",
       "  </tbody>\n",
       "</table>\n",
       "</div>"
      ],
      "text/plain": [
       "   satisfactoryLevel  lastEvaluation  numberOfProjects  avgMonthlyHours  \\\n",
       "0           0.002417        0.003371          0.012722         0.998696   \n",
       "1           0.003051        0.003280          0.019068         0.999153   \n",
       "2           0.000404        0.003233          0.025714         0.999191   \n",
       "3           0.002324        0.003266          0.012563         0.998729   \n",
       "4           0.002676        0.003263          0.013054         0.998627   \n",
       "\n",
       "   timeSpent.company  workAccident      left  promotionInLast5years      dept  \\\n",
       "0           0.019083           0.0  0.006361                    0.0  0.044528   \n",
       "1           0.022881           0.0  0.003814                    0.0  0.026695   \n",
       "2           0.014694           0.0  0.003673                    0.0  0.025714   \n",
       "3           0.018844           0.0  0.006281                    0.0  0.043969   \n",
       "4           0.019581           0.0  0.006527                    0.0  0.045689   \n",
       "\n",
       "     salary  \n",
       "0  0.006361  \n",
       "1  0.007627  \n",
       "2  0.007347  \n",
       "3  0.006281  \n",
       "4  0.006527  "
      ]
     },
     "execution_count": 15,
     "metadata": {},
     "output_type": "execute_result"
    }
   ],
   "source": [
    "sc_data.columns=new_dataset.columns\n",
    "sc_data.head()"
   ]
  },
  {
   "cell_type": "code",
   "execution_count": 16,
   "metadata": {},
   "outputs": [
    {
     "data": {
      "text/plain": [
       "<matplotlib.axes._subplots.AxesSubplot at 0x147d7c875f8>"
      ]
     },
     "execution_count": 16,
     "metadata": {},
     "output_type": "execute_result"
    },
    {
     "data": {
      "image/png": "[encoded data removed]",
      "text/plain": [
       "<Figure size 1008x432 with 1 Axes>"
      ]
     },
     "metadata": {
      "needs_background": "light"
     },
     "output_type": "display_data"
    }
   ],
   "source": [
    "#checking for the independent data to be normally distributed or not after normalizing them:\n",
    "plt.figure(figsize=(14,6))\n",
    "plt.ylim(0,0.12)\n",
    "sns.kdeplot(sc_data['satisfactoryLevel'])\n",
    "sns.kdeplot(sc_data['lastEvaluation'])\n",
    "sns.kdeplot(sc_data['numberOfProjects'])\n",
    "sns.kdeplot(sc_data['avgMonthlyHours'])\n",
    "sns.kdeplot(sc_data['timeSpent.company'])\n",
    "sns.kdeplot(sc_data['workAccident'])\n",
    "sns.kdeplot(sc_data['promotionInLast5years'])\n",
    "sns.kdeplot(sc_data['dept'])\n",
    "sns.kdeplot(sc_data['salary'])"
   ]
  },
  {
   "cell_type": "code",
   "execution_count": 17,
   "metadata": {},
   "outputs": [
    {
     "data": {
      "text/plain": [
       "<matplotlib.axes._subplots.AxesSubplot at 0x147d7cf4198>"
      ]
     },
     "execution_count": 17,
     "metadata": {},
     "output_type": "execute_result"
    },
    {
     "data": {
      "image/png": "[encoded data removed]",
      "text/plain": [
       "<Figure size 432x288 with 1 Axes>"
      ]
     },
     "metadata": {
      "needs_background": "light"
     },
     "output_type": "display_data"
    }
   ],
   "source": [
    "#checking for the dependent data to be normally distributed or not after normalizing it:\n",
    "sns.kdeplot(sc_data['left'])"
   ]
  },
  {
   "cell_type": "markdown",
   "metadata": {},
   "source": [
    "Note: Even though I have applied all the normalizing techniques previously but nothing is impacting much to get the data to be distributed normally. Therefore, I have used the data normally instead of using the normalized data. And also am not dropping any of the columns because each of the attributes are important and valid for leaving or not leaving a company."
   ]
  },
  {
   "cell_type": "code",
   "execution_count": 18,
   "metadata": {},
   "outputs": [],
   "source": [
    "#breaking the data into independent and dependent variable as X and Y respectively:\n",
    "X=new_dataset[['satisfactoryLevel', 'lastEvaluation', 'numberOfProjects',\n",
    "       'avgMonthlyHours', 'timeSpent.company', 'workAccident', 'promotionInLast5years', 'dept', 'salary']]\n",
    "Y=new_dataset['left']"
   ]
  },
  {
   "cell_type": "code",
   "execution_count": 19,
   "metadata": {},
   "outputs": [
    {
     "data": {
      "text/plain": [
       "(11991, 9)"
      ]
     },
     "execution_count": 19,
     "metadata": {},
     "output_type": "execute_result"
    }
   ],
   "source": [
    "X.shape"
   ]
  },
  {
   "cell_type": "code",
   "execution_count": 20,
   "metadata": {},
   "outputs": [
    {
     "data": {
      "text/plain": [
       "(11991,)"
      ]
     },
     "execution_count": 20,
     "metadata": {},
     "output_type": "execute_result"
    }
   ],
   "source": [
    "Y.shape"
   ]
  },
  {
   "cell_type": "code",
   "execution_count": 21,
   "metadata": {},
   "outputs": [],
   "source": [
    "#splitting the data into training and testing set:\n",
    "x_train,x_test,y_train,y_test=train_test_split(X,Y,test_size=0.2,random_state=0)"
   ]
  },
  {
   "cell_type": "markdown",
   "metadata": {},
   "source": [
    "### KNN:"
   ]
  },
  {
   "cell_type": "code",
   "execution_count": 22,
   "metadata": {},
   "outputs": [],
   "source": [
    "##Fitting the KNN Classifier model for k=3:\n",
    "knn=KNeighborsClassifier(n_neighbors=3) ##k=3\n",
    "knn.fit(x_train,y_train)\n",
    "prediction=knn.predict(x_test)"
   ]
  },
  {
   "cell_type": "code",
   "execution_count": 23,
   "metadata": {},
   "outputs": [
    {
     "name": "stdout",
     "output_type": "stream",
     "text": [
      "KNN Score= 93.78907878282618\n"
     ]
    }
   ],
   "source": [
    "#Compute accuracy and display confusion matrix:\n",
    "print('KNN Score=',knn.score(x_test,y_test)*100)   ##accuracy of the model"
   ]
  },
  {
   "cell_type": "code",
   "execution_count": 24,
   "metadata": {},
   "outputs": [
    {
     "name": "stdout",
     "output_type": "stream",
     "text": [
      "Confusion Matrix is:\n",
      "[[1911   96]\n",
      " [  53  339]]\n"
     ]
    }
   ],
   "source": [
    "cm=confusion_matrix(y_test,prediction)    \n",
    "print('Confusion Matrix is:',cm,sep='\\n')"
   ]
  },
  {
   "cell_type": "code",
   "execution_count": 25,
   "metadata": {},
   "outputs": [
    {
     "data": {
      "text/plain": [
       "array([[1.        , 0.        ],\n",
       "       [1.        , 0.        ],\n",
       "       [1.        , 0.        ],\n",
       "       ...,\n",
       "       [0.66666667, 0.33333333],\n",
       "       [1.        , 0.        ],\n",
       "       [1.        , 0.        ]])"
      ]
     },
     "execution_count": 25,
     "metadata": {},
     "output_type": "execute_result"
    }
   ],
   "source": [
    "probs=knn.predict_proba(x_test)\n",
    "probs"
   ]
  },
  {
   "cell_type": "code",
   "execution_count": 26,
   "metadata": {},
   "outputs": [
    {
     "name": "stdout",
     "output_type": "stream",
     "text": [
      "Area under the curve 0.9307856176850412\n",
      "fpr [0.         0.02441455 0.04783259 0.10812157 1.        ]\n",
      "tpr [0.         0.68112245 0.86479592 0.90816327 1.        ]\n",
      "threshold [2.         1.         0.66666667 0.33333333 0.        ]\n"
     ]
    }
   ],
   "source": [
    "prob_positive=probs[:,1]\n",
    "fpr,tpr,threshold=metrics.roc_curve(y_test,prob_positive)\n",
    "roc_auc=metrics.auc(fpr,tpr)\n",
    "print('Area under the curve',roc_auc)\n",
    "print('fpr',fpr)\n",
    "print('tpr',tpr)\n",
    "print('threshold',threshold)"
   ]
  },
  {
   "cell_type": "code",
   "execution_count": 27,
   "metadata": {
    "scrolled": true
   },
   "outputs": [
    {
     "data": {
      "image/png": "[encoded data removed]",
      "text/plain": [
       "<Figure size 432x288 with 1 Axes>"
      ]
     },
     "metadata": {
      "needs_background": "light"
     },
     "output_type": "display_data"
    }
   ],
   "source": [
    "##plot the roc curve:\n",
    "plt.title('Receiver Operating Characteristic')\n",
    "plt.plot(fpr,tpr,'orange',label='AUC = %0.2f'%roc_auc)\n",
    "plt.legend(loc='lower right')\n",
    "plt.plot([0,1],[0,1],color='darkblue',linestyle='--')\n",
    "plt.ylabel('True Positive Rate')\n",
    "plt.xlabel('False Positive Rate')\n",
    "plt.show()"
   ]
  },
  {
   "cell_type": "markdown",
   "metadata": {},
   "source": [
    "### Logistic Regression:"
   ]
  },
  {
   "cell_type": "code",
   "execution_count": 28,
   "metadata": {},
   "outputs": [
    {
     "name": "stderr",
     "output_type": "stream",
     "text": [
      "C:\\Users\\Srishti\\AppData\\Local\\Continuum\\anaconda3\\lib\\site-packages\\sklearn\\linear_model\\logistic.py:432: FutureWarning: Default solver will be changed to 'lbfgs' in 0.22. Specify a solver to silence this warning.\n",
      "  FutureWarning)\n"
     ]
    }
   ],
   "source": [
    "##Fitting the Logistic Regression model:\n",
    "\n",
    "left_LR=LogisticRegression()\n",
    "left_LR.fit(x_train,y_train)\n",
    "prediction1=left_LR.predict(x_test)"
   ]
  },
  {
   "cell_type": "code",
   "execution_count": 29,
   "metadata": {},
   "outputs": [
    {
     "name": "stdout",
     "output_type": "stream",
     "text": [
      "Accuracy score: 84.45185493955815\n"
     ]
    }
   ],
   "source": [
    "#Compute accuracy and display confusion matrix:\n",
    "score=left_LR.score(x_test,y_test)\n",
    "print('Accuracy score:',score*100)"
   ]
  },
  {
   "cell_type": "code",
   "execution_count": 30,
   "metadata": {},
   "outputs": [
    {
     "data": {
      "text/plain": [
       "array([[1944,   63],\n",
       "       [ 310,   82]], dtype=int64)"
      ]
     },
     "execution_count": 30,
     "metadata": {},
     "output_type": "execute_result"
    }
   ],
   "source": [
    "cm1=confusion_matrix(y_test,prediction1)\n",
    "cm1"
   ]
  },
  {
   "cell_type": "code",
   "execution_count": 31,
   "metadata": {},
   "outputs": [
    {
     "data": {
      "text/plain": [
       "array([[0.82894335, 0.17105665],\n",
       "       [0.90732579, 0.09267421],\n",
       "       [0.96023243, 0.03976757],\n",
       "       ...,\n",
       "       [0.84732186, 0.15267814],\n",
       "       [0.81230198, 0.18769802],\n",
       "       [0.80857712, 0.19142288]])"
      ]
     },
     "execution_count": 31,
     "metadata": {},
     "output_type": "execute_result"
    }
   ],
   "source": [
    "probs1=left_LR.predict_proba(x_test)\n",
    "probs1"
   ]
  },
  {
   "cell_type": "code",
   "execution_count": 32,
   "metadata": {},
   "outputs": [
    {
     "name": "stdout",
     "output_type": "stream",
     "text": [
      "Area under the curve 0.8326291652684991\n",
      "fpr [0.00000000e+00 4.98256104e-04 4.48430493e-03 4.48430493e-03\n",
      " 1.09616343e-02 1.09616343e-02 1.19581465e-02 1.19581465e-02\n",
      " 1.29546587e-02 1.29546587e-02 1.34529148e-02 1.34529148e-02\n",
      " 1.49476831e-02 1.49476831e-02 1.64424514e-02 1.64424514e-02\n",
      " 1.74389636e-02 1.74389636e-02 1.79372197e-02 1.79372197e-02\n",
      " 1.84354758e-02 1.84354758e-02 1.89337319e-02 1.89337319e-02\n",
      " 1.94319880e-02 1.94319880e-02 1.99302441e-02 1.99302441e-02\n",
      " 2.09267564e-02 2.09267564e-02 2.14250125e-02 2.14250125e-02\n",
      " 2.19232686e-02 2.19232686e-02 2.24215247e-02 2.24215247e-02\n",
      " 2.34180369e-02 2.34180369e-02 2.49128052e-02 2.49128052e-02\n",
      " 2.69058296e-02 2.69058296e-02 2.74040857e-02 2.74040857e-02\n",
      " 2.79023418e-02 2.79023418e-02 2.84005979e-02 2.84005979e-02\n",
      " 2.93971101e-02 2.93971101e-02 2.98953662e-02 2.98953662e-02\n",
      " 3.08918784e-02 3.08918784e-02 3.13901345e-02 3.13901345e-02\n",
      " 3.18883906e-02 3.18883906e-02 3.23866467e-02 3.23866467e-02\n",
      " 3.38814150e-02 3.38814150e-02 3.43796712e-02 3.43796712e-02\n",
      " 3.53761834e-02 3.53761834e-02 3.58744395e-02 3.58744395e-02\n",
      " 3.68709517e-02 3.68709517e-02 3.73692078e-02 3.73692078e-02\n",
      " 4.03587444e-02 4.03587444e-02 4.08570005e-02 4.08570005e-02\n",
      " 4.13552566e-02 4.13552566e-02 4.58395615e-02 4.58395615e-02\n",
      " 4.73343298e-02 4.73343298e-02 5.38116592e-02 5.38116592e-02\n",
      " 5.43099153e-02 5.43099153e-02 6.02889885e-02 6.02889885e-02\n",
      " 6.77628301e-02 6.77628301e-02 6.87593423e-02 6.87593423e-02\n",
      " 6.97558545e-02 6.97558545e-02 7.07523667e-02 7.07523667e-02\n",
      " 7.32436472e-02 7.32436472e-02 7.37419033e-02 7.37419033e-02\n",
      " 7.42401594e-02 7.42401594e-02 7.57349278e-02 7.57349278e-02\n",
      " 7.62331839e-02 7.62331839e-02 7.72296961e-02 7.72296961e-02\n",
      " 7.82262083e-02 7.82262083e-02 8.02192327e-02 8.02192327e-02\n",
      " 8.07174888e-02 8.07174888e-02 8.12157449e-02 8.12157449e-02\n",
      " 8.22122571e-02 8.22122571e-02 8.32087693e-02 8.32087693e-02\n",
      " 8.37070254e-02 8.37070254e-02 8.42052815e-02 8.42052815e-02\n",
      " 8.47035376e-02 8.47035376e-02 8.52017937e-02 8.52017937e-02\n",
      " 8.71948181e-02 8.71948181e-02 8.76930742e-02 8.76930742e-02\n",
      " 8.81913303e-02 8.81913303e-02 8.86895864e-02 8.86895864e-02\n",
      " 8.91878426e-02 8.91878426e-02 9.11808670e-02 9.11808670e-02\n",
      " 9.21773792e-02 9.21773792e-02 9.26756353e-02 9.26756353e-02\n",
      " 9.41704036e-02 9.41704036e-02 9.46686597e-02 9.46686597e-02\n",
      " 9.51669158e-02 9.51669158e-02 9.56651719e-02 9.56651719e-02\n",
      " 9.61634280e-02 9.61634280e-02 9.66616841e-02 9.66616841e-02\n",
      " 9.81564524e-02 9.81564524e-02 9.96512207e-02 9.96512207e-02\n",
      " 1.00149477e-01 1.00149477e-01 1.00647733e-01 1.00647733e-01\n",
      " 1.02640757e-01 1.02640757e-01 1.03139013e-01 1.03139013e-01\n",
      " 1.04135526e-01 1.04135526e-01 1.04633782e-01 1.04633782e-01\n",
      " 1.06128550e-01 1.06128550e-01 1.07125062e-01 1.07125062e-01\n",
      " 1.07623318e-01 1.07623318e-01 1.11609367e-01 1.11609367e-01\n",
      " 1.12605879e-01 1.12605879e-01 1.16093672e-01 1.16093672e-01\n",
      " 1.16591928e-01 1.16591928e-01 1.17090184e-01 1.17090184e-01\n",
      " 1.18086697e-01 1.18086697e-01 1.18584953e-01 1.18584953e-01\n",
      " 1.19083209e-01 1.19083209e-01 1.19581465e-01 1.19581465e-01\n",
      " 1.21076233e-01 1.21076233e-01 1.22571001e-01 1.22571001e-01\n",
      " 1.23567514e-01 1.23567514e-01 1.24065770e-01 1.24065770e-01\n",
      " 1.26058794e-01 1.26058794e-01 1.26557050e-01 1.26557050e-01\n",
      " 1.28550075e-01 1.28550075e-01 1.30044843e-01 1.30044843e-01\n",
      " 1.30543099e-01 1.30543099e-01 1.31041355e-01 1.31041355e-01\n",
      " 1.33532636e-01 1.33532636e-01 1.34030892e-01 1.34030892e-01\n",
      " 1.36023916e-01 1.36023916e-01 1.39013453e-01 1.39013453e-01\n",
      " 1.42999502e-01 1.42999502e-01 1.44992526e-01 1.44992526e-01\n",
      " 1.45989038e-01 1.45989038e-01 1.48480319e-01 1.48480319e-01\n",
      " 1.49975087e-01 1.49975087e-01 1.50971599e-01 1.50971599e-01\n",
      " 1.57947185e-01 1.57947185e-01 1.62929746e-01 1.62929746e-01\n",
      " 1.64424514e-01 1.64424514e-01 1.66915795e-01 1.66915795e-01\n",
      " 1.81863478e-01 1.81863478e-01 1.85351271e-01 1.85351271e-01\n",
      " 1.85849527e-01 1.85849527e-01 2.03288490e-01 2.03288490e-01\n",
      " 2.04285002e-01 2.04285002e-01 2.05281515e-01 2.05281515e-01\n",
      " 2.05779771e-01 2.05779771e-01 2.12755356e-01 2.12755356e-01\n",
      " 2.21225710e-01 2.21225710e-01 2.22720478e-01 2.22720478e-01\n",
      " 2.23716991e-01 2.23716991e-01 2.25710015e-01 2.25710015e-01\n",
      " 2.36671649e-01 2.36671649e-01 2.37169905e-01 2.37169905e-01\n",
      " 2.49626308e-01 2.49626308e-01 2.51619332e-01 2.51619332e-01\n",
      " 2.53612357e-01 2.53612357e-01 2.55605381e-01 2.55605381e-01\n",
      " 2.56103637e-01 2.56103637e-01 2.62580967e-01 2.62580967e-01\n",
      " 2.65570503e-01 2.65570503e-01 2.66068759e-01 2.66068759e-01\n",
      " 2.69058296e-01 2.69058296e-01 2.74040857e-01 2.74040857e-01\n",
      " 2.80019930e-01 2.80019930e-01 3.01444943e-01 3.01444943e-01\n",
      " 3.01943199e-01 3.01943199e-01 3.06427504e-01 3.06427504e-01\n",
      " 3.06925760e-01 3.06925760e-01 3.13403089e-01 3.13403089e-01\n",
      " 3.17389138e-01 3.17389138e-01 3.20378675e-01 3.20378675e-01\n",
      " 3.22869955e-01 3.22869955e-01 3.23368211e-01 3.23368211e-01\n",
      " 3.23866467e-01 3.23866467e-01 3.26856004e-01 3.26856004e-01\n",
      " 3.28849028e-01 3.28849028e-01 3.32336821e-01 3.32336821e-01\n",
      " 3.34329846e-01 3.34329846e-01 3.35326358e-01 3.35326358e-01\n",
      " 3.36322870e-01 3.36322870e-01 3.37817638e-01 3.37817638e-01\n",
      " 3.40308919e-01 3.40308919e-01 3.41803687e-01 3.41803687e-01\n",
      " 3.47782760e-01 3.47782760e-01 3.55256602e-01 3.55256602e-01\n",
      " 3.56751370e-01 3.56751370e-01 3.64723468e-01 3.64723468e-01\n",
      " 3.66716492e-01 3.66716492e-01 3.76681614e-01 3.76681614e-01\n",
      " 3.79671151e-01 3.79671151e-01 3.80169407e-01 3.80169407e-01\n",
      " 3.89636273e-01 3.89636273e-01 4.05580468e-01 4.05580468e-01\n",
      " 4.12556054e-01 4.12556054e-01 4.14050822e-01 4.14050822e-01\n",
      " 4.15545590e-01 4.15545590e-01 4.16043847e-01 4.16043847e-01\n",
      " 4.18535127e-01 4.18535127e-01 4.19033383e-01 4.19033383e-01\n",
      " 4.19531639e-01 4.19531639e-01 4.20029895e-01 4.20029895e-01\n",
      " 4.30493274e-01 4.30493274e-01 4.32486298e-01 4.32486298e-01\n",
      " 4.37468859e-01 4.37468859e-01 4.38963627e-01 4.38963627e-01\n",
      " 4.41454908e-01 4.41454908e-01 4.53413054e-01 4.53413054e-01\n",
      " 4.61883408e-01 4.61883408e-01 4.65869457e-01 4.65869457e-01\n",
      " 4.73841555e-01 4.73841555e-01 4.76332835e-01 4.76332835e-01\n",
      " 4.89785750e-01 4.89785750e-01 4.91778774e-01 4.91778774e-01\n",
      " 4.94270055e-01 4.94270055e-01 4.96263079e-01 4.96263079e-01\n",
      " 4.99252616e-01 4.99252616e-01 5.06228201e-01 5.06228201e-01\n",
      " 5.10712506e-01 5.10712506e-01 5.15196811e-01 5.15196811e-01\n",
      " 5.15695067e-01 5.15695067e-01 5.21674141e-01 5.21674141e-01\n",
      " 5.24663677e-01 5.24663677e-01 5.33134031e-01 5.33134031e-01\n",
      " 5.43099153e-01 5.43099153e-01 5.44593921e-01 5.44593921e-01\n",
      " 5.50074738e-01 5.50074738e-01 5.50572995e-01 5.50572995e-01\n",
      " 5.67513702e-01 5.67513702e-01 5.76980568e-01 5.76980568e-01\n",
      " 6.00398605e-01 6.00398605e-01 6.61684106e-01 6.61684106e-01\n",
      " 6.94569008e-01 6.94569008e-01 7.25959143e-01 7.25959143e-01\n",
      " 7.60837070e-01 7.60837070e-01 8.09666168e-01 8.09666168e-01\n",
      " 8.25610364e-01 8.25610364e-01 8.79422023e-01 8.79422023e-01\n",
      " 8.97857499e-01 8.97857499e-01 1.00000000e+00]\n",
      "tpr [0.         0.         0.         0.00255102 0.00255102 0.00765306\n",
      " 0.00765306 0.01020408 0.01020408 0.01530612 0.01530612 0.0255102\n",
      " 0.0255102  0.03316327 0.03316327 0.03571429 0.03571429 0.04846939\n",
      " 0.04846939 0.06122449 0.06122449 0.06887755 0.06887755 0.07908163\n",
      " 0.07908163 0.08163265 0.08163265 0.08673469 0.08673469 0.10204082\n",
      " 0.10204082 0.1122449  0.1122449  0.11479592 0.11479592 0.1377551\n",
      " 0.1377551  0.14540816 0.14540816 0.1505102  0.1505102  0.15306122\n",
      " 0.15306122 0.15561224 0.15561224 0.15816327 0.15816327 0.16326531\n",
      " 0.16326531 0.17857143 0.17857143 0.19897959 0.19897959 0.20918367\n",
      " 0.20918367 0.21428571 0.21428571 0.21683673 0.21683673 0.21938776\n",
      " 0.21938776 0.22193878 0.22193878 0.2244898  0.2244898  0.22704082\n",
      " 0.22704082 0.22959184 0.22959184 0.23469388 0.23469388 0.2372449\n",
      " 0.2372449  0.24489796 0.24489796 0.24744898 0.24744898 0.25255102\n",
      " 0.25255102 0.25765306 0.25765306 0.26020408 0.26020408 0.2627551\n",
      " 0.2627551  0.26530612 0.26530612 0.26785714 0.26785714 0.27040816\n",
      " 0.27040816 0.2755102  0.2755102  0.28061224 0.28061224 0.28571429\n",
      " 0.28571429 0.28826531 0.28826531 0.30102041 0.30102041 0.30357143\n",
      " 0.30357143 0.30612245 0.30612245 0.31122449 0.31122449 0.31632653\n",
      " 0.31632653 0.32653061 0.32653061 0.32908163 0.32908163 0.33418367\n",
      " 0.33418367 0.33673469 0.33673469 0.34183673 0.34183673 0.3494898\n",
      " 0.3494898  0.35969388 0.35969388 0.3622449  0.3622449  0.36479592\n",
      " 0.36479592 0.36989796 0.36989796 0.38265306 0.38265306 0.38520408\n",
      " 0.38520408 0.39030612 0.39030612 0.39285714 0.39285714 0.39540816\n",
      " 0.39540816 0.40561224 0.40561224 0.41581633 0.41581633 0.41836735\n",
      " 0.41836735 0.43622449 0.43622449 0.44132653 0.44132653 0.44642857\n",
      " 0.44642857 0.45153061 0.45153061 0.45663265 0.45663265 0.46428571\n",
      " 0.46428571 0.46683673 0.46683673 0.46938776 0.46938776 0.47704082\n",
      " 0.47704082 0.48214286 0.48214286 0.48469388 0.48469388 0.4872449\n",
      " 0.4872449  0.48979592 0.48979592 0.50255102 0.50255102 0.50765306\n",
      " 0.50765306 0.52040816 0.52040816 0.53061224 0.53061224 0.53316327\n",
      " 0.53316327 0.53826531 0.53826531 0.55612245 0.55612245 0.56887755\n",
      " 0.56887755 0.57142857 0.57142857 0.57653061 0.57653061 0.58163265\n",
      " 0.58163265 0.59693878 0.59693878 0.6122449  0.6122449  0.61734694\n",
      " 0.61734694 0.625      0.625      0.63520408 0.63520408 0.6377551\n",
      " 0.6377551  0.64030612 0.64030612 0.64795918 0.64795918 0.65816327\n",
      " 0.65816327 0.66071429 0.66071429 0.66581633 0.66581633 0.67091837\n",
      " 0.67091837 0.67346939 0.67346939 0.68112245 0.68112245 0.68367347\n",
      " 0.68367347 0.68622449 0.68622449 0.68877551 0.68877551 0.69387755\n",
      " 0.69387755 0.69642857 0.69642857 0.69897959 0.69897959 0.70153061\n",
      " 0.70153061 0.70408163 0.70408163 0.70663265 0.70663265 0.70918367\n",
      " 0.70918367 0.71173469 0.71173469 0.71428571 0.71428571 0.71683673\n",
      " 0.71683673 0.71938776 0.71938776 0.72193878 0.72193878 0.7244898\n",
      " 0.7244898  0.72704082 0.72704082 0.72959184 0.72959184 0.73214286\n",
      " 0.73214286 0.73469388 0.73469388 0.7372449  0.7372449  0.73979592\n",
      " 0.73979592 0.74234694 0.74234694 0.74744898 0.74744898 0.75\n",
      " 0.75       0.75510204 0.75510204 0.75765306 0.75765306 0.76020408\n",
      " 0.76020408 0.7627551  0.7627551  0.76785714 0.76785714 0.77040816\n",
      " 0.77040816 0.77295918 0.77295918 0.77806122 0.77806122 0.78061224\n",
      " 0.78061224 0.78316327 0.78316327 0.78571429 0.78571429 0.78826531\n",
      " 0.78826531 0.79081633 0.79081633 0.79336735 0.79336735 0.79591837\n",
      " 0.79591837 0.79846939 0.79846939 0.80102041 0.80102041 0.80357143\n",
      " 0.80357143 0.80612245 0.80612245 0.80867347 0.80867347 0.81122449\n",
      " 0.81122449 0.81377551 0.81377551 0.81632653 0.81632653 0.81887755\n",
      " 0.81887755 0.82397959 0.82397959 0.82653061 0.82653061 0.82908163\n",
      " 0.82908163 0.83163265 0.83163265 0.83418367 0.83418367 0.83928571\n",
      " 0.83928571 0.84183673 0.84183673 0.84438776 0.84438776 0.8494898\n",
      " 0.8494898  0.85204082 0.85204082 0.85459184 0.85459184 0.85714286\n",
      " 0.85714286 0.85969388 0.85969388 0.86479592 0.86479592 0.86734694\n",
      " 0.86734694 0.86989796 0.86989796 0.87244898 0.87244898 0.875\n",
      " 0.875      0.88010204 0.88010204 0.88520408 0.88520408 0.8877551\n",
      " 0.8877551  0.89030612 0.89030612 0.89285714 0.89285714 0.89540816\n",
      " 0.89540816 0.89795918 0.89795918 0.9005102  0.9005102  0.90306122\n",
      " 0.90306122 0.90816327 0.90816327 0.91071429 0.91071429 0.91326531\n",
      " 0.91326531 0.91581633 0.91581633 0.91836735 0.91836735 0.92091837\n",
      " 0.92091837 0.92346939 0.92346939 0.92602041 0.92602041 0.92857143\n",
      " 0.92857143 0.93112245 0.93112245 0.93367347 0.93367347 0.93877551\n",
      " 0.93877551 0.94132653 0.94132653 0.94387755 0.94387755 0.94642857\n",
      " 0.94642857 0.95153061 0.95153061 0.95408163 0.95408163 0.95663265\n",
      " 0.95663265 0.95918367 0.95918367 0.96173469 0.96173469 0.96428571\n",
      " 0.96428571 0.96683673 0.96683673 0.96938776 0.96938776 0.97193878\n",
      " 0.97193878 0.9744898  0.9744898  0.97704082 0.97704082 0.97959184\n",
      " 0.97959184 0.98214286 0.98214286 0.98469388 0.98469388 0.9872449\n",
      " 0.9872449  0.98979592 0.98979592 0.99234694 0.99234694 0.99489796\n",
      " 0.99489796 0.99744898 0.99744898 1.         1.        ]\n",
      "threshold [1.89359537 0.89359537 0.73338079 0.73221809 0.66201181 0.6542157\n",
      " 0.65001652 0.64191896 0.63598859 0.63263612 0.63140971 0.61687974\n",
      " 0.60510541 0.6035284  0.60009346 0.59977113 0.59831008 0.5921624\n",
      " 0.59107931 0.58576772 0.58491865 0.58060281 0.57881551 0.57399161\n",
      " 0.57374312 0.57334916 0.57240987 0.57145797 0.5702498  0.56464272\n",
      " 0.56449364 0.56160102 0.56132776 0.56077329 0.55844119 0.55301784\n",
      " 0.55147495 0.54779065 0.54553336 0.54406973 0.54103376 0.53991046\n",
      " 0.53794715 0.53648437 0.5359052  0.53404276 0.53240318 0.53021861\n",
      " 0.52813719 0.52323082 0.52128015 0.51323433 0.51168509 0.50552442\n",
      " 0.50051377 0.49783458 0.49713841 0.4926945  0.49251373 0.49147768\n",
      " 0.49065732 0.4899783  0.4886863  0.4855628  0.48456814 0.48053576\n",
      " 0.48000921 0.47954906 0.47483714 0.47326549 0.47322178 0.47017051\n",
      " 0.46491259 0.44886491 0.44879737 0.44829744 0.44828826 0.4440317\n",
      " 0.42666312 0.42575808 0.42327839 0.42191483 0.40821555 0.40433625\n",
      " 0.40358851 0.40336602 0.38031252 0.37724894 0.36370369 0.36303004\n",
      " 0.35807643 0.35594534 0.35545155 0.35457183 0.35261125 0.35026601\n",
      " 0.34522315 0.34352056 0.34339641 0.33468735 0.33457117 0.33450686\n",
      " 0.33346902 0.33336229 0.33293764 0.33030796 0.3289473  0.32823905\n",
      " 0.32765372 0.32377997 0.32054908 0.31927998 0.31861224 0.31819854\n",
      " 0.31815034 0.31810767 0.3177213  0.3171326  0.31655525 0.31526857\n",
      " 0.31526143 0.31325157 0.31265421 0.31253687 0.31253149 0.31251015\n",
      " 0.3119766  0.31159811 0.31027618 0.3086906  0.30855774 0.30851131\n",
      " 0.30794954 0.30608162 0.30565374 0.30547693 0.3045427  0.30451762\n",
      " 0.30344199 0.30228077 0.30134115 0.30094368 0.30093046 0.30081473\n",
      " 0.29972054 0.29657108 0.29651101 0.29571337 0.29561913 0.29504209\n",
      " 0.2949487  0.29295159 0.29175862 0.29147814 0.2912717  0.29083402\n",
      " 0.29055505 0.29032516 0.28955447 0.28953082 0.28949607 0.28879533\n",
      " 0.28876517 0.28851058 0.28752418 0.28617387 0.2854084  0.28516954\n",
      " 0.283633   0.28341685 0.28313076 0.28147696 0.2813022  0.28057101\n",
      " 0.27986147 0.27896665 0.27862559 0.27819701 0.27672673 0.27672364\n",
      " 0.27656798 0.27646628 0.27533984 0.27318192 0.2727048  0.27130386\n",
      " 0.27095617 0.27085627 0.2699177  0.26954546 0.26944054 0.26853943\n",
      " 0.26846929 0.26733415 0.26723833 0.26568502 0.26498955 0.26344978\n",
      " 0.26274049 0.26175315 0.26108015 0.25890461 0.25782168 0.25711834\n",
      " 0.25593363 0.2558427  0.25577366 0.25513321 0.25383818 0.25272052\n",
      " 0.25191566 0.25158396 0.25118121 0.25006258 0.24964236 0.24920733\n",
      " 0.24626555 0.24550243 0.24523841 0.24265368 0.2402198  0.24020668\n",
      " 0.23776986 0.23764124 0.23465463 0.23452754 0.23250004 0.23113677\n",
      " 0.23055198 0.23038336 0.2281777  0.22812814 0.22788026 0.22778079\n",
      " 0.22755164 0.22746852 0.22283289 0.22169602 0.21902479 0.21854531\n",
      " 0.21721768 0.21642097 0.21364514 0.21346236 0.20528881 0.20502273\n",
      " 0.20336266 0.20330692 0.20313257 0.20294267 0.19626021 0.19606056\n",
      " 0.19536402 0.19486416 0.19445709 0.19419343 0.19397444 0.19317234\n",
      " 0.1910986  0.19059082 0.18545396 0.18545217 0.18484169 0.18477274\n",
      " 0.18462013 0.18449695 0.1838857  0.18333789 0.1807174  0.18040475\n",
      " 0.18039357 0.18015871 0.17571203 0.17553753 0.17412737 0.17401495\n",
      " 0.17379467 0.1732951  0.17271431 0.17235515 0.17232496 0.17232169\n",
      " 0.16984634 0.16972233 0.16789939 0.16779051 0.16763222 0.16751588\n",
      " 0.16605354 0.16597506 0.16446051 0.16397644 0.16226998 0.16210633\n",
      " 0.15347379 0.15342587 0.15327966 0.15310704 0.15101241 0.15093999\n",
      " 0.15076328 0.150741   0.1490558  0.14903344 0.14741724 0.14704436\n",
      " 0.14667711 0.14630146 0.14561816 0.14551124 0.14530026 0.14524144\n",
      " 0.14474941 0.14444253 0.14353487 0.1434646  0.14263299 0.14242444\n",
      " 0.14140546 0.14131417 0.14101218 0.14080337 0.14067291 0.14017614\n",
      " 0.13998293 0.13996995 0.13990119 0.13973057 0.13851837 0.1381244\n",
      " 0.1376516  0.13757588 0.13672999 0.13659218 0.13490045 0.13470606\n",
      " 0.13443413 0.13443001 0.13195304 0.13191585 0.13145262 0.13142999\n",
      " 0.12849788 0.12827765 0.1276568  0.12688433 0.12663848 0.126628\n",
      " 0.12467906 0.12456009 0.12103867 0.1208649  0.11874973 0.11866413\n",
      " 0.1185056  0.11815078 0.11797674 0.1176709  0.1174664  0.11745496\n",
      " 0.11662273 0.11616733 0.11604081 0.11575655 0.11571455 0.11560062\n",
      " 0.1155618  0.11551635 0.11366569 0.11345367 0.11293802 0.11284582\n",
      " 0.1117578  0.11166636 0.11151269 0.1114964  0.11113526 0.11099473\n",
      " 0.10813619 0.10792773 0.10520744 0.10497676 0.1043189  0.10427618\n",
      " 0.10307387 0.10288653 0.10252767 0.10247777 0.09929465 0.09925462\n",
      " 0.09881385 0.09868456 0.09798589 0.0979842  0.09749844 0.09737521\n",
      " 0.09646859 0.0963501  0.0946542  0.09458302 0.09368759 0.09346765\n",
      " 0.09235307 0.09227225 0.09220976 0.0921132  0.09052183 0.09042439\n",
      " 0.09003089 0.08997546 0.08847304 0.08846749 0.08665458 0.08654543\n",
      " 0.08647261 0.08641452 0.08553943 0.08553091 0.08551011 0.08543376\n",
      " 0.08166695 0.08158819 0.07977528 0.07963767 0.07611132 0.07594044\n",
      " 0.06546328 0.06543073 0.06030006 0.06027635 0.05395313 0.05392445\n",
      " 0.04888619 0.04882382 0.04176398 0.04173427 0.03984163 0.0398402\n",
      " 0.03084097 0.03080318 0.02785042 0.02782182 0.00386729]\n"
     ]
    }
   ],
   "source": [
    "prob_positive1=probs1[:,1]\n",
    "fpr1,tpr1,threshold1=metrics.roc_curve(y_test,prob_positive1)\n",
    "roc_auc1=metrics.auc(fpr1,tpr1)\n",
    "print('Area under the curve',roc_auc1)\n",
    "print('fpr',fpr1)\n",
    "print('tpr',tpr1)\n",
    "print('threshold',threshold1)"
   ]
  },
  {
   "cell_type": "code",
   "execution_count": 33,
   "metadata": {
    "scrolled": false
   },
   "outputs": [
    {
     "data": {
      "image/png": "[encoded data removed]",
      "text/plain": [
       "<Figure size 432x288 with 1 Axes>"
      ]
     },
     "metadata": {
      "needs_background": "light"
     },
     "output_type": "display_data"
    }
   ],
   "source": [
    "##plot the roc curve:\n",
    "plt.title('Receiver Operating Characteristic')\n",
    "plt.plot(fpr1,tpr1,'orange',label='AUC = %0.2f'%roc_auc1)\n",
    "plt.legend(loc='lower right')\n",
    "plt.plot([0,1],[0,1],color='darkblue',linestyle='--')\n",
    "plt.ylabel('True Positive Rate')\n",
    "plt.xlabel('False Positive Rate')\n",
    "plt.show()"
   ]
  },
  {
   "cell_type": "markdown",
   "metadata": {},
   "source": [
    "### Naive Bayes:"
   ]
  },
  {
   "cell_type": "markdown",
   "metadata": {},
   "source": [
    "### Gaussian:"
   ]
  },
  {
   "cell_type": "code",
   "execution_count": 34,
   "metadata": {},
   "outputs": [],
   "source": [
    "##Fitting the Gaussian model:\n",
    "\n",
    "gnb=GaussianNB()\n",
    "gnb.fit(x_train,y_train)\n",
    "prediction2=gnb.predict(x_test)"
   ]
  },
  {
   "cell_type": "code",
   "execution_count": 35,
   "metadata": {},
   "outputs": [
    {
     "name": "stdout",
     "output_type": "stream",
     "text": [
      "accuracy in (%): 85.32721967486452\n"
     ]
    }
   ],
   "source": [
    "#Compute accuracy and display confusion matrix:\n",
    "print('accuracy in (%):',metrics.accuracy_score(y_test,prediction2)*100)"
   ]
  },
  {
   "cell_type": "code",
   "execution_count": 36,
   "metadata": {},
   "outputs": [
    {
     "name": "stdout",
     "output_type": "stream",
     "text": [
      "Confusion matrix: [[1782  225]\n",
      " [ 127  265]]\n"
     ]
    }
   ],
   "source": [
    "cm2=confusion_matrix(y_test,prediction2)\n",
    "print('Confusion matrix:',cm2)"
   ]
  },
  {
   "cell_type": "code",
   "execution_count": 37,
   "metadata": {},
   "outputs": [
    {
     "data": {
      "text/plain": [
       "array([[6.31261333e-01, 3.68738667e-01],\n",
       "       [6.15383182e-01, 3.84616818e-01],\n",
       "       [9.99904590e-01, 9.54103877e-05],\n",
       "       ...,\n",
       "       [8.08334617e-01, 1.91665383e-01],\n",
       "       [9.99953123e-01, 4.68767368e-05],\n",
       "       [8.34899412e-01, 1.65100588e-01]])"
      ]
     },
     "execution_count": 37,
     "metadata": {},
     "output_type": "execute_result"
    }
   ],
   "source": [
    "probs2=gnb.predict_proba(x_test)\n",
    "probs2"
   ]
  },
  {
   "cell_type": "code",
   "execution_count": 38,
   "metadata": {},
   "outputs": [
    {
     "name": "stdout",
     "output_type": "stream",
     "text": [
      "Area under the curve 0.8687095166915795\n",
      "fpr [0.00000000e+00 0.00000000e+00 0.00000000e+00 4.98256104e-04\n",
      " 4.98256104e-04 9.96512207e-04 9.96512207e-04 1.99302441e-03\n",
      " 1.99302441e-03 3.98604883e-03 3.98604883e-03 4.48430493e-03\n",
      " 4.48430493e-03 5.97907324e-03 5.97907324e-03 7.47384155e-03\n",
      " 7.47384155e-03 9.96512207e-03 9.96512207e-03 1.14598904e-02\n",
      " 1.14598904e-02 2.29197808e-02 2.29197808e-02 2.39162930e-02\n",
      " 2.39162930e-02 2.88988540e-02 2.88988540e-02 3.88639761e-02\n",
      " 3.88639761e-02 3.93622322e-02 3.93622322e-02 4.08570005e-02\n",
      " 4.08570005e-02 4.23517688e-02 4.23517688e-02 4.33482810e-02\n",
      " 4.33482810e-02 4.38465371e-02 4.38465371e-02 4.63378176e-02\n",
      " 4.63378176e-02 4.68360737e-02 4.68360737e-02 4.73343298e-02\n",
      " 4.73343298e-02 4.88290982e-02 4.88290982e-02 4.98256104e-02\n",
      " 4.98256104e-02 5.03238665e-02 5.03238665e-02 5.08221226e-02\n",
      " 5.08221226e-02 5.13203787e-02 5.13203787e-02 5.23168909e-02\n",
      " 5.23168909e-02 5.28151470e-02 5.28151470e-02 5.33134031e-02\n",
      " 5.33134031e-02 5.38116592e-02 5.38116592e-02 5.43099153e-02\n",
      " 5.43099153e-02 5.48081714e-02 5.48081714e-02 5.53064275e-02\n",
      " 5.53064275e-02 5.63029397e-02 5.63029397e-02 5.68011958e-02\n",
      " 5.68011958e-02 5.72994519e-02 5.72994519e-02 5.77977080e-02\n",
      " 5.77977080e-02 5.82959641e-02 5.82959641e-02 5.87942202e-02\n",
      " 5.87942202e-02 5.97907324e-02 5.97907324e-02 6.02889885e-02\n",
      " 6.02889885e-02 6.07872446e-02 6.07872446e-02 6.22820130e-02\n",
      " 6.22820130e-02 6.27802691e-02 6.27802691e-02 6.32785252e-02\n",
      " 6.32785252e-02 6.37767813e-02 6.37767813e-02 6.47732935e-02\n",
      " 6.47732935e-02 6.52715496e-02 6.52715496e-02 6.57698057e-02\n",
      " 6.57698057e-02 6.67663179e-02 6.67663179e-02 6.77628301e-02\n",
      " 6.77628301e-02 6.82610862e-02 6.82610862e-02 6.92575984e-02\n",
      " 6.92575984e-02 6.97558545e-02 6.97558545e-02 7.02541106e-02\n",
      " 7.02541106e-02 7.07523667e-02 7.07523667e-02 7.12506228e-02\n",
      " 7.12506228e-02 7.17488789e-02 7.17488789e-02 7.22471350e-02\n",
      " 7.22471350e-02 7.27453911e-02 7.27453911e-02 7.32436472e-02\n",
      " 7.32436472e-02 7.47384155e-02 7.47384155e-02 7.57349278e-02\n",
      " 7.57349278e-02 7.72296961e-02 7.72296961e-02 7.87244644e-02\n",
      " 7.87244644e-02 8.02192327e-02 8.02192327e-02 8.07174888e-02\n",
      " 8.07174888e-02 8.12157449e-02 8.12157449e-02 8.27105132e-02\n",
      " 8.27105132e-02 8.37070254e-02 8.37070254e-02 8.96860987e-02\n",
      " 8.96860987e-02 9.01843548e-02 9.01843548e-02 9.61634280e-02\n",
      " 9.61634280e-02 9.86547085e-02 9.86547085e-02 1.01145989e-01\n",
      " 1.01145989e-01 1.09616343e-01 1.09616343e-01 1.11111111e-01\n",
      " 1.11111111e-01 1.11609367e-01 1.11609367e-01 1.12107623e-01\n",
      " 1.12107623e-01 1.13104136e-01 1.13104136e-01 1.14100648e-01\n",
      " 1.14100648e-01 1.15595416e-01 1.15595416e-01 1.17588440e-01\n",
      " 1.17588440e-01 1.20079721e-01 1.20079721e-01 1.20577977e-01\n",
      " 1.20577977e-01 1.21574489e-01 1.21574489e-01 1.28550075e-01\n",
      " 1.28550075e-01 1.29546587e-01 1.29546587e-01 1.31539611e-01\n",
      " 1.31539611e-01 1.32536124e-01 1.32536124e-01 1.33034380e-01\n",
      " 1.33034380e-01 1.34030892e-01 1.34030892e-01 1.39511709e-01\n",
      " 1.39511709e-01 1.40009965e-01 1.40009965e-01 1.42002990e-01\n",
      " 1.42002990e-01 1.42501246e-01 1.42501246e-01 1.43497758e-01\n",
      " 1.43497758e-01 1.43996014e-01 1.43996014e-01 1.44494270e-01\n",
      " 1.44494270e-01 1.45490782e-01 1.45490782e-01 1.46487294e-01\n",
      " 1.46487294e-01 1.46985551e-01 1.46985551e-01 1.47483807e-01\n",
      " 1.47483807e-01 1.50971599e-01 1.50971599e-01 1.52466368e-01\n",
      " 1.52466368e-01 1.56950673e-01 1.56950673e-01 1.57947185e-01\n",
      " 1.57947185e-01 1.62929746e-01 1.62929746e-01 1.65919283e-01\n",
      " 1.65919283e-01 1.70403587e-01 1.70403587e-01 1.70901844e-01\n",
      " 1.70901844e-01 1.73891380e-01 1.73891380e-01 1.77877429e-01\n",
      " 1.77877429e-01 1.80866966e-01 1.80866966e-01 1.84354758e-01\n",
      " 1.84354758e-01 1.87842551e-01 1.87842551e-01 1.89337319e-01\n",
      " 1.89337319e-01 1.89835575e-01 1.89835575e-01 1.92326856e-01\n",
      " 1.92326856e-01 1.94319880e-01 1.94319880e-01 1.95316393e-01\n",
      " 1.95316393e-01 1.95814649e-01 1.95814649e-01 1.97807673e-01\n",
      " 1.97807673e-01 2.00797210e-01 2.00797210e-01 2.05779771e-01\n",
      " 2.05779771e-01 2.07274539e-01 2.07274539e-01 2.10264076e-01\n",
      " 2.10264076e-01 2.18236173e-01 2.18236173e-01 2.22720478e-01\n",
      " 2.22720478e-01 2.28201295e-01 2.28201295e-01 2.29696064e-01\n",
      " 2.29696064e-01 2.31689088e-01 2.31689088e-01 2.33183857e-01\n",
      " 2.33183857e-01 2.34678625e-01 2.34678625e-01 2.35176881e-01\n",
      " 2.35176881e-01 2.37668161e-01 2.37668161e-01 2.48629796e-01\n",
      " 2.48629796e-01 2.51619332e-01 2.51619332e-01 2.59093174e-01\n",
      " 2.59093174e-01 2.60587942e-01 2.60587942e-01 2.64573991e-01\n",
      " 2.64573991e-01 2.76532138e-01 2.76532138e-01 2.82511211e-01\n",
      " 2.82511211e-01 2.83507723e-01 2.83507723e-01 2.84005979e-01\n",
      " 2.84005979e-01 2.84504235e-01 2.84504235e-01 2.88988540e-01\n",
      " 2.88988540e-01 2.91479821e-01 2.91479821e-01 2.93971101e-01\n",
      " 2.93971101e-01 3.01444943e-01 3.01444943e-01 3.04932735e-01\n",
      " 3.04932735e-01 3.05929248e-01 3.05929248e-01 3.08918784e-01\n",
      " 3.08918784e-01 3.45291480e-01 3.45291480e-01 3.57747882e-01\n",
      " 3.57747882e-01 3.67214748e-01 3.67214748e-01 3.85650224e-01\n",
      " 3.85650224e-01 3.96113602e-01 3.96113602e-01 4.12556054e-01\n",
      " 4.12556054e-01 4.17538615e-01 4.17538615e-01 4.18036871e-01\n",
      " 4.18036871e-01 4.52416542e-01 4.52416542e-01 4.68858994e-01\n",
      " 4.68858994e-01 5.38614848e-01 5.38614848e-01 5.68011958e-01\n",
      " 5.68011958e-01 5.69506726e-01 5.69506726e-01 6.51718984e-01\n",
      " 6.51718984e-01 6.74638764e-01 6.74638764e-01 6.88589935e-01\n",
      " 6.88589935e-01 6.98056801e-01 6.98056801e-01 7.09018435e-01\n",
      " 7.09018435e-01 7.20478326e-01 7.20478326e-01 8.02192327e-01\n",
      " 8.02192327e-01 8.21126059e-01 8.21126059e-01 8.23119083e-01\n",
      " 8.23119083e-01 8.24115595e-01 8.24115595e-01 8.26606876e-01\n",
      " 8.26606876e-01 8.29098156e-01 8.29098156e-01 8.30094669e-01\n",
      " 8.30094669e-01 8.30592925e-01 8.30592925e-01 8.31091181e-01\n",
      " 8.31091181e-01 8.60986547e-01 8.60986547e-01 8.77428999e-01\n",
      " 8.77428999e-01 8.78425511e-01 8.78425511e-01 9.80069756e-01\n",
      " 9.80069756e-01 9.81066268e-01 9.81066268e-01 1.00000000e+00]\n",
      "tpr [0.         0.00255102 0.19897959 0.19897959 0.22704082 0.22704082\n",
      " 0.23469388 0.23469388 0.2372449  0.2372449  0.23979592 0.23979592\n",
      " 0.24234694 0.24234694 0.24489796 0.24489796 0.24744898 0.24744898\n",
      " 0.25       0.25       0.25255102 0.25255102 0.25510204 0.25510204\n",
      " 0.25765306 0.25765306 0.26020408 0.26020408 0.2627551  0.2627551\n",
      " 0.26530612 0.26530612 0.26785714 0.26785714 0.27295918 0.27295918\n",
      " 0.27806122 0.27806122 0.28061224 0.28061224 0.28571429 0.28571429\n",
      " 0.28826531 0.28826531 0.29336735 0.29336735 0.29846939 0.29846939\n",
      " 0.30102041 0.30102041 0.30867347 0.30867347 0.31632653 0.31632653\n",
      " 0.31887755 0.31887755 0.32397959 0.32397959 0.32653061 0.32653061\n",
      " 0.33673469 0.33673469 0.34438776 0.34438776 0.35204082 0.35204082\n",
      " 0.35459184 0.35459184 0.3622449  0.3622449  0.36479592 0.36479592\n",
      " 0.36734694 0.36734694 0.36989796 0.36989796 0.4005102  0.4005102\n",
      " 0.43622449 0.43622449 0.43877551 0.43877551 0.46428571 0.46428571\n",
      " 0.48214286 0.48214286 0.49489796 0.49489796 0.49744898 0.49744898\n",
      " 0.50255102 0.50255102 0.51530612 0.51530612 0.51785714 0.51785714\n",
      " 0.5255102  0.5255102  0.52806122 0.52806122 0.54336735 0.54336735\n",
      " 0.54591837 0.54591837 0.54846939 0.54846939 0.57142857 0.57142857\n",
      " 0.57908163 0.57908163 0.58418367 0.58418367 0.58673469 0.58673469\n",
      " 0.59693878 0.59693878 0.60459184 0.60459184 0.60714286 0.60714286\n",
      " 0.6122449  0.6122449  0.62244898 0.62244898 0.62755102 0.62755102\n",
      " 0.63010204 0.63010204 0.63520408 0.63520408 0.6377551  0.6377551\n",
      " 0.64030612 0.64030612 0.64540816 0.64540816 0.64795918 0.64795918\n",
      " 0.6505102  0.6505102  0.65306122 0.65306122 0.65561224 0.65561224\n",
      " 0.65816327 0.65816327 0.66071429 0.66071429 0.66326531 0.66326531\n",
      " 0.66581633 0.66581633 0.66836735 0.66836735 0.67091837 0.67091837\n",
      " 0.67346939 0.67346939 0.67602041 0.67602041 0.67857143 0.67857143\n",
      " 0.68112245 0.68112245 0.68367347 0.68367347 0.68622449 0.68622449\n",
      " 0.68877551 0.68877551 0.69132653 0.69132653 0.69387755 0.69387755\n",
      " 0.69897959 0.69897959 0.70153061 0.70153061 0.70408163 0.70408163\n",
      " 0.70663265 0.70663265 0.71173469 0.71173469 0.71428571 0.71428571\n",
      " 0.71938776 0.71938776 0.7244898  0.7244898  0.73214286 0.73214286\n",
      " 0.73469388 0.73469388 0.7372449  0.7372449  0.74234694 0.74234694\n",
      " 0.74489796 0.74489796 0.74744898 0.74744898 0.75       0.75\n",
      " 0.75255102 0.75255102 0.75510204 0.75510204 0.75765306 0.75765306\n",
      " 0.76020408 0.76020408 0.76530612 0.76530612 0.76785714 0.76785714\n",
      " 0.77040816 0.77040816 0.77295918 0.77295918 0.7755102  0.7755102\n",
      " 0.77806122 0.77806122 0.78061224 0.78061224 0.78316327 0.78316327\n",
      " 0.78571429 0.78571429 0.78826531 0.78826531 0.79081633 0.79081633\n",
      " 0.79336735 0.79336735 0.79846939 0.79846939 0.80102041 0.80102041\n",
      " 0.80357143 0.80357143 0.80612245 0.80612245 0.81122449 0.81122449\n",
      " 0.81632653 0.81632653 0.82142857 0.82142857 0.82653061 0.82653061\n",
      " 0.82908163 0.82908163 0.83418367 0.83418367 0.83673469 0.83673469\n",
      " 0.83928571 0.83928571 0.84183673 0.84183673 0.84438776 0.84438776\n",
      " 0.8494898  0.8494898  0.85204082 0.85204082 0.85714286 0.85714286\n",
      " 0.85969388 0.85969388 0.8622449  0.8622449  0.86479592 0.86479592\n",
      " 0.86734694 0.86734694 0.86989796 0.86989796 0.87244898 0.87244898\n",
      " 0.875      0.875      0.87755102 0.87755102 0.88010204 0.88010204\n",
      " 0.88265306 0.88265306 0.88520408 0.88520408 0.8877551  0.8877551\n",
      " 0.89285714 0.89285714 0.89540816 0.89540816 0.89795918 0.89795918\n",
      " 0.9005102  0.9005102  0.90306122 0.90306122 0.90561224 0.90561224\n",
      " 0.90816327 0.90816327 0.91071429 0.91071429 0.91326531 0.91326531\n",
      " 0.91581633 0.91581633 0.91836735 0.91836735 0.92091837 0.92091837\n",
      " 0.92346939 0.92346939 0.92602041 0.92602041 0.92857143 0.92857143\n",
      " 0.93112245 0.93112245 0.93367347 0.93367347 0.93622449 0.93622449\n",
      " 0.93877551 0.93877551 0.94132653 0.94132653 0.94387755 0.94387755\n",
      " 0.94642857 0.94642857 0.94897959 0.94897959 0.95153061 0.95153061\n",
      " 0.95408163 0.95408163 0.95663265 0.95663265 0.95918367 0.95918367\n",
      " 0.96173469 0.96173469 0.96428571 0.96428571 0.96938776 0.96938776\n",
      " 0.97193878 0.97193878 0.9744898  0.9744898  0.97704082 0.97704082\n",
      " 0.97959184 0.97959184 0.98214286 0.98214286 0.9872449  0.9872449\n",
      " 0.98979592 0.98979592 0.99234694 0.99234694 0.99489796 0.99489796\n",
      " 0.99744898 0.99744898 1.         1.        ]\n",
      "threshold [1.99941679e+00 9.99416790e-01 9.83343006e-01 9.82832401e-01\n",
      " 9.79472659e-01 9.79024129e-01 9.75967308e-01 9.71610631e-01\n",
      " 9.68893463e-01 9.63519390e-01 9.62870474e-01 9.60798695e-01\n",
      " 9.59996419e-01 9.57387534e-01 9.56602730e-01 9.49174880e-01\n",
      " 9.45490037e-01 9.30309958e-01 9.29042807e-01 9.26925606e-01\n",
      " 9.24587322e-01 8.70884029e-01 8.69096218e-01 8.64735218e-01\n",
      " 8.60851918e-01 8.48566527e-01 8.44592831e-01 8.06841740e-01\n",
      " 8.06795210e-01 8.06623350e-01 8.01117191e-01 7.96862494e-01\n",
      " 7.91756970e-01 7.77889751e-01 7.74471590e-01 7.72034483e-01\n",
      " 7.69678818e-01 7.68879479e-01 7.68399322e-01 7.60916413e-01\n",
      " 7.59277503e-01 7.58808687e-01 7.58063116e-01 7.55888967e-01\n",
      " 7.53817388e-01 7.50464037e-01 7.50102280e-01 7.49685271e-01\n",
      " 7.49667140e-01 7.49539963e-01 7.47822027e-01 7.46309352e-01\n",
      " 7.41134392e-01 7.40896655e-01 7.39863199e-01 7.38026476e-01\n",
      " 7.36775139e-01 7.35404138e-01 7.34781974e-01 7.34211879e-01\n",
      " 7.30619215e-01 7.29078190e-01 7.28099888e-01 7.28051670e-01\n",
      " 7.23929323e-01 7.23556746e-01 7.23479168e-01 7.22826313e-01\n",
      " 7.20723466e-01 7.20349000e-01 7.19314685e-01 7.19211181e-01\n",
      " 7.17878533e-01 7.17535981e-01 7.17099562e-01 7.16538190e-01\n",
      " 7.04909017e-01 7.03224975e-01 6.94648609e-01 6.94623952e-01\n",
      " 6.94446008e-01 6.94062051e-01 6.87283649e-01 6.87031451e-01\n",
      " 6.84484453e-01 6.84053020e-01 6.81367283e-01 6.78094530e-01\n",
      " 6.77025516e-01 6.76839319e-01 6.74230270e-01 6.73805101e-01\n",
      " 6.72222100e-01 6.72054046e-01 6.70214377e-01 6.68713323e-01\n",
      " 6.68201974e-01 6.67158676e-01 6.67090170e-01 6.65943351e-01\n",
      " 6.60775998e-01 6.59677060e-01 6.59574067e-01 6.58290455e-01\n",
      " 6.57504513e-01 6.57171913e-01 6.48479094e-01 6.46266992e-01\n",
      " 6.43744230e-01 6.43068209e-01 6.40575424e-01 6.40448547e-01\n",
      " 6.39852069e-01 6.38357963e-01 6.36072972e-01 6.35826780e-01\n",
      " 6.34141025e-01 6.32479464e-01 6.31194883e-01 6.29901563e-01\n",
      " 6.28761243e-01 6.28381382e-01 6.23614962e-01 6.23301175e-01\n",
      " 6.22312265e-01 6.20937729e-01 6.20319746e-01 6.17808594e-01\n",
      " 6.15441401e-01 6.12337993e-01 6.12275713e-01 6.09641858e-01\n",
      " 6.05814385e-01 6.00593102e-01 5.96566003e-01 5.94284659e-01\n",
      " 5.92579156e-01 5.91714973e-01 5.90770746e-01 5.84385846e-01\n",
      " 5.83456365e-01 5.81469791e-01 5.81217700e-01 5.71225931e-01\n",
      " 5.70636826e-01 5.69992256e-01 5.68049078e-01 5.59013162e-01\n",
      " 5.56814048e-01 5.49172985e-01 5.48518478e-01 5.40794285e-01\n",
      " 5.40176269e-01 5.10840637e-01 5.10071270e-01 5.08336154e-01\n",
      " 5.07976015e-01 5.04835710e-01 5.03150874e-01 5.01156279e-01\n",
      " 4.95248936e-01 4.94380306e-01 4.93232862e-01 4.89376337e-01\n",
      " 4.89156707e-01 4.83011356e-01 4.83005131e-01 4.80413215e-01\n",
      " 4.80348070e-01 4.76951510e-01 4.76311783e-01 4.75438413e-01\n",
      " 4.74662395e-01 4.71470413e-01 4.69099977e-01 4.53267482e-01\n",
      " 4.53156351e-01 4.52285336e-01 4.51122264e-01 4.47780299e-01\n",
      " 4.47624863e-01 4.46438877e-01 4.44966666e-01 4.44343929e-01\n",
      " 4.44146142e-01 4.42191695e-01 4.41928794e-01 4.27976200e-01\n",
      " 4.27171697e-01 4.26786435e-01 4.24047536e-01 4.21128983e-01\n",
      " 4.20985727e-01 4.20020107e-01 4.18178991e-01 4.16499363e-01\n",
      " 4.15821048e-01 4.14011868e-01 4.13854678e-01 4.12807734e-01\n",
      " 4.11655444e-01 4.10503656e-01 4.10447174e-01 4.08917000e-01\n",
      " 4.08386265e-01 4.08254978e-01 4.07197406e-01 4.07113919e-01\n",
      " 4.06611291e-01 4.01767684e-01 3.99870273e-01 3.97593463e-01\n",
      " 3.96457059e-01 3.89065990e-01 3.88769336e-01 3.87843286e-01\n",
      " 3.87782560e-01 3.82265578e-01 3.82116884e-01 3.79942785e-01\n",
      " 3.79908366e-01 3.75565651e-01 3.75361464e-01 3.74646035e-01\n",
      " 3.72376714e-01 3.70109535e-01 3.69140497e-01 3.66157554e-01\n",
      " 3.65824494e-01 3.64622576e-01 3.64421139e-01 3.57444506e-01\n",
      " 3.56947115e-01 3.53438303e-01 3.53281826e-01 3.51862018e-01\n",
      " 3.49352568e-01 3.48853958e-01 3.48501605e-01 3.47701857e-01\n",
      " 3.46385022e-01 3.43726485e-01 3.42956943e-01 3.42495069e-01\n",
      " 3.41569610e-01 3.40850169e-01 3.39647423e-01 3.38359327e-01\n",
      " 3.37778943e-01 3.34238422e-01 3.33921944e-01 3.31263369e-01\n",
      " 3.31056276e-01 3.29891398e-01 3.28789613e-01 3.26446333e-01\n",
      " 3.26113220e-01 3.18027703e-01 3.18024211e-01 3.14922929e-01\n",
      " 3.14462943e-01 3.08700966e-01 3.08168391e-01 3.06545728e-01\n",
      " 3.05716448e-01 3.03771622e-01 3.02890893e-01 3.02612266e-01\n",
      " 3.01770815e-01 3.00909559e-01 3.00816437e-01 3.00729229e-01\n",
      " 3.00590421e-01 2.98715484e-01 2.98706114e-01 2.88041060e-01\n",
      " 2.87318184e-01 2.83459002e-01 2.82807102e-01 2.76293247e-01\n",
      " 2.75795772e-01 2.72332730e-01 2.72145821e-01 2.69584683e-01\n",
      " 2.69215573e-01 2.64726831e-01 2.64586776e-01 2.61600148e-01\n",
      " 2.61514231e-01 2.60106915e-01 2.58861445e-01 2.58447230e-01\n",
      " 2.58371590e-01 2.58264678e-01 2.57894982e-01 2.52886926e-01\n",
      " 2.52863861e-01 2.50763755e-01 2.50575387e-01 2.49137761e-01\n",
      " 2.48967056e-01 2.44725532e-01 2.44708154e-01 2.42944179e-01\n",
      " 2.42491218e-01 2.41933171e-01 2.41926384e-01 2.40039423e-01\n",
      " 2.39985728e-01 2.16834638e-01 2.16784992e-01 2.10406298e-01\n",
      " 2.10381805e-01 2.06713118e-01 2.06472108e-01 1.98242830e-01\n",
      " 1.97515395e-01 1.92321631e-01 1.92291012e-01 1.84300326e-01\n",
      " 1.84286481e-01 1.81681033e-01 1.81478482e-01 1.81296740e-01\n",
      " 1.80926859e-01 1.64302725e-01 1.64156155e-01 1.55838124e-01\n",
      " 1.55635949e-01 1.30483615e-01 1.29981980e-01 1.18813725e-01\n",
      " 1.18789507e-01 1.18383524e-01 1.18042337e-01 8.33131656e-02\n",
      " 8.32279654e-02 7.44382699e-02 7.41154575e-02 6.89736560e-02\n",
      " 6.84855712e-02 6.55737174e-02 6.53923131e-02 6.21039338e-02\n",
      " 6.20651277e-02 5.75430024e-02 5.75409760e-02 1.98586752e-02\n",
      " 1.85175778e-02 3.41532186e-03 3.35236967e-03 2.78857067e-03\n",
      " 2.42178035e-03 2.26598101e-03 2.22575134e-03 1.93750225e-03\n",
      " 1.93132807e-03 1.82588753e-03 1.73771837e-03 1.66808859e-03\n",
      " 1.66211205e-03 1.59202290e-03 1.55852240e-03 1.50554825e-03\n",
      " 1.47290689e-03 4.41813194e-04 4.39942686e-04 3.13988464e-04\n",
      " 3.06750978e-04 3.00857544e-04 2.96416433e-04 1.53154295e-07\n",
      " 2.43280928e-45 5.39630305e-47 4.24455522e-47 3.74254106e-52]\n"
     ]
    }
   ],
   "source": [
    "prob_positive2=probs2[:,1]\n",
    "fpr2,tpr2,threshold2=metrics.roc_curve(y_test,prob_positive2)\n",
    "roc_auc2=metrics.auc(fpr2,tpr2)\n",
    "print('Area under the curve',roc_auc2)\n",
    "print('fpr',fpr2)\n",
    "print('tpr',tpr2)\n",
    "print('threshold',threshold2)"
   ]
  },
  {
   "cell_type": "code",
   "execution_count": 39,
   "metadata": {
    "scrolled": true
   },
   "outputs": [
    {
     "data": {
      "image/png": "[encoded data removed]",
      "text/plain": [
       "<Figure size 432x288 with 1 Axes>"
      ]
     },
     "metadata": {
      "needs_background": "light"
     },
     "output_type": "display_data"
    }
   ],
   "source": [
    "##plot the roc curve:\n",
    "plt.title('Receiver Operating Characteristic')\n",
    "plt.plot(fpr2,tpr2,'orange',label='AUC = %0.2f'%roc_auc2)\n",
    "plt.legend(loc='lower right')\n",
    "plt.plot([0,1],[0,1],color='darkblue',linestyle='--')\n",
    "plt.ylabel('True Positive Rate')\n",
    "plt.xlabel('False Positive Rate')\n",
    "plt.show()"
   ]
  },
  {
   "cell_type": "markdown",
   "metadata": {},
   "source": [
    "### Multinomial:"
   ]
  },
  {
   "cell_type": "code",
   "execution_count": 40,
   "metadata": {},
   "outputs": [],
   "source": [
    "##Fitting the Multinomial model:\n",
    "\n",
    "mn=MultinomialNB()\n",
    "mn.fit(x_train,y_train)\n",
    "prediction3=mn.predict(x_test)"
   ]
  },
  {
   "cell_type": "code",
   "execution_count": 41,
   "metadata": {},
   "outputs": [
    {
     "name": "stdout",
     "output_type": "stream",
     "text": [
      "accuracy in (%): 83.65985827428095\n"
     ]
    }
   ],
   "source": [
    "#Compute accuracy and display confusion matrix:\n",
    "print('accuracy in (%):',metrics.accuracy_score(y_test,prediction3)*100)"
   ]
  },
  {
   "cell_type": "code",
   "execution_count": 42,
   "metadata": {},
   "outputs": [
    {
     "name": "stdout",
     "output_type": "stream",
     "text": [
      "Confusion matrix: [[2007    0]\n",
      " [ 392    0]]\n"
     ]
    }
   ],
   "source": [
    "cm3=confusion_matrix(y_test,prediction3)\n",
    "print('Confusion matrix:',cm3)"
   ]
  },
  {
   "cell_type": "code",
   "execution_count": 43,
   "metadata": {},
   "outputs": [
    {
     "data": {
      "text/plain": [
       "array([[0.82773313, 0.17226687],\n",
       "       [0.82769291, 0.17230709],\n",
       "       [0.94756033, 0.05243967],\n",
       "       ...,\n",
       "       [0.83062493, 0.16937507],\n",
       "       [0.70429408, 0.29570592],\n",
       "       [0.79418644, 0.20581356]])"
      ]
     },
     "execution_count": 43,
     "metadata": {},
     "output_type": "execute_result"
    }
   ],
   "source": [
    "probs3=mn.predict_proba(x_test)\n",
    "probs3"
   ]
  },
  {
   "cell_type": "code",
   "execution_count": 44,
   "metadata": {},
   "outputs": [
    {
     "name": "stdout",
     "output_type": "stream",
     "text": [
      "Area under the curve 0.7991710136969586\n",
      "fpr [0.00000000e+00 4.98256104e-04 2.74040857e-02 2.74040857e-02\n",
      " 2.79023418e-02 2.79023418e-02 2.84005979e-02 2.84005979e-02\n",
      " 3.08918784e-02 3.08918784e-02 3.43796712e-02 3.43796712e-02\n",
      " 3.58744395e-02 3.58744395e-02 3.63726956e-02 3.63726956e-02\n",
      " 3.68709517e-02 3.68709517e-02 3.78674639e-02 3.78674639e-02\n",
      " 3.83657200e-02 3.83657200e-02 3.88639761e-02 3.88639761e-02\n",
      " 3.93622322e-02 3.93622322e-02 3.98604883e-02 3.98604883e-02\n",
      " 4.03587444e-02 4.03587444e-02 4.13552566e-02 4.13552566e-02\n",
      " 4.23517688e-02 4.23517688e-02 4.58395615e-02 4.58395615e-02\n",
      " 4.63378176e-02 4.63378176e-02 4.68360737e-02 4.68360737e-02\n",
      " 4.83308421e-02 4.83308421e-02 5.03238665e-02 5.03238665e-02\n",
      " 5.08221226e-02 5.08221226e-02 5.13203787e-02 5.13203787e-02\n",
      " 5.38116592e-02 5.38116592e-02 5.72994519e-02 5.72994519e-02\n",
      " 5.87942202e-02 5.87942202e-02 5.92924763e-02 5.92924763e-02\n",
      " 6.07872446e-02 6.07872446e-02 6.12855007e-02 6.12855007e-02\n",
      " 6.17837569e-02 6.17837569e-02 6.52715496e-02 6.52715496e-02\n",
      " 6.77628301e-02 6.77628301e-02 6.92575984e-02 6.92575984e-02\n",
      " 6.97558545e-02 6.97558545e-02 7.07523667e-02 7.07523667e-02\n",
      " 7.17488789e-02 7.17488789e-02 7.27453911e-02 7.27453911e-02\n",
      " 7.32436472e-02 7.32436472e-02 7.37419033e-02 7.37419033e-02\n",
      " 7.42401594e-02 7.42401594e-02 7.62331839e-02 7.62331839e-02\n",
      " 7.67314400e-02 7.67314400e-02 7.72296961e-02 7.72296961e-02\n",
      " 7.77279522e-02 7.77279522e-02 7.82262083e-02 7.82262083e-02\n",
      " 7.87244644e-02 7.87244644e-02 8.07174888e-02 8.07174888e-02\n",
      " 8.22122571e-02 8.22122571e-02 8.27105132e-02 8.27105132e-02\n",
      " 8.32087693e-02 8.32087693e-02 8.37070254e-02 8.37070254e-02\n",
      " 8.42052815e-02 8.42052815e-02 8.52017937e-02 8.52017937e-02\n",
      " 8.57000498e-02 8.57000498e-02 8.61983059e-02 8.61983059e-02\n",
      " 8.66965620e-02 8.66965620e-02 8.86895864e-02 8.86895864e-02\n",
      " 8.91878426e-02 8.91878426e-02 8.96860987e-02 8.96860987e-02\n",
      " 9.16791231e-02 9.16791231e-02 9.26756353e-02 9.26756353e-02\n",
      " 9.61634280e-02 9.61634280e-02 9.91529646e-02 9.91529646e-02\n",
      " 9.96512207e-02 9.96512207e-02 1.00149477e-01 1.00149477e-01\n",
      " 1.00647733e-01 1.00647733e-01 1.02142501e-01 1.02142501e-01\n",
      " 1.04135526e-01 1.04135526e-01 1.04633782e-01 1.04633782e-01\n",
      " 1.06128550e-01 1.06128550e-01 1.07125062e-01 1.07125062e-01\n",
      " 1.08121574e-01 1.08121574e-01 1.08619831e-01 1.08619831e-01\n",
      " 1.09616343e-01 1.09616343e-01 1.10114599e-01 1.10114599e-01\n",
      " 1.11609367e-01 1.11609367e-01 1.13602392e-01 1.13602392e-01\n",
      " 1.16093672e-01 1.16093672e-01 1.16591928e-01 1.16591928e-01\n",
      " 1.17588440e-01 1.17588440e-01 1.19083209e-01 1.19083209e-01\n",
      " 1.19581465e-01 1.19581465e-01 1.21076233e-01 1.21076233e-01\n",
      " 1.21574489e-01 1.21574489e-01 1.22072745e-01 1.22072745e-01\n",
      " 1.23069258e-01 1.23069258e-01 1.23567514e-01 1.23567514e-01\n",
      " 1.24065770e-01 1.24065770e-01 1.25062282e-01 1.25062282e-01\n",
      " 1.25560538e-01 1.25560538e-01 1.26557050e-01 1.26557050e-01\n",
      " 1.27055306e-01 1.27055306e-01 1.28550075e-01 1.28550075e-01\n",
      " 1.29048331e-01 1.29048331e-01 1.33034380e-01 1.33034380e-01\n",
      " 1.33532636e-01 1.33532636e-01 1.34030892e-01 1.34030892e-01\n",
      " 1.34529148e-01 1.34529148e-01 1.38016941e-01 1.38016941e-01\n",
      " 1.39013453e-01 1.39013453e-01 1.39511709e-01 1.39511709e-01\n",
      " 1.40508221e-01 1.40508221e-01 1.41006477e-01 1.41006477e-01\n",
      " 1.41504733e-01 1.41504733e-01 1.42999502e-01 1.42999502e-01\n",
      " 1.43497758e-01 1.43497758e-01 1.44494270e-01 1.44494270e-01\n",
      " 1.46487294e-01 1.46487294e-01 1.46985551e-01 1.46985551e-01\n",
      " 1.47483807e-01 1.47483807e-01 1.47982063e-01 1.47982063e-01\n",
      " 1.50473343e-01 1.50473343e-01 1.52466368e-01 1.52466368e-01\n",
      " 1.52964624e-01 1.52964624e-01 1.53462880e-01 1.53462880e-01\n",
      " 1.56950673e-01 1.56950673e-01 1.58943697e-01 1.58943697e-01\n",
      " 1.59441953e-01 1.59441953e-01 1.61434978e-01 1.61434978e-01\n",
      " 1.63428002e-01 1.63428002e-01 1.68908819e-01 1.68908819e-01\n",
      " 1.69407075e-01 1.69407075e-01 1.71400100e-01 1.71400100e-01\n",
      " 1.71898356e-01 1.71898356e-01 1.72894868e-01 1.72894868e-01\n",
      " 1.73891380e-01 1.73891380e-01 1.74887892e-01 1.74887892e-01\n",
      " 1.83856502e-01 1.83856502e-01 1.84354758e-01 1.84354758e-01\n",
      " 1.86846039e-01 1.86846039e-01 1.88340807e-01 1.88340807e-01\n",
      " 1.89835575e-01 1.89835575e-01 1.91330344e-01 1.91330344e-01\n",
      " 2.02790234e-01 2.02790234e-01 2.04285002e-01 2.04285002e-01\n",
      " 2.05281515e-01 2.05281515e-01 2.08769307e-01 2.08769307e-01\n",
      " 2.09765820e-01 2.09765820e-01 2.12257100e-01 2.12257100e-01\n",
      " 2.12755356e-01 2.12755356e-01 2.15744893e-01 2.15744893e-01\n",
      " 2.17239661e-01 2.17239661e-01 2.18236173e-01 2.18236173e-01\n",
      " 2.18734429e-01 2.18734429e-01 2.19232686e-01 2.19232686e-01\n",
      " 2.20229198e-01 2.20229198e-01 2.21225710e-01 2.21225710e-01\n",
      " 2.21723966e-01 2.21723966e-01 2.22222222e-01 2.22222222e-01\n",
      " 2.22720478e-01 2.22720478e-01 2.24713503e-01 2.24713503e-01\n",
      " 2.27204783e-01 2.27204783e-01 2.29197808e-01 2.29197808e-01\n",
      " 2.29696064e-01 2.29696064e-01 2.30194320e-01 2.30194320e-01\n",
      " 2.37169905e-01 2.37169905e-01 2.38166418e-01 2.38166418e-01\n",
      " 2.40159442e-01 2.40159442e-01 2.41155954e-01 2.41155954e-01\n",
      " 2.41654210e-01 2.41654210e-01 2.45640259e-01 2.45640259e-01\n",
      " 2.46138515e-01 2.46138515e-01 2.47633284e-01 2.47633284e-01\n",
      " 2.48629796e-01 2.48629796e-01 2.50622820e-01 2.50622820e-01\n",
      " 2.51121076e-01 2.51121076e-01 2.52117588e-01 2.52117588e-01\n",
      " 2.53114101e-01 2.53114101e-01 2.56103637e-01 2.56103637e-01\n",
      " 2.57100149e-01 2.57100149e-01 2.58096662e-01 2.58096662e-01\n",
      " 2.63079223e-01 2.63079223e-01 2.63577479e-01 2.63577479e-01\n",
      " 2.65570503e-01 2.65570503e-01 2.67065272e-01 2.67065272e-01\n",
      " 2.67563528e-01 2.67563528e-01 2.71051320e-01 2.71051320e-01\n",
      " 2.71549576e-01 2.71549576e-01 2.73044345e-01 2.73044345e-01\n",
      " 2.74040857e-01 2.74040857e-01 2.74539113e-01 2.74539113e-01\n",
      " 2.75535625e-01 2.75535625e-01 2.77528650e-01 2.77528650e-01\n",
      " 2.79521674e-01 2.79521674e-01 2.81016442e-01 2.81016442e-01\n",
      " 2.82511211e-01 2.82511211e-01 2.83507723e-01 2.83507723e-01\n",
      " 2.85500747e-01 2.85500747e-01 2.87493772e-01 2.87493772e-01\n",
      " 2.88490284e-01 2.88490284e-01 2.88988540e-01 2.88988540e-01\n",
      " 2.91479821e-01 2.91479821e-01 2.93472845e-01 2.93472845e-01\n",
      " 2.94967613e-01 2.94967613e-01 2.98953662e-01 2.98953662e-01\n",
      " 3.02441455e-01 3.02441455e-01 3.03437967e-01 3.03437967e-01\n",
      " 3.04932735e-01 3.04932735e-01 3.07922272e-01 3.07922272e-01\n",
      " 3.14399601e-01 3.14399601e-01 3.15894370e-01 3.15894370e-01\n",
      " 3.17887394e-01 3.17887394e-01 3.32336821e-01 3.32336821e-01\n",
      " 3.41305431e-01 3.41305431e-01 3.42301943e-01 3.42301943e-01\n",
      " 3.47782760e-01 3.47782760e-01 3.56253114e-01 3.56253114e-01\n",
      " 3.90134529e-01 3.90134529e-01 4.43946188e-01 4.43946188e-01\n",
      " 4.50921774e-01 4.50921774e-01 4.58395615e-01 4.58395615e-01\n",
      " 4.59890384e-01 4.59890384e-01 4.70353762e-01 4.70353762e-01\n",
      " 4.79322372e-01 4.79322372e-01 5.79471849e-01 5.79471849e-01\n",
      " 6.71649228e-01 6.71649228e-01 7.14000997e-01 7.14000997e-01\n",
      " 8.20129547e-01 8.20129547e-01 8.23617339e-01 8.23617339e-01\n",
      " 8.26108620e-01 8.26108620e-01 8.29596413e-01 8.29596413e-01\n",
      " 8.31091181e-01 8.31091181e-01 8.34080717e-01 8.34080717e-01\n",
      " 8.35575486e-01 8.35575486e-01 8.36073742e-01 8.36073742e-01\n",
      " 8.37568510e-01 8.37568510e-01 8.41554559e-01 8.41554559e-01\n",
      " 8.52017937e-01 8.52017937e-01 8.53512706e-01 8.53512706e-01\n",
      " 8.54010962e-01 8.54010962e-01 8.56502242e-01 8.56502242e-01\n",
      " 8.57000498e-01 8.57000498e-01 8.57498754e-01 8.57498754e-01\n",
      " 8.71449925e-01 8.71449925e-01 8.73941206e-01 8.73941206e-01\n",
      " 8.75435974e-01 8.75435974e-01 8.76432486e-01 8.76432486e-01\n",
      " 9.22272048e-01 9.22272048e-01 1.00000000e+00]\n",
      "tpr [0.         0.         0.         0.00255102 0.00255102 0.00510204\n",
      " 0.00510204 0.00765306 0.00765306 0.01020408 0.01020408 0.01785714\n",
      " 0.01785714 0.02040816 0.02040816 0.0255102  0.0255102  0.02806122\n",
      " 0.02806122 0.03316327 0.03316327 0.04081633 0.04081633 0.04336735\n",
      " 0.04336735 0.04591837 0.04591837 0.05102041 0.05102041 0.05357143\n",
      " 0.05357143 0.05867347 0.05867347 0.06122449 0.06122449 0.06887755\n",
      " 0.06887755 0.07142857 0.07142857 0.07653061 0.07653061 0.08163265\n",
      " 0.08163265 0.08418367 0.08418367 0.09183673 0.09183673 0.09438776\n",
      " 0.09438776 0.09693878 0.09693878 0.10459184 0.10459184 0.10714286\n",
      " 0.10714286 0.1122449  0.1122449  0.11479592 0.11479592 0.11734694\n",
      " 0.11734694 0.11989796 0.11989796 0.12244898 0.12244898 0.125\n",
      " 0.125      0.13010204 0.13010204 0.14285714 0.14285714 0.14795918\n",
      " 0.14795918 0.1505102  0.1505102  0.17857143 0.17857143 0.18112245\n",
      " 0.18112245 0.18367347 0.18367347 0.19387755 0.19387755 0.19642857\n",
      " 0.19642857 0.21683673 0.21683673 0.2244898  0.2244898  0.23214286\n",
      " 0.23214286 0.2372449  0.2372449  0.23979592 0.23979592 0.24234694\n",
      " 0.24234694 0.24744898 0.24744898 0.25510204 0.25510204 0.25765306\n",
      " 0.25765306 0.26020408 0.26020408 0.28061224 0.28061224 0.28316327\n",
      " 0.28316327 0.29591837 0.29591837 0.29846939 0.29846939 0.30357143\n",
      " 0.30357143 0.30612245 0.30612245 0.30867347 0.30867347 0.31122449\n",
      " 0.31122449 0.31377551 0.31377551 0.31887755 0.31887755 0.32397959\n",
      " 0.32397959 0.32653061 0.32653061 0.32908163 0.32908163 0.33163265\n",
      " 0.33163265 0.33418367 0.33418367 0.33928571 0.33928571 0.34183673\n",
      " 0.34183673 0.34693878 0.34693878 0.35714286 0.35714286 0.35969388\n",
      " 0.35969388 0.3622449  0.3622449  0.36479592 0.36479592 0.36989796\n",
      " 0.36989796 0.37755102 0.37755102 0.38010204 0.38010204 0.39285714\n",
      " 0.39285714 0.4005102  0.4005102  0.40306122 0.40306122 0.40816327\n",
      " 0.40816327 0.41071429 0.41071429 0.41326531 0.41326531 0.41836735\n",
      " 0.41836735 0.42091837 0.42091837 0.42602041 0.42602041 0.43112245\n",
      " 0.43112245 0.43367347 0.43367347 0.43622449 0.43622449 0.43877551\n",
      " 0.43877551 0.44897959 0.44897959 0.45918367 0.45918367 0.46173469\n",
      " 0.46173469 0.46428571 0.46428571 0.4744898  0.4744898  0.47704082\n",
      " 0.47704082 0.48979592 0.48979592 0.49234694 0.49234694 0.49489796\n",
      " 0.49489796 0.49744898 0.49744898 0.5        0.5        0.50255102\n",
      " 0.50255102 0.51530612 0.51530612 0.52040816 0.52040816 0.53061224\n",
      " 0.53061224 0.53316327 0.53316327 0.53826531 0.53826531 0.54081633\n",
      " 0.54081633 0.54336735 0.54336735 0.55102041 0.55102041 0.55357143\n",
      " 0.55357143 0.55612245 0.55612245 0.55867347 0.55867347 0.56377551\n",
      " 0.56377551 0.56887755 0.56887755 0.57142857 0.57142857 0.57397959\n",
      " 0.57397959 0.57908163 0.57908163 0.58163265 0.58163265 0.59183673\n",
      " 0.59183673 0.60459184 0.60459184 0.60969388 0.60969388 0.6122449\n",
      " 0.6122449  0.61734694 0.61734694 0.61989796 0.61989796 0.62244898\n",
      " 0.62244898 0.62755102 0.62755102 0.63265306 0.63265306 0.63520408\n",
      " 0.63520408 0.64030612 0.64030612 0.64285714 0.64285714 0.64540816\n",
      " 0.64540816 0.64795918 0.64795918 0.6505102  0.6505102  0.65561224\n",
      " 0.65561224 0.66071429 0.66071429 0.66326531 0.66326531 0.66836735\n",
      " 0.66836735 0.67091837 0.67091837 0.67602041 0.67602041 0.67857143\n",
      " 0.67857143 0.68367347 0.68367347 0.68622449 0.68622449 0.69132653\n",
      " 0.69132653 0.69387755 0.69387755 0.70153061 0.70153061 0.70408163\n",
      " 0.70408163 0.70663265 0.70663265 0.70918367 0.70918367 0.71173469\n",
      " 0.71173469 0.71428571 0.71428571 0.71683673 0.71683673 0.71938776\n",
      " 0.71938776 0.72959184 0.72959184 0.73214286 0.73214286 0.73469388\n",
      " 0.73469388 0.7372449  0.7372449  0.73979592 0.73979592 0.74234694\n",
      " 0.74234694 0.74489796 0.74489796 0.74744898 0.74744898 0.75\n",
      " 0.75       0.75255102 0.75255102 0.75510204 0.75510204 0.75765306\n",
      " 0.75765306 0.76530612 0.76530612 0.76785714 0.76785714 0.77040816\n",
      " 0.77040816 0.77295918 0.77295918 0.7755102  0.7755102  0.77806122\n",
      " 0.77806122 0.78061224 0.78061224 0.78316327 0.78316327 0.78571429\n",
      " 0.78571429 0.78826531 0.78826531 0.79591837 0.79591837 0.80102041\n",
      " 0.80102041 0.81122449 0.81122449 0.81632653 0.81632653 0.81887755\n",
      " 0.81887755 0.82142857 0.82142857 0.82653061 0.82653061 0.82908163\n",
      " 0.82908163 0.83163265 0.83163265 0.84183673 0.84183673 0.84438776\n",
      " 0.84438776 0.8494898  0.8494898  0.85204082 0.85204082 0.85459184\n",
      " 0.85459184 0.85969388 0.85969388 0.86479592 0.86479592 0.86734694\n",
      " 0.86734694 0.86989796 0.86989796 0.87244898 0.87244898 0.87755102\n",
      " 0.87755102 0.88010204 0.88010204 0.88265306 0.88265306 0.88520408\n",
      " 0.88520408 0.8877551  0.8877551  0.89030612 0.89030612 0.89285714\n",
      " 0.89285714 0.89540816 0.89540816 0.89795918 0.89795918 0.9005102\n",
      " 0.9005102  0.90306122 0.90306122 0.90561224 0.90561224 0.90816327\n",
      " 0.90816327 0.91071429 0.91071429 0.91326531 0.91326531 0.91581633\n",
      " 0.91581633 0.91836735 0.91836735 0.92091837 0.92091837 0.92346939\n",
      " 0.92346939 0.92602041 0.92602041 0.92857143 0.92857143 0.93112245\n",
      " 0.93112245 0.93367347 0.93367347 0.93622449 0.93622449 0.93877551\n",
      " 0.93877551 0.94132653 0.94132653 0.94387755 0.94387755 0.94642857\n",
      " 0.94642857 0.94897959 0.94897959 0.95153061 0.95153061 0.95408163\n",
      " 0.95408163 0.96173469 0.96173469 0.96428571 0.96428571 0.96683673\n",
      " 0.96683673 0.96938776 0.96938776 0.97193878 0.97193878 0.9744898\n",
      " 0.9744898  0.97704082 0.97704082 0.97959184 0.97959184 0.98469388\n",
      " 0.98469388 0.98979592 0.98979592 0.99234694 0.99234694 0.99489796\n",
      " 0.99489796 0.99744898 0.99744898 1.         1.        ]\n",
      "threshold [1.40460351 0.40460351 0.26645583 0.26601038 0.26574346 0.26471018\n",
      " 0.26439009 0.26360649 0.25855908 0.25811777 0.25556884 0.25549816\n",
      " 0.25305796 0.25277941 0.25207675 0.25134886 0.25114109 0.25106408\n",
      " 0.2504486  0.2485854  0.24855627 0.24828137 0.24828127 0.24806449\n",
      " 0.24778815 0.24770305 0.24749405 0.24709012 0.24701263 0.24686251\n",
      " 0.24642731 0.24605412 0.24592287 0.24573072 0.24469199 0.24424854\n",
      " 0.24417346 0.24415303 0.24411714 0.24304459 0.24255861 0.24174842\n",
      " 0.24130155 0.2412297  0.24118413 0.24101282 0.24070433 0.24048151\n",
      " 0.23886608 0.23843791 0.23596126 0.2354763  0.23496642 0.23490382\n",
      " 0.23487102 0.23425037 0.23372208 0.23362461 0.23361995 0.23354692\n",
      " 0.23336026 0.23293294 0.23197817 0.23163242 0.23086456 0.23077648\n",
      " 0.23051038 0.23031677 0.23024261 0.22933665 0.22879878 0.22855912\n",
      " 0.22829867 0.22823137 0.22803892 0.2269275  0.2269249  0.2268255\n",
      " 0.22673081 0.22656548 0.22653131 0.22623814 0.2254246  0.22536549\n",
      " 0.22536056 0.22397886 0.22386335 0.22334435 0.22283128 0.22274581\n",
      " 0.22271587 0.22255293 0.222375   0.22228889 0.22174587 0.2215306\n",
      " 0.22079866 0.22036485 0.22019032 0.21989096 0.21986917 0.2197881\n",
      " 0.2194263  0.21941052 0.21938111 0.21866767 0.2185449  0.21828501\n",
      " 0.21817932 0.21770748 0.21761982 0.21746536 0.2174185  0.21713507\n",
      " 0.21578337 0.21571381 0.21562233 0.21554996 0.21540884 0.2153651\n",
      " 0.2146167  0.21422014 0.21399543 0.21368462 0.21320986 0.21289934\n",
      " 0.21219291 0.21213114 0.21166831 0.2116034  0.21140594 0.21124017\n",
      " 0.21113119 0.21108033 0.21076548 0.21056038 0.20986569 0.20983968\n",
      " 0.20979761 0.20973638 0.20940784 0.20911462 0.20834534 0.20819073\n",
      " 0.20756519 0.20750224 0.20742373 0.20736658 0.20720006 0.20717494\n",
      " 0.20695188 0.20658239 0.20624239 0.2061248  0.20569473 0.20536032\n",
      " 0.20484594 0.20440325 0.20438708 0.20432552 0.20419889 0.20387538\n",
      " 0.20343755 0.20341659 0.20340808 0.20335801 0.20310231 0.20305473\n",
      " 0.20298144 0.2029702  0.20265248 0.2023472  0.2019307  0.20166954\n",
      " 0.20160034 0.20158355 0.20154216 0.20145298 0.20092626 0.20092407\n",
      " 0.20076337 0.20034343 0.20013415 0.19951517 0.19936489 0.19935092\n",
      " 0.19922188 0.19920327 0.19920151 0.19874035 0.19814308 0.19808649\n",
      " 0.19805087 0.19771871 0.19768724 0.19760655 0.19726287 0.1972445\n",
      " 0.19664344 0.1965617  0.19636474 0.19635393 0.19626093 0.19619482\n",
      " 0.19612706 0.19582254 0.19562202 0.19554559 0.1954425  0.19512457\n",
      " 0.19470126 0.19468378 0.19450235 0.19442646 0.19431432 0.19425175\n",
      " 0.19409987 0.19402622 0.19397017 0.19387353 0.19367952 0.19360267\n",
      " 0.19357559 0.19356335 0.19328256 0.19320823 0.19284573 0.19275879\n",
      " 0.19272859 0.19267525 0.19260427 0.19258748 0.19194014 0.19186956\n",
      " 0.191723   0.19137775 0.19136794 0.19133538 0.19114554 0.19104822\n",
      " 0.19080195 0.19017764 0.18969776 0.18958353 0.18956716 0.18952762\n",
      " 0.18943912 0.18937293 0.18936478 0.18904288 0.18897313 0.18893233\n",
      " 0.18875739 0.18871444 0.18853266 0.18827074 0.18744881 0.18741584\n",
      " 0.18738246 0.18730271 0.18705228 0.18702526 0.18680674 0.18680065\n",
      " 0.18661546 0.18653404 0.18638617 0.18624352 0.18526827 0.18523348\n",
      " 0.18502554 0.1849638  0.18493923 0.18490082 0.18449887 0.18439686\n",
      " 0.18424432 0.1842338  0.18397657 0.18383192 0.18377062 0.18376849\n",
      " 0.18337915 0.18331823 0.18311497 0.18310449 0.18305297 0.18296873\n",
      " 0.18289322 0.18280291 0.18263048 0.18259207 0.18257067 0.18236093\n",
      " 0.18235863 0.18235189 0.18234452 0.18230509 0.18228605 0.18228372\n",
      " 0.18222859 0.18220808 0.18200484 0.18196986 0.1818688  0.18185939\n",
      " 0.18176252 0.18172351 0.18170467 0.18164342 0.18162186 0.18160997\n",
      " 0.18091232 0.18086616 0.18083403 0.18082746 0.18069897 0.18068164\n",
      " 0.18057568 0.18057566 0.18054461 0.18052114 0.18037207 0.1803254\n",
      " 0.1802713  0.18025837 0.18013076 0.18012724 0.18006457 0.18005249\n",
      " 0.17999595 0.17987683 0.17986555 0.17986517 0.1798272  0.17982297\n",
      " 0.17977083 0.17976927 0.17962641 0.17954159 0.17946106 0.17944259\n",
      " 0.17943191 0.17940725 0.17893677 0.17883494 0.1787854  0.17875647\n",
      " 0.17869838 0.17869091 0.17857835 0.17841596 0.17841004 0.17828093\n",
      " 0.17788735 0.17782386 0.17781878 0.17779694 0.17760017 0.17759975\n",
      " 0.17759098 0.17757836 0.17757435 0.17756352 0.17752281 0.17750261\n",
      " 0.17727235 0.17718333 0.17704165 0.17695502 0.17693281 0.17690266\n",
      " 0.17685995 0.17684848 0.17676011 0.17672248 0.17657918 0.17657613\n",
      " 0.17632588 0.17614124 0.1760731  0.17594976 0.17588957 0.1758625\n",
      " 0.17569903 0.17568315 0.17539886 0.17537444 0.17534566 0.17520643\n",
      " 0.17491327 0.17485887 0.17480526 0.17479715 0.17477397 0.17468413\n",
      " 0.17455892 0.17445212 0.17440694 0.17440078 0.17378908 0.1736867\n",
      " 0.17367003 0.17362835 0.17351397 0.17349159 0.17265431 0.17263812\n",
      " 0.17201545 0.17197855 0.17195356 0.17194645 0.1717811  0.17160141\n",
      " 0.17097165 0.17091046 0.16827703 0.16824643 0.1635691  0.16354718\n",
      " 0.16318156 0.16314145 0.16270974 0.16269941 0.16259816 0.1625795\n",
      " 0.16213451 0.16210908 0.16147533 0.16129676 0.15417574 0.1541751\n",
      " 0.14628354 0.14627151 0.142868   0.14282677 0.09181279 0.09115083\n",
      " 0.08779624 0.08766616 0.08492305 0.08486777 0.08297788 0.0829098\n",
      " 0.08101424 0.08004251 0.0780684  0.07781713 0.07723026 0.07672724\n",
      " 0.07549374 0.07506461 0.07485075 0.07462626 0.07357771 0.0721777\n",
      " 0.06719097 0.06703902 0.06643419 0.06595898 0.06574067 0.06573798\n",
      " 0.06462928 0.06425133 0.06398638 0.06363416 0.06352725 0.0630921\n",
      " 0.05969987 0.05905131 0.05888026 0.05887526 0.05800193 0.05799504\n",
      " 0.05767758 0.05767037 0.05125395 0.05122508 0.0096128 ]\n"
     ]
    }
   ],
   "source": [
    "prob_positive3=probs3[:,1]\n",
    "fpr3,tpr3,threshold3=metrics.roc_curve(y_test,prob_positive3)\n",
    "roc_auc3=metrics.auc(fpr3,tpr3)\n",
    "print('Area under the curve',roc_auc3)\n",
    "print('fpr',fpr3)\n",
    "print('tpr',tpr3)\n",
    "print('threshold',threshold3)"
   ]
  },
  {
   "cell_type": "code",
   "execution_count": 45,
   "metadata": {
    "scrolled": true
   },
   "outputs": [
    {
     "data": {
      "image/png": "[encoded data removed]",
      "text/plain": [
       "<Figure size 432x288 with 1 Axes>"
      ]
     },
     "metadata": {
      "needs_background": "light"
     },
     "output_type": "display_data"
    }
   ],
   "source": [
    "##plot the roc curve:\n",
    "plt.title('Receiver Operating Characteristic')\n",
    "plt.plot(fpr3,tpr3,'orange',label='AUC = %0.2f'%roc_auc3)\n",
    "plt.legend(loc='lower right')\n",
    "plt.plot([0,1],[0,1],color='darkblue',linestyle='--')\n",
    "plt.ylabel('True Positive Rate')\n",
    "plt.xlabel('False Positive Rate')\n",
    "plt.show()"
   ]
  },
  {
   "cell_type": "markdown",
   "metadata": {},
   "source": [
    "### Bernoulli:"
   ]
  },
  {
   "cell_type": "code",
   "execution_count": 46,
   "metadata": {},
   "outputs": [],
   "source": [
    "##Fitting the Bernoulli model:\n",
    "\n",
    "bn=BernoulliNB()\n",
    "bn.fit(x_train,y_train)\n",
    "prediction4=bn.predict(x_test)"
   ]
  },
  {
   "cell_type": "code",
   "execution_count": 47,
   "metadata": {},
   "outputs": [
    {
     "name": "stdout",
     "output_type": "stream",
     "text": [
      "accuracy in (%): 83.65985827428095\n"
     ]
    }
   ],
   "source": [
    "#Compute accuracy and display confusion matrix:\n",
    "print('accuracy in (%):',metrics.accuracy_score(y_test,prediction4)*100)"
   ]
  },
  {
   "cell_type": "code",
   "execution_count": 48,
   "metadata": {},
   "outputs": [
    {
     "name": "stdout",
     "output_type": "stream",
     "text": [
      "Confusion matrix: [[2007    0]\n",
      " [ 392    0]]\n"
     ]
    }
   ],
   "source": [
    "cm4=confusion_matrix(y_test,prediction4)\n",
    "print('Confusion matrix:',cm4)"
   ]
  },
  {
   "cell_type": "code",
   "execution_count": 49,
   "metadata": {},
   "outputs": [
    {
     "data": {
      "text/plain": [
       "array([[0.79939861, 0.20060139],\n",
       "       [0.79939861, 0.20060139],\n",
       "       [0.98521068, 0.01478932],\n",
       "       ...,\n",
       "       [0.79939861, 0.20060139],\n",
       "       [0.9451089 , 0.0548911 ],\n",
       "       [0.79939861, 0.20060139]])"
      ]
     },
     "execution_count": 49,
     "metadata": {},
     "output_type": "execute_result"
    }
   ],
   "source": [
    "probs4=bn.predict_proba(x_test)\n",
    "probs4"
   ]
  },
  {
   "cell_type": "code",
   "execution_count": 50,
   "metadata": {},
   "outputs": [
    {
     "name": "stdout",
     "output_type": "stream",
     "text": [
      "Area under the curve 0.5788267848245426\n",
      "fpr [0.         0.0612855  0.73642252 0.73692078 0.75037369 0.89387145\n",
      " 0.89835575 0.96761335 0.96761335 0.97907324 0.9795715  0.99152965\n",
      " 0.99850523 1.        ]\n",
      "tpr [0.         0.05357143 0.90816327 0.90816327 0.91581633 0.96683673\n",
      " 0.96938776 0.99489796 0.99744898 1.         1.         1.\n",
      " 1.         1.        ]\n",
      "threshold [1.20197089 0.20197089 0.20060139 0.20060139 0.06139751 0.06090844\n",
      " 0.0553347  0.0548911  0.05289492 0.0524698  0.01491395 0.01478932\n",
      " 0.01265421 0.00330163]\n"
     ]
    }
   ],
   "source": [
    "prob_positive4=probs4[:,1]\n",
    "fpr4,tpr4,threshold4=metrics.roc_curve(y_test,prob_positive4)\n",
    "roc_auc4=metrics.auc(fpr4,tpr4)\n",
    "print('Area under the curve',roc_auc4)\n",
    "print('fpr',fpr4)\n",
    "print('tpr',tpr4)\n",
    "print('threshold',threshold4)"
   ]
  },
  {
   "cell_type": "code",
   "execution_count": 51,
   "metadata": {
    "scrolled": true
   },
   "outputs": [
    {
     "data": {
      "image/png": "[encoded data removed]",
      "text/plain": [
       "<Figure size 432x288 with 1 Axes>"
      ]
     },
     "metadata": {
      "needs_background": "light"
     },
     "output_type": "display_data"
    }
   ],
   "source": [
    "##plot the roc curve:\n",
    "plt.title('Receiver Operating Characteristic')\n",
    "plt.plot(fpr4,tpr4,'orange',label='AUC = %0.2f'%roc_auc4)\n",
    "plt.legend(loc='lower right')\n",
    "plt.plot([0,1],[0,1],color='darkblue',linestyle='--')\n",
    "plt.ylabel('True Positive Rate')\n",
    "plt.xlabel('False Positive Rate')\n",
    "plt.show()"
   ]
  },
  {
   "cell_type": "markdown",
   "metadata": {},
   "source": [
    "### Decision Tree:"
   ]
  },
  {
   "cell_type": "code",
   "execution_count": 52,
   "metadata": {},
   "outputs": [],
   "source": [
    "##Fitting the Decision Tree model:\n",
    "\n",
    "clf=DecisionTreeClassifier()\n",
    "clf.fit(x_train,y_train)\n",
    "prediction5=clf.predict(x_test)"
   ]
  },
  {
   "cell_type": "code",
   "execution_count": 53,
   "metadata": {},
   "outputs": [
    {
     "name": "stdout",
     "output_type": "stream",
     "text": [
      "Confusion Matrix is: [[1957   50]\n",
      " [  31  361]]\n"
     ]
    }
   ],
   "source": [
    "#Compute accuracy and display confusion matrix.\n",
    "cm5=confusion_matrix(y_test,prediction5)\n",
    "print('Confusion Matrix is:',cm5)"
   ]
  },
  {
   "cell_type": "code",
   "execution_count": 54,
   "metadata": {},
   "outputs": [
    {
     "name": "stdout",
     "output_type": "stream",
     "text": [
      "Accuracy in %: 96.62359316381826\n"
     ]
    }
   ],
   "source": [
    "print('Accuracy in %:',metrics.accuracy_score(y_test,prediction5)*100)"
   ]
  },
  {
   "cell_type": "code",
   "execution_count": 55,
   "metadata": {},
   "outputs": [
    {
     "data": {
      "text/plain": [
       "array([[1., 0.],\n",
       "       [1., 0.],\n",
       "       [1., 0.],\n",
       "       ...,\n",
       "       [1., 0.],\n",
       "       [1., 0.],\n",
       "       [1., 0.]])"
      ]
     },
     "execution_count": 55,
     "metadata": {},
     "output_type": "execute_result"
    }
   ],
   "source": [
    "probs5=clf.predict_proba(x_test)\n",
    "probs5"
   ]
  },
  {
   "cell_type": "code",
   "execution_count": 56,
   "metadata": {},
   "outputs": [
    {
     "name": "stdout",
     "output_type": "stream",
     "text": [
      "Area under the curve 0.9480027810825377\n",
      "fpr [0.         0.02491281 1.        ]\n",
      "tpr [0.         0.92091837 1.        ]\n",
      "threshold [2. 1. 0.]\n"
     ]
    }
   ],
   "source": [
    "prob_positive5=probs5[:,1]\n",
    "fpr5,tpr5,threshold5=metrics.roc_curve(y_test,prob_positive5)\n",
    "roc_auc5=metrics.auc(fpr5,tpr5)\n",
    "print('Area under the curve',roc_auc5)\n",
    "print('fpr',fpr5)\n",
    "print('tpr',tpr5)\n",
    "print('threshold',threshold5)"
   ]
  },
  {
   "cell_type": "code",
   "execution_count": 57,
   "metadata": {
    "scrolled": true
   },
   "outputs": [
    {
     "data": {
      "image/png": "[encoded data removed]",
      "text/plain": [
       "<Figure size 432x288 with 1 Axes>"
      ]
     },
     "metadata": {
      "needs_background": "light"
     },
     "output_type": "display_data"
    }
   ],
   "source": [
    "##plot the roc curve:\n",
    "plt.title('Receiver Operating Characteristic')\n",
    "plt.plot(fpr5,tpr5,'orange',label='AUC = %0.2f'%roc_auc5)\n",
    "plt.legend(loc='lower right')\n",
    "plt.plot([0,1],[0,1],color='darkblue',linestyle='--')\n",
    "plt.ylabel('True Positive Rate')\n",
    "plt.xlabel('False Positive Rate')\n",
    "plt.show()"
   ]
  },
  {
   "cell_type": "markdown",
   "metadata": {},
   "source": [
    "### Random Forest:"
   ]
  },
  {
   "cell_type": "code",
   "execution_count": 58,
   "metadata": {},
   "outputs": [],
   "source": [
    "##Fitting the Random Forest model:\n",
    "\n",
    "rf=RandomForestClassifier(n_estimators=100,random_state=0)\n",
    "rf.fit(x_train,y_train)\n",
    "prediction6=rf.predict(x_test)"
   ]
  },
  {
   "cell_type": "code",
   "execution_count": 59,
   "metadata": {},
   "outputs": [
    {
     "name": "stdout",
     "output_type": "stream",
     "text": [
      "Confusion Matrix is: [[1999    8]\n",
      " [  29  363]]\n"
     ]
    }
   ],
   "source": [
    "#Compute accuracy and display confusion matrix.\n",
    "cm6=confusion_matrix(y_test,prediction6)\n",
    "print('Confusion Matrix is:',cm6)"
   ]
  },
  {
   "cell_type": "code",
   "execution_count": 60,
   "metadata": {},
   "outputs": [
    {
     "name": "stdout",
     "output_type": "stream",
     "text": [
      "Accuracy in %: 98.45769070446019\n"
     ]
    }
   ],
   "source": [
    "print('Accuracy in %:',metrics.accuracy_score(y_test,prediction6)*100)"
   ]
  },
  {
   "cell_type": "code",
   "execution_count": 61,
   "metadata": {},
   "outputs": [
    {
     "data": {
      "text/plain": [
       "array([[0.99, 0.01],\n",
       "       [0.99, 0.01],\n",
       "       [1.  , 0.  ],\n",
       "       ...,\n",
       "       [1.  , 0.  ],\n",
       "       [0.99, 0.01],\n",
       "       [0.96, 0.04]])"
      ]
     },
     "execution_count": 61,
     "metadata": {},
     "output_type": "execute_result"
    }
   ],
   "source": [
    "probs6=rf.predict_proba(x_test)\n",
    "probs6"
   ]
  },
  {
   "cell_type": "code",
   "execution_count": 62,
   "metadata": {},
   "outputs": [
    {
     "name": "stdout",
     "output_type": "stream",
     "text": [
      "Area under the curve 0.979085318731379\n",
      "fpr [0.00000000e+00 9.96512207e-04 1.49476831e-03 2.49128052e-03\n",
      " 2.98953662e-03 2.98953662e-03 2.98953662e-03 2.98953662e-03\n",
      " 2.98953662e-03 2.98953662e-03 2.98953662e-03 2.98953662e-03\n",
      " 2.98953662e-03 2.98953662e-03 2.98953662e-03 2.98953662e-03\n",
      " 3.48779273e-03 3.48779273e-03 3.98604883e-03 3.98604883e-03\n",
      " 5.97907324e-03 5.97907324e-03 8.47035376e-03 9.46686597e-03\n",
      " 9.96512207e-03 1.09616343e-02 1.39511709e-02 1.44494270e-02\n",
      " 1.64424514e-02 1.94319880e-02 1.99302441e-02 2.09267564e-02\n",
      " 2.34180369e-02 2.49128052e-02 2.69058296e-02 3.03936223e-02\n",
      " 3.48779273e-02 3.73692078e-02 4.18535127e-02 4.88290982e-02\n",
      " 5.68011958e-02 6.72645740e-02 7.92227205e-02 9.41704036e-02\n",
      " 1.13104136e-01 1.37518685e-01 1.64424514e-01 2.15744893e-01\n",
      " 3.02441455e-01 4.59392128e-01 1.00000000e+00]\n",
      "tpr [0.         0.62244898 0.71428571 0.78316327 0.81887755 0.83928571\n",
      " 0.8494898  0.85459184 0.85714286 0.86734694 0.87244898 0.88010204\n",
      " 0.89030612 0.90306122 0.91071429 0.92091837 0.92091837 0.92346939\n",
      " 0.92346939 0.92602041 0.92602041 0.92857143 0.92857143 0.92857143\n",
      " 0.92857143 0.92857143 0.92857143 0.92857143 0.92857143 0.92857143\n",
      " 0.92857143 0.92857143 0.92857143 0.92857143 0.92857143 0.92857143\n",
      " 0.93112245 0.93112245 0.93622449 0.93622449 0.93877551 0.93877551\n",
      " 0.94387755 0.94387755 0.95153061 0.95663265 0.96683673 0.96683673\n",
      " 0.9744898  0.9872449  1.        ]\n",
      "threshold [2.   1.   0.99 0.98 0.97 0.96 0.95 0.94 0.93 0.92 0.91 0.88 0.86 0.73\n",
      " 0.72 0.64 0.63 0.57 0.52 0.51 0.42 0.41 0.3  0.29 0.28 0.27 0.25 0.24\n",
      " 0.23 0.21 0.2  0.19 0.18 0.17 0.16 0.15 0.14 0.13 0.12 0.11 0.1  0.09\n",
      " 0.08 0.07 0.06 0.05 0.04 0.03 0.02 0.01 0.  ]\n"
     ]
    }
   ],
   "source": [
    "prob_positive6=probs6[:,1]\n",
    "fpr6,tpr6,threshold6=metrics.roc_curve(y_test,prob_positive6)\n",
    "roc_auc6=metrics.auc(fpr6,tpr6)\n",
    "print('Area under the curve',roc_auc6)\n",
    "print('fpr',fpr6)\n",
    "print('tpr',tpr6)\n",
    "print('threshold',threshold6)"
   ]
  },
  {
   "cell_type": "code",
   "execution_count": 63,
   "metadata": {
    "scrolled": true
   },
   "outputs": [
    {
     "data": {
      "image/png": "[encoded data removed]",
      "text/plain": [
       "<Figure size 432x288 with 1 Axes>"
      ]
     },
     "metadata": {
      "needs_background": "light"
     },
     "output_type": "display_data"
    }
   ],
   "source": [
    "##plot the roc curve:\n",
    "plt.title('Receiver Operating Characteristic')\n",
    "plt.plot(fpr6,tpr6,'orange',label='AUC = %0.2f'%roc_auc6)\n",
    "plt.legend(loc='lower right')\n",
    "plt.plot([0,1],[0,1],color='darkblue',linestyle='--')\n",
    "plt.ylabel('True Positive Rate')\n",
    "plt.xlabel('False Positive Rate')\n",
    "plt.show()"
   ]
  },
  {
   "cell_type": "markdown",
   "metadata": {},
   "source": [
    "### Adaboost:"
   ]
  },
  {
   "cell_type": "code",
   "execution_count": 64,
   "metadata": {},
   "outputs": [],
   "source": [
    "##Fitting the Adaboost model:\n",
    "\n",
    "ab=AdaBoostClassifier(n_estimators=100)\n",
    "ab.fit(x_train,y_train)\n",
    "prediction7=ab.predict(x_test)"
   ]
  },
  {
   "cell_type": "code",
   "execution_count": 65,
   "metadata": {},
   "outputs": [
    {
     "name": "stdout",
     "output_type": "stream",
     "text": [
      "Confusion Matrix is: [[1962   45]\n",
      " [  43  349]]\n"
     ]
    }
   ],
   "source": [
    "#Compute accuracy and display confusion matrix.\n",
    "cm7=confusion_matrix(y_test,prediction7)\n",
    "print('Confusion Matrix is:',cm7)"
   ]
  },
  {
   "cell_type": "code",
   "execution_count": 66,
   "metadata": {},
   "outputs": [
    {
     "name": "stdout",
     "output_type": "stream",
     "text": [
      "Accuracy in %: 96.33180491871613\n"
     ]
    }
   ],
   "source": [
    "print('Accuracy in %:',metrics.accuracy_score(y_test,prediction7)*100)"
   ]
  },
  {
   "cell_type": "code",
   "execution_count": 67,
   "metadata": {},
   "outputs": [
    {
     "data": {
      "text/plain": [
       "array([[0.513302  , 0.486698  ],\n",
       "       [0.58907426, 0.41092574],\n",
       "       [0.52267899, 0.47732101],\n",
       "       ...,\n",
       "       [0.51438642, 0.48561358],\n",
       "       [0.67834396, 0.32165604],\n",
       "       [0.50701396, 0.49298604]])"
      ]
     },
     "execution_count": 67,
     "metadata": {},
     "output_type": "execute_result"
    }
   ],
   "source": [
    "probs7=ab.predict_proba(x_test)\n",
    "probs7"
   ]
  },
  {
   "cell_type": "code",
   "execution_count": 68,
   "metadata": {},
   "outputs": [
    {
     "name": "stdout",
     "output_type": "stream",
     "text": [
      "Area under the curve 0.9776102518735447\n",
      "fpr [0.00000000e+00 0.00000000e+00 0.00000000e+00 0.00000000e+00\n",
      " 0.00000000e+00 0.00000000e+00 0.00000000e+00 0.00000000e+00\n",
      " 0.00000000e+00 0.00000000e+00 0.00000000e+00 0.00000000e+00\n",
      " 0.00000000e+00 0.00000000e+00 0.00000000e+00 0.00000000e+00\n",
      " 0.00000000e+00 0.00000000e+00 0.00000000e+00 0.00000000e+00\n",
      " 0.00000000e+00 0.00000000e+00 0.00000000e+00 0.00000000e+00\n",
      " 0.00000000e+00 0.00000000e+00 0.00000000e+00 0.00000000e+00\n",
      " 0.00000000e+00 0.00000000e+00 0.00000000e+00 0.00000000e+00\n",
      " 0.00000000e+00 9.96512207e-04 9.96512207e-04 1.49476831e-03\n",
      " 1.49476831e-03 1.49476831e-03 1.49476831e-03 1.49476831e-03\n",
      " 1.49476831e-03 1.49476831e-03 1.49476831e-03 1.49476831e-03\n",
      " 1.99302441e-03 1.99302441e-03 1.99302441e-03 1.99302441e-03\n",
      " 2.49128052e-03 2.49128052e-03 2.49128052e-03 2.49128052e-03\n",
      " 2.49128052e-03 2.98953662e-03 2.98953662e-03 2.98953662e-03\n",
      " 2.98953662e-03 3.48779273e-03 3.48779273e-03 3.98604883e-03\n",
      " 3.98604883e-03 3.98604883e-03 3.98604883e-03 3.98604883e-03\n",
      " 3.98604883e-03 3.98604883e-03 3.98604883e-03 4.48430493e-03\n",
      " 4.48430493e-03 4.48430493e-03 5.48081714e-03 5.48081714e-03\n",
      " 5.48081714e-03 5.48081714e-03 5.97907324e-03 5.97907324e-03\n",
      " 5.97907324e-03 5.97907324e-03 5.97907324e-03 7.47384155e-03\n",
      " 7.47384155e-03 8.47035376e-03 8.47035376e-03 8.47035376e-03\n",
      " 8.96860987e-03 8.96860987e-03 9.46686597e-03 9.46686597e-03\n",
      " 9.46686597e-03 9.46686597e-03 9.46686597e-03 9.96512207e-03\n",
      " 9.96512207e-03 1.09616343e-02 1.09616343e-02 1.14598904e-02\n",
      " 1.14598904e-02 1.19581465e-02 1.19581465e-02 1.19581465e-02\n",
      " 1.19581465e-02 1.24564026e-02 1.24564026e-02 1.34529148e-02\n",
      " 1.34529148e-02 1.34529148e-02 1.34529148e-02 1.39511709e-02\n",
      " 1.39511709e-02 1.39511709e-02 1.39511709e-02 1.44494270e-02\n",
      " 1.44494270e-02 1.44494270e-02 1.44494270e-02 1.44494270e-02\n",
      " 1.44494270e-02 1.49476831e-02 1.49476831e-02 1.54459392e-02\n",
      " 1.54459392e-02 1.54459392e-02 1.54459392e-02 1.64424514e-02\n",
      " 1.64424514e-02 1.69407075e-02 1.69407075e-02 1.74389636e-02\n",
      " 1.74389636e-02 1.74389636e-02 1.74389636e-02 1.84354758e-02\n",
      " 1.84354758e-02 1.89337319e-02 1.89337319e-02 1.99302441e-02\n",
      " 1.99302441e-02 2.04285002e-02 2.04285002e-02 2.24215247e-02\n",
      " 2.24215247e-02 2.44145491e-02 2.44145491e-02 2.54110613e-02\n",
      " 2.54110613e-02 2.69058296e-02 2.69058296e-02 2.88988540e-02\n",
      " 2.88988540e-02 3.28849028e-02 3.28849028e-02 3.33831589e-02\n",
      " 3.33831589e-02 3.53761834e-02 3.53761834e-02 3.63726956e-02\n",
      " 3.63726956e-02 3.78674639e-02 3.78674639e-02 4.08570005e-02\n",
      " 4.08570005e-02 4.18535127e-02 4.18535127e-02 4.28500249e-02\n",
      " 4.28500249e-02 4.68360737e-02 4.68360737e-02 6.92575984e-02\n",
      " 6.92575984e-02 6.97558545e-02 6.97558545e-02 7.77279522e-02\n",
      " 7.77279522e-02 8.52017937e-02 8.52017937e-02 8.81913303e-02\n",
      " 8.81913303e-02 1.00149477e-01 1.01145989e-01 1.13104136e-01\n",
      " 1.14598904e-01 1.23567514e-01 1.23567514e-01 1.25062282e-01\n",
      " 1.26058794e-01 1.28051819e-01 1.28051819e-01 1.28550075e-01\n",
      " 1.29546587e-01 1.33034380e-01 1.33034380e-01 1.36522172e-01\n",
      " 1.37518685e-01 1.57448929e-01 1.58445441e-01 1.72396612e-01\n",
      " 1.73393124e-01 1.74389636e-01 1.75386148e-01 1.77379173e-01\n",
      " 1.78375685e-01 1.84354758e-01 1.85351271e-01 1.89337319e-01\n",
      " 1.90333832e-01 1.94319880e-01 1.95316393e-01 2.00797210e-01\n",
      " 2.01793722e-01 2.02291978e-01 2.02291978e-01 2.17239661e-01\n",
      " 2.18734429e-01 2.51619332e-01 2.52615845e-01 2.67065272e-01\n",
      " 2.67065272e-01 2.69058296e-01 2.69058296e-01 2.70054808e-01\n",
      " 2.75037369e-01 2.75037369e-01 2.88490284e-01 2.88490284e-01\n",
      " 3.00946687e-01 3.01943199e-01 3.02939711e-01 3.02939711e-01\n",
      " 3.10911809e-01 3.11908321e-01 3.12406577e-01 3.13403089e-01\n",
      " 3.34828102e-01 3.34828102e-01 3.45789736e-01 3.46786248e-01\n",
      " 3.55754858e-01 3.56751370e-01 3.68709517e-01 3.69706029e-01\n",
      " 3.72197309e-01 3.72695566e-01 3.76681614e-01 3.78176383e-01\n",
      " 3.85151968e-01 3.85151968e-01 3.93622322e-01 3.93622322e-01\n",
      " 4.34977578e-01 4.35974091e-01 4.38465371e-01 4.39461883e-01\n",
      " 4.43946188e-01 4.44942701e-01 4.57897359e-01 4.58893871e-01\n",
      " 4.67862481e-01 4.67862481e-01 4.82311908e-01 4.83806677e-01\n",
      " 4.86297957e-01 4.87294469e-01 5.19182860e-01 5.20179372e-01\n",
      " 5.41604385e-01 5.42600897e-01 5.74489287e-01 5.74489287e-01\n",
      " 5.77977080e-01 5.78973592e-01 6.04384654e-01 6.05381166e-01\n",
      " 6.25311410e-01 6.26307922e-01 6.50722471e-01 6.51718984e-01\n",
      " 6.66666667e-01 6.67663179e-01 6.78624813e-01 6.79621325e-01\n",
      " 7.07025411e-01 7.08021923e-01 7.19980070e-01 7.19980070e-01\n",
      " 7.33432985e-01 7.34429497e-01 7.42899851e-01 7.42899851e-01\n",
      " 8.33084205e-01 8.34578974e-01 9.11310414e-01 9.12306926e-01\n",
      " 9.17289487e-01 9.18285999e-01 9.68111609e-01 9.69108122e-01\n",
      " 1.00000000e+00]\n",
      "tpr [0.         0.00255102 0.02806122 0.03316327 0.03826531 0.04336735\n",
      " 0.07653061 0.08418367 0.09438776 0.0994898  0.11734694 0.12244898\n",
      " 0.12755102 0.13520408 0.15561224 0.16071429 0.16581633 0.17602041\n",
      " 0.18112245 0.19132653 0.19387755 0.19897959 0.20408163 0.20918367\n",
      " 0.21173469 0.21938776 0.22959184 0.23469388 0.24489796 0.25510204\n",
      " 0.27806122 0.28571429 0.29336735 0.29336735 0.29846939 0.29846939\n",
      " 0.30102041 0.31632653 0.32397959 0.32908163 0.33163265 0.33928571\n",
      " 0.34438776 0.3494898  0.38265306 0.39030612 0.39795918 0.40306122\n",
      " 0.40306122 0.40816327 0.42602041 0.42857143 0.43367347 0.43367347\n",
      " 0.43877551 0.44132653 0.45663265 0.45663265 0.46173469 0.46173469\n",
      " 0.46428571 0.53316327 0.53826531 0.54846939 0.55357143 0.56887755\n",
      " 0.57397959 0.57397959 0.57908163 0.6122449  0.6122449  0.61479592\n",
      " 0.6377551  0.64030612 0.64030612 0.64795918 0.66071429 0.66581633\n",
      " 0.67091837 0.67091837 0.67602041 0.67602041 0.68877551 0.69387755\n",
      " 0.69387755 0.69642857 0.69642857 0.70408163 0.70918367 0.71938776\n",
      " 0.72193878 0.72193878 0.7244898  0.7244898  0.72704082 0.72704082\n",
      " 0.73214286 0.73214286 0.73979592 0.75       0.76020408 0.76020408\n",
      " 0.76530612 0.76530612 0.76785714 0.7755102  0.77806122 0.77806122\n",
      " 0.78316327 0.78826531 0.79081633 0.79081633 0.79591837 0.80102041\n",
      " 0.80357143 0.80867347 0.81122449 0.81122449 0.82142857 0.82142857\n",
      " 0.82653061 0.83163265 0.83673469 0.83673469 0.83928571 0.83928571\n",
      " 0.84438776 0.84438776 0.85459184 0.8622449  0.86734694 0.86734694\n",
      " 0.86989796 0.86989796 0.875      0.875      0.87755102 0.87755102\n",
      " 0.88010204 0.88010204 0.89540816 0.89540816 0.89795918 0.89795918\n",
      " 0.9005102  0.9005102  0.90561224 0.90561224 0.90816327 0.90816327\n",
      " 0.91071429 0.91071429 0.91581633 0.91581633 0.91836735 0.91836735\n",
      " 0.92346939 0.92346939 0.92602041 0.92602041 0.93367347 0.93367347\n",
      " 0.93622449 0.93622449 0.94132653 0.94132653 0.94387755 0.94387755\n",
      " 0.94642857 0.94642857 0.94897959 0.94897959 0.95153061 0.95153061\n",
      " 0.95408163 0.95408163 0.95663265 0.95663265 0.95663265 0.95663265\n",
      " 0.95663265 0.95663265 0.95918367 0.95918367 0.95918367 0.95918367\n",
      " 0.96173469 0.96173469 0.96173469 0.96173469 0.96428571 0.96428571\n",
      " 0.96428571 0.96428571 0.96428571 0.96428571 0.96428571 0.96428571\n",
      " 0.96428571 0.96428571 0.96428571 0.96428571 0.96428571 0.96428571\n",
      " 0.96428571 0.96428571 0.96428571 0.96428571 0.96428571 0.96428571\n",
      " 0.96683673 0.96683673 0.96683673 0.96683673 0.96683673 0.96683673\n",
      " 0.96938776 0.96938776 0.97193878 0.97193878 0.97193878 0.9744898\n",
      " 0.9744898  0.97704082 0.97704082 0.97704082 0.97704082 0.97959184\n",
      " 0.97959184 0.97959184 0.97959184 0.97959184 0.97959184 0.98214286\n",
      " 0.98214286 0.98214286 0.98214286 0.98214286 0.98214286 0.98214286\n",
      " 0.98214286 0.98469388 0.98469388 0.98469388 0.98469388 0.9872449\n",
      " 0.9872449  0.98979592 0.98979592 0.98979592 0.98979592 0.98979592\n",
      " 0.98979592 0.98979592 0.98979592 0.98979592 0.98979592 0.99234694\n",
      " 0.99234694 0.99234694 0.99234694 0.99234694 0.99234694 0.99234694\n",
      " 0.99234694 0.99234694 0.99234694 0.99489796 0.99489796 0.99489796\n",
      " 0.99489796 0.99489796 0.99489796 0.99489796 0.99489796 0.99489796\n",
      " 0.99489796 0.99489796 0.99489796 0.99489796 0.99489796 0.99489796\n",
      " 0.99489796 0.99744898 0.99744898 0.99744898 0.99744898 1.\n",
      " 1.         1.         1.         1.         1.         1.\n",
      " 1.         1.         1.        ]\n",
      "threshold [1.72040934 0.72040934 0.67082752 0.67046392 0.66937815 0.669142\n",
      " 0.63690472 0.63689596 0.63642338 0.63615912 0.63350896 0.63285938\n",
      " 0.63238458 0.63211908 0.58809069 0.58691913 0.58652916 0.58624201\n",
      " 0.58586381 0.58584265 0.58563072 0.58546928 0.58535359 0.5852608\n",
      " 0.58525072 0.58506971 0.58424749 0.58392166 0.58229176 0.58226353\n",
      " 0.55049378 0.54929806 0.53952168 0.51228253 0.512111   0.51133489\n",
      " 0.51087464 0.51015293 0.50935703 0.50901669 0.50897156 0.50891637\n",
      " 0.50862983 0.50850612 0.508344   0.50798926 0.5078334  0.50776965\n",
      " 0.50764844 0.50758396 0.50754799 0.5074213  0.50736053 0.50726867\n",
      " 0.50716248 0.50710728 0.50705816 0.50704078 0.50703738 0.50679991\n",
      " 0.5065881  0.50638538 0.50636642 0.50626209 0.5059945  0.50587473\n",
      " 0.50582135 0.50580295 0.50575144 0.50558929 0.50526951 0.5052048\n",
      " 0.50520374 0.50516412 0.50515692 0.50514853 0.50507862 0.50502524\n",
      " 0.50475299 0.50441949 0.50440761 0.5043775  0.5043524  0.50410304\n",
      " 0.50402477 0.50402065 0.5039836  0.50391844 0.50376802 0.5035338\n",
      " 0.50353053 0.50315765 0.50315151 0.50304011 0.50301983 0.50295977\n",
      " 0.50283578 0.50275159 0.50274613 0.50273149 0.50260819 0.50257818\n",
      " 0.50255153 0.50245425 0.50245348 0.50242425 0.50238209 0.50235752\n",
      " 0.50229085 0.50222078 0.50204081 0.50196688 0.5019353  0.50185349\n",
      " 0.50179072 0.50178457 0.50176481 0.50175852 0.50157154 0.50151136\n",
      " 0.50142458 0.501409   0.5013712  0.50135295 0.50134277 0.50133977\n",
      " 0.50127169 0.50126999 0.50108652 0.50105729 0.50098837 0.50090815\n",
      " 0.50086846 0.50080813 0.50070424 0.50066411 0.50061649 0.5006128\n",
      " 0.50048748 0.5003032  0.49987259 0.49973198 0.49957757 0.49955088\n",
      " 0.49950907 0.49944197 0.49934597 0.49922769 0.49921866 0.49901171\n",
      " 0.49899963 0.49895791 0.49880502 0.49842149 0.49840629 0.49834487\n",
      " 0.49828631 0.49812185 0.49810115 0.49792582 0.49773738 0.49770921\n",
      " 0.49768759 0.49758158 0.49750736 0.49724811 0.49722111 0.49585058\n",
      " 0.49580841 0.49571716 0.49569864 0.49532702 0.49532116 0.49493426\n",
      " 0.49492122 0.49467266 0.4946679  0.4942479  0.49419626 0.49381354\n",
      " 0.49380178 0.49344408 0.49343138 0.49342539 0.49341624 0.49330997\n",
      " 0.49330356 0.49328898 0.49327731 0.49320161 0.49319108 0.49308935\n",
      " 0.49308773 0.49259767 0.49259743 0.49214013 0.49212726 0.49212313\n",
      " 0.49211772 0.49209548 0.49207075 0.49191522 0.49188016 0.49180231\n",
      " 0.49179966 0.49169363 0.49168667 0.49152082 0.49150593 0.4914949\n",
      " 0.4914947  0.49111774 0.49111438 0.49039548 0.49039216 0.4901521\n",
      " 0.49015117 0.49011981 0.49011714 0.49011124 0.49003873 0.49002763\n",
      " 0.48983337 0.48983217 0.48956909 0.48955659 0.48951191 0.48950914\n",
      " 0.48935604 0.48934098 0.48934094 0.48934087 0.48901159 0.48900691\n",
      " 0.48881041 0.48881025 0.48871538 0.48871335 0.48849255 0.48849227\n",
      " 0.4884202  0.48841907 0.48836281 0.4883623  0.48829471 0.48828084\n",
      " 0.48810577 0.48810306 0.48743926 0.48738446 0.48736379 0.48736226\n",
      " 0.48728863 0.4872686  0.48703917 0.48703791 0.48691808 0.48691624\n",
      " 0.48655967 0.48655218 0.48652882 0.48652222 0.48603247 0.4860296\n",
      " 0.48572324 0.48571222 0.48517255 0.48516697 0.48505022 0.48504538\n",
      " 0.48455479 0.48452972 0.48413985 0.48413124 0.4836175  0.48360522\n",
      " 0.48305649 0.48303614 0.48276483 0.48267758 0.48184162 0.48182988\n",
      " 0.48142903 0.48142536 0.48084717 0.48084122 0.48049662 0.48047767\n",
      " 0.40358087 0.40350189 0.3984556  0.39843047 0.39790695 0.39789465\n",
      " 0.39289598 0.39284042 0.24030178]\n"
     ]
    }
   ],
   "source": [
    "prob_positive7=probs7[:,1]\n",
    "fpr7,tpr7,threshold7=metrics.roc_curve(y_test,prob_positive7)\n",
    "roc_auc7=metrics.auc(fpr7,tpr7)\n",
    "print('Area under the curve',roc_auc7)\n",
    "print('fpr',fpr7)\n",
    "print('tpr',tpr7)\n",
    "print('threshold',threshold7)"
   ]
  },
  {
   "cell_type": "code",
   "execution_count": 69,
   "metadata": {},
   "outputs": [
    {
     "data": {
      "image/png": "[encoded data removed]",
      "text/plain": [
       "<Figure size 432x288 with 1 Axes>"
      ]
     },
     "metadata": {
      "needs_background": "light"
     },
     "output_type": "display_data"
    }
   ],
   "source": [
    "##plot the roc curve:\n",
    "plt.title('Receiver Operating Characteristic')\n",
    "plt.plot(fpr7,tpr7,'orange',label='AUC = %0.2f'%roc_auc7)\n",
    "plt.legend(loc='lower right')\n",
    "plt.plot([0,1],[0,1],color='darkblue',linestyle='--')\n",
    "plt.ylabel('True Positive Rate')\n",
    "plt.xlabel('False Positive Rate')\n",
    "plt.show()"
   ]
  },
  {
   "cell_type": "markdown",
   "metadata": {},
   "source": [
    "### Gradient Boosting:"
   ]
  },
  {
   "cell_type": "code",
   "execution_count": 70,
   "metadata": {},
   "outputs": [],
   "source": [
    "##Fitting the Gradient Boosting model:\n",
    "\n",
    "gb=GradientBoostingClassifier(n_estimators=100)\n",
    "gb.fit(x_train,y_train)\n",
    "prediction8=gb.predict(x_test)"
   ]
  },
  {
   "cell_type": "code",
   "execution_count": 71,
   "metadata": {},
   "outputs": [
    {
     "name": "stdout",
     "output_type": "stream",
     "text": [
      "Confusion Matrix is: [[1988   19]\n",
      " [  28  364]]\n"
     ]
    }
   ],
   "source": [
    "#Compute accuracy and display confusion matrix.\n",
    "cm8=confusion_matrix(y_test,prediction8)\n",
    "print('Confusion Matrix is:',cm8)"
   ]
  },
  {
   "cell_type": "code",
   "execution_count": 72,
   "metadata": {},
   "outputs": [
    {
     "name": "stdout",
     "output_type": "stream",
     "text": [
      "Accuracy in %: 98.0408503543143\n"
     ]
    }
   ],
   "source": [
    "print('Accuracy in %:',metrics.accuracy_score(y_test,prediction8)*100)"
   ]
  },
  {
   "cell_type": "code",
   "execution_count": 73,
   "metadata": {},
   "outputs": [
    {
     "data": {
      "text/plain": [
       "array([[0.98468648, 0.01531352],\n",
       "       [0.99413099, 0.00586901],\n",
       "       [0.99559621, 0.00440379],\n",
       "       ...,\n",
       "       [0.99100785, 0.00899215],\n",
       "       [0.99031602, 0.00968398],\n",
       "       [0.68996854, 0.31003146]])"
      ]
     },
     "execution_count": 73,
     "metadata": {},
     "output_type": "execute_result"
    }
   ],
   "source": [
    "probs8=gb.predict_proba(x_test)\n",
    "probs8"
   ]
  },
  {
   "cell_type": "code",
   "execution_count": 74,
   "metadata": {},
   "outputs": [
    {
     "name": "stdout",
     "output_type": "stream",
     "text": [
      "Area under the curve 0.9876560863508332\n",
      "fpr [0.00000000e+00 0.00000000e+00 0.00000000e+00 0.00000000e+00\n",
      " 0.00000000e+00 0.00000000e+00 0.00000000e+00 0.00000000e+00\n",
      " 0.00000000e+00 0.00000000e+00 0.00000000e+00 0.00000000e+00\n",
      " 0.00000000e+00 0.00000000e+00 0.00000000e+00 0.00000000e+00\n",
      " 0.00000000e+00 0.00000000e+00 0.00000000e+00 0.00000000e+00\n",
      " 0.00000000e+00 0.00000000e+00 0.00000000e+00 0.00000000e+00\n",
      " 0.00000000e+00 0.00000000e+00 0.00000000e+00 0.00000000e+00\n",
      " 0.00000000e+00 0.00000000e+00 0.00000000e+00 4.98256104e-04\n",
      " 4.98256104e-04 4.98256104e-04 4.98256104e-04 4.98256104e-04\n",
      " 4.98256104e-04 4.98256104e-04 4.98256104e-04 4.98256104e-04\n",
      " 4.98256104e-04 4.98256104e-04 4.98256104e-04 4.98256104e-04\n",
      " 4.98256104e-04 4.98256104e-04 4.98256104e-04 4.98256104e-04\n",
      " 4.98256104e-04 4.98256104e-04 4.98256104e-04 4.98256104e-04\n",
      " 4.98256104e-04 4.98256104e-04 4.98256104e-04 4.98256104e-04\n",
      " 4.98256104e-04 4.98256104e-04 9.96512207e-04 9.96512207e-04\n",
      " 1.49476831e-03 1.49476831e-03 1.49476831e-03 1.49476831e-03\n",
      " 1.49476831e-03 1.49476831e-03 1.49476831e-03 1.49476831e-03\n",
      " 1.49476831e-03 1.49476831e-03 2.49128052e-03 2.49128052e-03\n",
      " 2.49128052e-03 2.49128052e-03 2.98953662e-03 2.98953662e-03\n",
      " 3.48779273e-03 3.48779273e-03 3.98604883e-03 3.98604883e-03\n",
      " 5.48081714e-03 5.48081714e-03 7.47384155e-03 7.47384155e-03\n",
      " 9.96512207e-03 9.96512207e-03 1.94319880e-02 2.04285002e-02\n",
      " 2.98953662e-02 2.98953662e-02 3.13901345e-02 3.13901345e-02\n",
      " 3.73692078e-02 3.73692078e-02 4.08570005e-02 4.18535127e-02\n",
      " 4.53413054e-02 4.53413054e-02 4.78325859e-02 4.88290982e-02\n",
      " 5.72994519e-02 5.72994519e-02 6.77628301e-02 6.77628301e-02\n",
      " 7.47384155e-02 7.57349278e-02 7.67314400e-02 7.77279522e-02\n",
      " 7.92227205e-02 8.02192327e-02 8.32087693e-02 8.42052815e-02\n",
      " 8.81913303e-02 8.81913303e-02 9.06826109e-02 9.06826109e-02\n",
      " 9.71599402e-02 9.71599402e-02 9.76581963e-02 9.76581963e-02\n",
      " 1.12107623e-01 1.12107623e-01 1.16591928e-01 1.16591928e-01\n",
      " 1.22571001e-01 1.24065770e-01 1.24564026e-01 1.24564026e-01\n",
      " 1.43996014e-01 1.43996014e-01 1.47982063e-01 1.47982063e-01\n",
      " 1.59940209e-01 1.61933234e-01 1.61933234e-01 1.62929746e-01\n",
      " 1.63926258e-01 1.65919283e-01 1.65919283e-01 1.66915795e-01\n",
      " 1.67912307e-01 1.67912307e-01 1.74389636e-01 1.75386148e-01\n",
      " 1.77877429e-01 1.79870453e-01 1.91828600e-01 1.92825112e-01\n",
      " 1.97309417e-01 1.98305929e-01 1.99302441e-01 2.00298954e-01\n",
      " 2.03288490e-01 2.04783259e-01 2.04783259e-01 2.06278027e-01\n",
      " 2.07274539e-01 2.07772795e-01 2.08769307e-01 2.10264076e-01\n",
      " 2.11260588e-01 2.11758844e-01 2.12755356e-01 2.15744893e-01\n",
      " 2.17239661e-01 2.18236173e-01 2.26706527e-01 2.27703039e-01\n",
      " 2.28699552e-01 2.29696064e-01 2.29696064e-01 2.31190832e-01\n",
      " 2.31190832e-01 2.32187344e-01 2.35176881e-01 2.36173393e-01\n",
      " 2.37169905e-01 2.38664674e-01 2.39661186e-01 2.43148979e-01\n",
      " 2.44145491e-01 2.45142003e-01 2.48131540e-01 2.49128052e-01\n",
      " 2.50622820e-01 2.51619332e-01 2.53612357e-01 2.55605381e-01\n",
      " 2.57100149e-01 2.58096662e-01 2.61584454e-01 2.62580967e-01\n",
      " 2.63079223e-01 2.64573991e-01 2.67065272e-01 2.68061784e-01\n",
      " 2.68560040e-01 2.70553064e-01 2.71549576e-01 2.72546089e-01\n",
      " 2.76033881e-01 2.77030394e-01 2.78525162e-01 2.78525162e-01\n",
      " 2.81016442e-01 2.82012955e-01 2.84005979e-01 2.85999003e-01\n",
      " 2.86497260e-01 2.88490284e-01 2.90483308e-01 2.91479821e-01\n",
      " 2.93971101e-01 2.94469357e-01 2.95465869e-01 2.96960638e-01\n",
      " 2.97957150e-01 3.01444943e-01 3.02441455e-01 3.02441455e-01\n",
      " 3.02939711e-01 3.03936223e-01 3.05929248e-01 3.06925760e-01\n",
      " 3.09915296e-01 3.10911809e-01 3.11908321e-01 3.14399601e-01\n",
      " 3.16392626e-01 3.16890882e-01 3.17887394e-01 3.19880419e-01\n",
      " 3.20876931e-01 3.23368211e-01 3.24364723e-01 3.26357748e-01\n",
      " 3.27354260e-01 3.27852516e-01 3.29347285e-01 3.30343797e-01\n",
      " 3.31340309e-01 3.31838565e-01 3.33333333e-01 3.34329846e-01\n",
      " 3.36322870e-01 3.38814150e-01 3.40807175e-01 3.42800199e-01\n",
      " 3.43298455e-01 3.44294968e-01 3.45789736e-01 3.48779273e-01\n",
      " 3.49775785e-01 3.52765321e-01 3.53761834e-01 3.57249626e-01\n",
      " 3.58246139e-01 3.59740907e-01 3.60737419e-01 3.61733931e-01\n",
      " 3.62730443e-01 3.64225212e-01 3.65221724e-01 3.66218236e-01\n",
      " 3.67713004e-01 3.69207773e-01 3.70204285e-01 3.72197309e-01\n",
      " 3.73692078e-01 3.74688590e-01 3.75186846e-01 3.76681614e-01\n",
      " 3.78674639e-01 3.79172895e-01 3.80667663e-01 3.82660688e-01\n",
      " 3.85650224e-01 3.87144993e-01 3.88639761e-01 3.89636273e-01\n",
      " 3.91131041e-01 3.98106627e-01 3.99103139e-01 4.00099651e-01\n",
      " 4.01096163e-01 4.02590932e-01 4.03587444e-01 4.07573493e-01\n",
      " 4.08570005e-01 4.09068261e-01 4.10064773e-01 4.13054310e-01\n",
      " 4.13054310e-01 4.14050822e-01 4.15545590e-01 4.16542103e-01\n",
      " 4.19033383e-01 4.20029895e-01 4.22022920e-01 4.25510713e-01\n",
      " 4.30493274e-01 4.31489786e-01 4.33981066e-01 4.35475835e-01\n",
      " 4.36970603e-01 4.37967115e-01 4.38465371e-01 4.39461883e-01\n",
      " 4.39960140e-01 4.41953164e-01 4.42949676e-01 4.43946188e-01\n",
      " 4.44444444e-01 4.46935725e-01 4.48430493e-01 4.49925262e-01\n",
      " 4.50423518e-01 4.51918286e-01 4.54409567e-01 4.56402591e-01\n",
      " 4.58893871e-01 4.60886896e-01 4.61883408e-01 4.62879920e-01\n",
      " 4.63378176e-01 4.64374689e-01 4.65869457e-01 4.66865969e-01\n",
      " 4.67364225e-01 4.68858994e-01 4.70353762e-01 4.72346786e-01\n",
      " 4.74339811e-01 4.75336323e-01 4.78325859e-01 4.79820628e-01\n",
      " 4.80817140e-01 4.81315396e-01 4.82311908e-01 4.86796213e-01\n",
      " 4.87792725e-01 4.89785750e-01 4.91778774e-01 4.96263079e-01\n",
      " 4.99252616e-01 5.02740409e-01 5.03736921e-01 5.05231689e-01\n",
      " 5.07722970e-01 5.10712506e-01 5.11709018e-01 5.12207275e-01\n",
      " 5.13203787e-01 5.14200299e-01 5.15196811e-01 5.15695067e-01\n",
      " 5.17688092e-01 5.21175884e-01 5.23168909e-01 5.23667165e-01\n",
      " 5.25660189e-01 5.26158445e-01 5.28649726e-01 5.30144494e-01\n",
      " 5.31639263e-01 5.36123568e-01 5.38116592e-01 5.40607872e-01\n",
      " 5.41604385e-01 5.45590433e-01 5.46088690e-01 5.47085202e-01\n",
      " 5.47583458e-01 5.49078226e-01 5.50572995e-01 5.51569507e-01\n",
      " 5.52566019e-01 5.55555556e-01 5.56053812e-01 5.58046836e-01\n",
      " 5.60039860e-01 5.62032885e-01 5.64524165e-01 5.65520678e-01\n",
      " 5.67015446e-01 5.68510214e-01 5.69506726e-01 5.72496263e-01\n",
      " 5.74987544e-01 5.77977080e-01 5.80966617e-01 5.84952666e-01\n",
      " 5.86447434e-01 5.86945690e-01 5.88938714e-01 5.89436971e-01\n",
      " 5.90433483e-01 5.92426507e-01 5.93423019e-01 5.99402093e-01\n",
      " 6.00398605e-01 6.03388142e-01 6.04384654e-01 6.09367215e-01\n",
      " 6.10363727e-01 6.11360239e-01 6.12356751e-01 6.14848032e-01\n",
      " 6.15844544e-01 6.20827105e-01 6.22321873e-01 6.23816642e-01\n",
      " 6.25311410e-01 6.26307922e-01 6.27304434e-01 6.28799203e-01\n",
      " 6.29795715e-01 6.31788739e-01 6.35276532e-01 6.37269557e-01\n",
      " 6.38764325e-01 6.40259093e-01 6.42252118e-01 6.42750374e-01\n",
      " 6.43746886e-01 6.44245142e-01 6.47234679e-01 6.48231191e-01\n",
      " 6.52217240e-01 6.53712008e-01 6.55206776e-01 6.56701545e-01\n",
      " 6.57698057e-01 6.57698057e-01 6.59691081e-01 6.60687593e-01\n",
      " 6.62680618e-01 6.64673642e-01 6.68659691e-01 6.69656203e-01\n",
      " 6.71150972e-01 6.73143996e-01 6.74140508e-01 6.76631789e-01\n",
      " 6.78624813e-01 6.80617838e-01 6.81614350e-01 6.84105630e-01\n",
      " 6.85102143e-01 6.91579472e-01 6.93074240e-01 6.94070752e-01\n",
      " 6.96063777e-01 6.98555057e-01 7.01544594e-01 7.03039362e-01\n",
      " 7.04035874e-01 7.06527155e-01 7.08520179e-01 7.09516692e-01\n",
      " 7.10513204e-01 7.11509716e-01 7.13004484e-01 7.14997509e-01\n",
      " 7.18485301e-01 7.20478326e-01 7.22471350e-01 7.24962631e-01\n",
      " 7.25959143e-01 7.26955655e-01 7.27952167e-01 7.29446936e-01\n",
      " 7.32934728e-01 7.33931241e-01 7.45889387e-01 7.46885899e-01\n",
      " 7.50871948e-01 7.51868460e-01 7.55356253e-01 7.56851021e-01\n",
      " 7.62830095e-01 7.63826607e-01 7.64324863e-01 7.65819631e-01\n",
      " 7.66317887e-01 7.67314400e-01 7.69805680e-01 7.71798705e-01\n",
      " 7.73791729e-01 7.76781266e-01 7.78774290e-01 7.81265571e-01\n",
      " 7.83258595e-01 7.87742900e-01 7.89237668e-01 7.90234180e-01\n",
      " 7.91728949e-01 7.92725461e-01 7.97708022e-01 7.99202790e-01\n",
      " 8.05181863e-01 8.06178376e-01 8.07174888e-01 8.08669656e-01\n",
      " 8.12655705e-01 8.13652217e-01 8.15146986e-01 8.16143498e-01\n",
      " 8.21624315e-01 8.22620827e-01 8.29098156e-01 8.30592925e-01\n",
      " 8.40059791e-01 8.41056303e-01 8.41554559e-01 8.42551071e-01\n",
      " 8.45540608e-01 8.46537120e-01 8.52516193e-01 8.53512706e-01\n",
      " 8.57498754e-01 8.58495267e-01 8.68958645e-01 8.70453413e-01\n",
      " 8.74439462e-01 8.75934230e-01 8.81415047e-01 8.82411560e-01\n",
      " 8.83408072e-01 8.84404584e-01 8.84902840e-01 8.85899352e-01\n",
      " 8.87892377e-01 8.88888889e-01 8.93373194e-01 8.94369706e-01\n",
      " 8.95864474e-01 8.99352267e-01 9.00348779e-01 9.01345291e-01\n",
      " 9.02341804e-01 9.04833084e-01 9.05829596e-01 9.07324365e-01\n",
      " 9.08320877e-01 9.08819133e-01 9.10313901e-01 9.10812157e-01\n",
      " 9.11808670e-01 9.13303438e-01 9.14299950e-01 9.19282511e-01\n",
      " 9.20279023e-01 9.24265072e-01 9.25261584e-01 9.30244145e-01\n",
      " 9.31738914e-01 9.39711011e-01 9.40707524e-01 9.48181365e-01\n",
      " 9.49676134e-01 9.54658695e-01 9.55655207e-01 9.58146487e-01\n",
      " 9.59143000e-01 9.62132536e-01 9.63129048e-01 9.66118585e-01\n",
      " 9.67115097e-01 9.75585451e-01 9.76581963e-01 1.00000000e+00]\n",
      "tpr [0.         0.00255102 0.01020408 0.01530612 0.0255102  0.03061224\n",
      " 0.04081633 0.05612245 0.06122449 0.06887755 0.07397959 0.07908163\n",
      " 0.08163265 0.09438776 0.12755102 0.14285714 0.15306122 0.15561224\n",
      " 0.16071429 0.16836735 0.17857143 0.18112245 0.19387755 0.20408163\n",
      " 0.21938776 0.23214286 0.23979592 0.24744898 0.25255102 0.2755102\n",
      " 0.30102041 0.34693878 0.35714286 0.36734694 0.3877551  0.4005102\n",
      " 0.41326531 0.41836735 0.42602041 0.42857143 0.47704082 0.56887755\n",
      " 0.57397959 0.58673469 0.62244898 0.67091837 0.68877551 0.69387755\n",
      " 0.70153061 0.70663265 0.70918367 0.72193878 0.73214286 0.7372449\n",
      " 0.74489796 0.7627551  0.77295918 0.7755102  0.78571429 0.79336735\n",
      " 0.79591837 0.80357143 0.81377551 0.81632653 0.82397959 0.83418367\n",
      " 0.84438776 0.85459184 0.85969388 0.86734694 0.86734694 0.87244898\n",
      " 0.87755102 0.89795918 0.89795918 0.9005102  0.9005102  0.90306122\n",
      " 0.90306122 0.92091837 0.92091837 0.92346939 0.92346939 0.92857143\n",
      " 0.92857143 0.93112245 0.93112245 0.93112245 0.93112245 0.93367347\n",
      " 0.93367347 0.93622449 0.93622449 0.93877551 0.93877551 0.93877551\n",
      " 0.93877551 0.94132653 0.94132653 0.94132653 0.94132653 0.94387755\n",
      " 0.94387755 0.94642857 0.94642857 0.94642857 0.94642857 0.94642857\n",
      " 0.94642857 0.94642857 0.94642857 0.94642857 0.94642857 0.94897959\n",
      " 0.94897959 0.95153061 0.95153061 0.95408163 0.95408163 0.95663265\n",
      " 0.95663265 0.95918367 0.95918367 0.96173469 0.96173469 0.96173469\n",
      " 0.96173469 0.96428571 0.96428571 0.96683673 0.96683673 0.96938776\n",
      " 0.96938776 0.96938776 0.97193878 0.97193878 0.97193878 0.97193878\n",
      " 0.9744898  0.9744898  0.9744898  0.97704082 0.97704082 0.97704082\n",
      " 0.97704082 0.97704082 0.97704082 0.97704082 0.97704082 0.97704082\n",
      " 0.97704082 0.97704082 0.97704082 0.97704082 0.97959184 0.97959184\n",
      " 0.97959184 0.97959184 0.97959184 0.97959184 0.97959184 0.98214286\n",
      " 0.98214286 0.98214286 0.98214286 0.98214286 0.98214286 0.98214286\n",
      " 0.98214286 0.98214286 0.98469388 0.98469388 0.9872449  0.9872449\n",
      " 0.9872449  0.9872449  0.9872449  0.9872449  0.9872449  0.9872449\n",
      " 0.9872449  0.9872449  0.9872449  0.9872449  0.9872449  0.9872449\n",
      " 0.9872449  0.9872449  0.9872449  0.9872449  0.9872449  0.9872449\n",
      " 0.9872449  0.9872449  0.9872449  0.9872449  0.9872449  0.9872449\n",
      " 0.9872449  0.9872449  0.9872449  0.9872449  0.9872449  0.98979592\n",
      " 0.98979592 0.98979592 0.98979592 0.98979592 0.98979592 0.98979592\n",
      " 0.98979592 0.98979592 0.98979592 0.99234694 0.99234694 0.99234694\n",
      " 0.99234694 0.99234694 0.99234694 0.99489796 0.99489796 0.99489796\n",
      " 0.99489796 0.99489796 0.99489796 0.99489796 0.99489796 0.99489796\n",
      " 0.99489796 0.99489796 0.99489796 0.99489796 0.99489796 0.99489796\n",
      " 0.99489796 0.99489796 0.99489796 0.99489796 0.99489796 0.99489796\n",
      " 0.99489796 0.99489796 0.99489796 0.99489796 0.99489796 0.99489796\n",
      " 0.99489796 0.99489796 0.99489796 0.99489796 0.99489796 0.99489796\n",
      " 0.99489796 0.99489796 0.99489796 0.99489796 0.99489796 0.99489796\n",
      " 0.99489796 0.99489796 0.99489796 0.99489796 0.99489796 0.99489796\n",
      " 0.99489796 0.99489796 0.99489796 0.99489796 0.99489796 0.99489796\n",
      " 0.99489796 0.99489796 0.99489796 0.99489796 0.99489796 0.99489796\n",
      " 0.99489796 0.99489796 0.99489796 0.99489796 0.99489796 0.99489796\n",
      " 0.99489796 0.99489796 0.99489796 0.99489796 0.99489796 0.99489796\n",
      " 0.99489796 0.99489796 0.99489796 0.99489796 0.99744898 0.99744898\n",
      " 0.99744898 0.99744898 0.99744898 0.99744898 0.99744898 0.99744898\n",
      " 0.99744898 0.99744898 0.99744898 0.99744898 0.99744898 0.99744898\n",
      " 0.99744898 0.99744898 0.99744898 0.99744898 0.99744898 0.99744898\n",
      " 0.99744898 0.99744898 0.99744898 0.99744898 0.99744898 0.99744898\n",
      " 0.99744898 0.99744898 0.99744898 0.99744898 0.99744898 0.99744898\n",
      " 0.99744898 0.99744898 0.99744898 0.99744898 0.99744898 0.99744898\n",
      " 0.99744898 0.99744898 0.99744898 0.99744898 0.99744898 0.99744898\n",
      " 0.99744898 0.99744898 0.99744898 0.99744898 0.99744898 0.99744898\n",
      " 0.99744898 0.99744898 0.99744898 0.99744898 0.99744898 0.99744898\n",
      " 0.99744898 0.99744898 0.99744898 0.99744898 0.99744898 0.99744898\n",
      " 0.99744898 0.99744898 0.99744898 0.99744898 0.99744898 0.99744898\n",
      " 0.99744898 0.99744898 0.99744898 0.99744898 0.99744898 0.99744898\n",
      " 0.99744898 0.99744898 0.99744898 0.99744898 0.99744898 0.99744898\n",
      " 0.99744898 0.99744898 0.99744898 0.99744898 0.99744898 0.99744898\n",
      " 0.99744898 0.99744898 0.99744898 0.99744898 0.99744898 0.99744898\n",
      " 0.99744898 0.99744898 0.99744898 0.99744898 0.99744898 0.99744898\n",
      " 0.99744898 0.99744898 0.99744898 0.99744898 0.99744898 0.99744898\n",
      " 0.99744898 0.99744898 0.99744898 0.99744898 0.99744898 0.99744898\n",
      " 0.99744898 0.99744898 0.99744898 0.99744898 0.99744898 0.99744898\n",
      " 0.99744898 0.99744898 0.99744898 0.99744898 0.99744898 0.99744898\n",
      " 0.99744898 0.99744898 0.99744898 0.99744898 0.99744898 0.99744898\n",
      " 0.99744898 0.99744898 0.99744898 0.99744898 0.99744898 0.99744898\n",
      " 0.99744898 0.99744898 0.99744898 0.99744898 0.99744898 0.99744898\n",
      " 0.99744898 1.         1.         1.         1.         1.\n",
      " 1.         1.         1.         1.         1.         1.\n",
      " 1.         1.         1.         1.         1.         1.\n",
      " 1.         1.         1.         1.         1.         1.\n",
      " 1.         1.         1.         1.         1.         1.\n",
      " 1.         1.         1.         1.         1.         1.\n",
      " 1.         1.         1.         1.         1.         1.\n",
      " 1.         1.         1.         1.         1.         1.\n",
      " 1.         1.         1.         1.         1.         1.\n",
      " 1.         1.         1.         1.         1.         1.\n",
      " 1.         1.         1.         1.         1.         1.\n",
      " 1.         1.         1.         1.         1.         1.\n",
      " 1.         1.         1.         1.         1.         1.\n",
      " 1.         1.         1.         1.         1.         1.\n",
      " 1.         1.         1.         1.         1.         1.\n",
      " 1.         1.         1.         1.         1.         1.\n",
      " 1.         1.         1.         1.         1.         1.\n",
      " 1.         1.         1.         1.         1.         1.\n",
      " 1.         1.         1.         1.         1.         1.\n",
      " 1.         1.         1.         1.         1.         1.\n",
      " 1.         1.         1.         1.         1.         1.\n",
      " 1.         1.         1.         1.         1.         1.\n",
      " 1.         1.         1.         1.         1.         1.\n",
      " 1.         1.        ]\n",
      "threshold [1.99523638e+00 9.95236382e-01 9.92755797e-01 9.92423197e-01\n",
      " 9.92354148e-01 9.92230665e-01 9.92159875e-01 9.89876814e-01\n",
      " 9.89477849e-01 9.89382245e-01 9.89211287e-01 9.89113287e-01\n",
      " 9.89050212e-01 9.88717799e-01 9.88615369e-01 9.88117459e-01\n",
      " 9.87791821e-01 9.87681088e-01 9.87483392e-01 9.86587823e-01\n",
      " 9.86581230e-01 9.86293335e-01 9.86242307e-01 9.84388845e-01\n",
      " 9.83267416e-01 9.81873552e-01 9.81650079e-01 9.81024828e-01\n",
      " 9.80779318e-01 9.71369191e-01 9.68820290e-01 9.68735093e-01\n",
      " 9.64582249e-01 9.62779068e-01 9.62678000e-01 9.61711851e-01\n",
      " 9.54764521e-01 9.54642715e-01 9.54358220e-01 9.54235372e-01\n",
      " 9.54171914e-01 9.54048589e-01 9.47443190e-01 9.47302758e-01\n",
      " 9.45452297e-01 9.45306852e-01 9.20808769e-01 9.20702812e-01\n",
      " 9.09293882e-01 9.06240841e-01 9.06001239e-01 9.03390666e-01\n",
      " 9.01161068e-01 8.91763768e-01 8.89298720e-01 8.87856403e-01\n",
      " 8.85313811e-01 8.85151157e-01 8.80756005e-01 8.66806664e-01\n",
      " 8.66707848e-01 8.65424644e-01 8.64356411e-01 8.63859999e-01\n",
      " 8.61364208e-01 8.55576918e-01 8.48817923e-01 8.39219782e-01\n",
      " 8.34254297e-01 8.23923348e-01 8.22450220e-01 8.17051779e-01\n",
      " 8.12174463e-01 7.65831291e-01 7.59421704e-01 7.48063881e-01\n",
      " 7.37842062e-01 7.31349273e-01 7.24881585e-01 6.96092006e-01\n",
      " 6.75449193e-01 6.70884307e-01 6.10498523e-01 5.89337813e-01\n",
      " 4.82417501e-01 4.78761824e-01 2.80998518e-01 2.78982515e-01\n",
      " 2.03543897e-01 2.01811739e-01 1.86614748e-01 1.86461190e-01\n",
      " 1.45442643e-01 1.42437003e-01 1.23435495e-01 1.13888050e-01\n",
      " 1.06253859e-01 1.04483137e-01 9.91563157e-02 9.67383758e-02\n",
      " 7.99559609e-02 7.98888790e-02 7.14006611e-02 7.12309848e-02\n",
      " 6.62370921e-02 6.56280194e-02 6.52055617e-02 6.50344007e-02\n",
      " 6.19747688e-02 6.16707868e-02 5.81875955e-02 5.71772713e-02\n",
      " 5.55665993e-02 5.51007000e-02 5.35601443e-02 5.35453819e-02\n",
      " 5.11738175e-02 5.10987685e-02 5.03797133e-02 5.01226307e-02\n",
      " 4.42855495e-02 4.41237679e-02 4.06882878e-02 4.05794840e-02\n",
      " 3.72883884e-02 3.72826605e-02 3.71106187e-02 3.69766003e-02\n",
      " 3.08467877e-02 3.06899344e-02 2.93987355e-02 2.93947982e-02\n",
      " 2.67487940e-02 2.66734358e-02 2.65165825e-02 2.64295984e-02\n",
      " 2.63286530e-02 2.61341562e-02 2.60882198e-02 2.57226428e-02\n",
      " 2.54982194e-02 2.53950229e-02 2.40089737e-02 2.38975191e-02\n",
      " 2.35104442e-02 2.32382740e-02 2.15084071e-02 2.13585651e-02\n",
      " 2.08053373e-02 2.06825417e-02 2.05568606e-02 2.04031531e-02\n",
      " 2.00619650e-02 2.00559159e-02 2.00416083e-02 1.98957536e-02\n",
      " 1.98672933e-02 1.98439423e-02 1.97661026e-02 1.96322515e-02\n",
      " 1.96012566e-02 1.96009113e-02 1.95446546e-02 1.92136021e-02\n",
      " 1.91862060e-02 1.91332733e-02 1.84036677e-02 1.83931069e-02\n",
      " 1.82527944e-02 1.82381172e-02 1.82134527e-02 1.80630598e-02\n",
      " 1.79669911e-02 1.79663832e-02 1.77630742e-02 1.77523859e-02\n",
      " 1.76715316e-02 1.76465978e-02 1.75983242e-02 1.75496939e-02\n",
      " 1.74834491e-02 1.74573128e-02 1.71106008e-02 1.71094908e-02\n",
      " 1.70111277e-02 1.69676261e-02 1.67839231e-02 1.67329554e-02\n",
      " 1.66866758e-02 1.66147761e-02 1.63859324e-02 1.63434979e-02\n",
      " 1.62963720e-02 1.61421970e-02 1.60499178e-02 1.60139763e-02\n",
      " 1.60080316e-02 1.59833114e-02 1.59574349e-02 1.59108725e-02\n",
      " 1.57454690e-02 1.57181998e-02 1.56897892e-02 1.56826233e-02\n",
      " 1.55390830e-02 1.54639640e-02 1.53770715e-02 1.53681054e-02\n",
      " 1.53657259e-02 1.52711057e-02 1.52092535e-02 1.52085469e-02\n",
      " 1.50524702e-02 1.50229203e-02 1.49877906e-02 1.49542557e-02\n",
      " 1.49507372e-02 1.48329780e-02 1.48056144e-02 1.47918743e-02\n",
      " 1.47842029e-02 1.47701091e-02 1.47634759e-02 1.47364616e-02\n",
      " 1.46848933e-02 1.45722755e-02 1.45332405e-02 1.44448297e-02\n",
      " 1.44203612e-02 1.44174355e-02 1.44001368e-02 1.43627775e-02\n",
      " 1.43004698e-02 1.41083876e-02 1.40892206e-02 1.39239512e-02\n",
      " 1.39114906e-02 1.38968433e-02 1.38946712e-02 1.38844060e-02\n",
      " 1.38530521e-02 1.38430988e-02 1.38246521e-02 1.38185359e-02\n",
      " 1.37658445e-02 1.37309405e-02 1.36673467e-02 1.36501009e-02\n",
      " 1.36263991e-02 1.35992853e-02 1.35960253e-02 1.35090131e-02\n",
      " 1.35062581e-02 1.33874558e-02 1.33694148e-02 1.33668382e-02\n",
      " 1.33604540e-02 1.32641697e-02 1.32569596e-02 1.32503213e-02\n",
      " 1.32118128e-02 1.31040886e-02 1.31021583e-02 1.30543274e-02\n",
      " 1.30374165e-02 1.29380935e-02 1.29238426e-02 1.27967546e-02\n",
      " 1.27734244e-02 1.27612530e-02 1.27402741e-02 1.27362035e-02\n",
      " 1.27008353e-02 1.27002083e-02 1.26677220e-02 1.25663159e-02\n",
      " 1.25642104e-02 1.25610939e-02 1.25156998e-02 1.24927952e-02\n",
      " 1.24749696e-02 1.22770636e-02 1.22543235e-02 1.21997966e-02\n",
      " 1.21943992e-02 1.21474874e-02 1.21453116e-02 1.20699395e-02\n",
      " 1.20680070e-02 1.20594467e-02 1.20582052e-02 1.19596137e-02\n",
      " 1.19465767e-02 1.19349657e-02 1.18617864e-02 1.18605649e-02\n",
      " 1.17905313e-02 1.17845855e-02 1.17635702e-02 1.15813109e-02\n",
      " 1.15204179e-02 1.15134108e-02 1.14066105e-02 1.14000323e-02\n",
      " 1.13721492e-02 1.13695142e-02 1.13405254e-02 1.13314912e-02\n",
      " 1.13143602e-02 1.13056158e-02 1.12884605e-02 1.12531266e-02\n",
      " 1.12447396e-02 1.12359825e-02 1.11835236e-02 1.11789519e-02\n",
      " 1.11718959e-02 1.11229958e-02 1.10758993e-02 1.10516681e-02\n",
      " 1.10447277e-02 1.10295169e-02 1.10228267e-02 1.09710350e-02\n",
      " 1.09592968e-02 1.09405143e-02 1.08938245e-02 1.08875133e-02\n",
      " 1.08814802e-02 1.08451909e-02 1.08217770e-02 1.08150164e-02\n",
      " 1.07822673e-02 1.07698942e-02 1.07522660e-02 1.07088533e-02\n",
      " 1.06857789e-02 1.06835282e-02 1.06816165e-02 1.06185362e-02\n",
      " 1.06053158e-02 1.05604354e-02 1.05423174e-02 1.04972317e-02\n",
      " 1.04833711e-02 1.03956851e-02 1.03692626e-02 1.03496640e-02\n",
      " 1.03399010e-02 1.03193830e-02 1.02708603e-02 1.02656513e-02\n",
      " 1.02646366e-02 1.02509525e-02 1.02422673e-02 1.02280294e-02\n",
      " 1.02242752e-02 1.01448751e-02 1.01216170e-02 1.01216061e-02\n",
      " 1.01022160e-02 1.00808711e-02 1.00742266e-02 1.00403832e-02\n",
      " 1.00166677e-02 9.89297646e-03 9.88506913e-03 9.87798260e-03\n",
      " 9.86831994e-03 9.83570706e-03 9.83302500e-03 9.81401220e-03\n",
      " 9.77521029e-03 9.76899242e-03 9.74688585e-03 9.74286349e-03\n",
      " 9.72446910e-03 9.69762597e-03 9.68398354e-03 9.67061314e-03\n",
      " 9.64440812e-03 9.60885704e-03 9.60850862e-03 9.60620017e-03\n",
      " 9.55487257e-03 9.53830327e-03 9.52618241e-03 9.51172998e-03\n",
      " 9.47513474e-03 9.41157218e-03 9.39756279e-03 9.28953983e-03\n",
      " 9.27379025e-03 9.25270113e-03 9.24312384e-03 9.23592026e-03\n",
      " 9.23336781e-03 9.20854544e-03 9.20731645e-03 9.05267373e-03\n",
      " 9.05126308e-03 8.99947457e-03 8.99214996e-03 8.92505098e-03\n",
      " 8.90385172e-03 8.86369697e-03 8.86279724e-03 8.80150835e-03\n",
      " 8.79691596e-03 8.67475192e-03 8.67193840e-03 8.65226178e-03\n",
      " 8.64775769e-03 8.61587533e-03 8.61348955e-03 8.61076729e-03\n",
      " 8.58954911e-03 8.58675567e-03 8.51695494e-03 8.50553518e-03\n",
      " 8.46914794e-03 8.41278408e-03 8.40133365e-03 8.39371857e-03\n",
      " 8.39352201e-03 8.39123410e-03 8.37248449e-03 8.35251280e-03\n",
      " 8.25076617e-03 8.23475157e-03 8.22098095e-03 8.18747878e-03\n",
      " 8.18399740e-03 8.17762576e-03 8.09205456e-03 8.08276922e-03\n",
      " 8.04025613e-03 8.03751123e-03 7.96123318e-03 7.95322084e-03\n",
      " 7.94976410e-03 7.91979712e-03 7.91387775e-03 7.87269082e-03\n",
      " 7.85830033e-03 7.82337889e-03 7.81823507e-03 7.80962276e-03\n",
      " 7.79253026e-03 7.64377619e-03 7.62965720e-03 7.62834524e-03\n",
      " 7.55702485e-03 7.53716267e-03 7.45233465e-03 7.45081121e-03\n",
      " 7.40099880e-03 7.39237194e-03 7.36579572e-03 7.36368098e-03\n",
      " 7.32147696e-03 7.31326421e-03 7.30017303e-03 7.27913015e-03\n",
      " 7.20601178e-03 7.18532600e-03 7.17558377e-03 7.14286181e-03\n",
      " 7.10609074e-03 7.08376447e-03 7.07968148e-03 7.05341546e-03\n",
      " 7.03487393e-03 7.03468727e-03 6.74966862e-03 6.74929161e-03\n",
      " 6.62148310e-03 6.61345199e-03 6.57353494e-03 6.55792036e-03\n",
      " 6.45522332e-03 6.45041564e-03 6.42595393e-03 6.41419434e-03\n",
      " 6.41057014e-03 6.38296089e-03 6.31400408e-03 6.28832043e-03\n",
      " 6.27978671e-03 6.19269304e-03 6.17626564e-03 6.10987934e-03\n",
      " 6.10808920e-03 6.03933777e-03 6.03178296e-03 5.99727046e-03\n",
      " 5.94275073e-03 5.92179243e-03 5.81082627e-03 5.79930094e-03\n",
      " 5.68131449e-03 5.67852035e-03 5.64705347e-03 5.61291147e-03\n",
      " 5.48371197e-03 5.47953535e-03 5.43453825e-03 5.43224217e-03\n",
      " 5.28688755e-03 5.27608964e-03 5.13686926e-03 5.11698201e-03\n",
      " 4.97493675e-03 4.97368993e-03 4.97355897e-03 4.96868078e-03\n",
      " 4.90491790e-03 4.90249495e-03 4.75499042e-03 4.71938213e-03\n",
      " 4.64365559e-03 4.63680768e-03 4.41372193e-03 4.40379356e-03\n",
      " 4.27213581e-03 4.25885468e-03 4.02790785e-03 4.02174220e-03\n",
      " 3.99278210e-03 3.98527671e-03 3.95677601e-03 3.95399064e-03\n",
      " 3.84415914e-03 3.83783624e-03 3.71444065e-03 3.71094569e-03\n",
      " 3.70403923e-03 3.55013909e-03 3.54209897e-03 3.49412923e-03\n",
      " 3.45748454e-03 3.36352727e-03 3.33350497e-03 3.31829013e-03\n",
      " 3.31144205e-03 3.30609810e-03 3.29628495e-03 3.28978189e-03\n",
      " 3.28704393e-03 3.25533863e-03 3.25053710e-03 3.15897932e-03\n",
      " 3.15702987e-03 3.09487635e-03 3.08991903e-03 3.00298473e-03\n",
      " 2.99456350e-03 2.77630425e-03 2.76851693e-03 2.59934326e-03\n",
      " 2.57582376e-03 2.50415148e-03 2.49712562e-03 2.38348207e-03\n",
      " 2.36626180e-03 2.32616783e-03 2.31964018e-03 2.22430323e-03\n",
      " 2.21617282e-03 1.85453422e-03 1.82550969e-03 1.93105106e-04]\n"
     ]
    }
   ],
   "source": [
    "prob_positive8=probs8[:,1]\n",
    "fpr8,tpr8,threshold8=metrics.roc_curve(y_test,prob_positive8)\n",
    "roc_auc8=metrics.auc(fpr8,tpr8)\n",
    "print('Area under the curve',roc_auc8)\n",
    "print('fpr',fpr8)\n",
    "print('tpr',tpr8)\n",
    "print('threshold',threshold8)"
   ]
  },
  {
   "cell_type": "code",
   "execution_count": 75,
   "metadata": {},
   "outputs": [
    {
     "data": {
      "image/png": "[encoded data removed]",
      "text/plain": [
       "<Figure size 432x288 with 1 Axes>"
      ]
     },
     "metadata": {
      "needs_background": "light"
     },
     "output_type": "display_data"
    }
   ],
   "source": [
    "##plot the roc curve:\n",
    "plt.title('Receiver Operating Characteristic')\n",
    "plt.plot(fpr8,tpr8,'orange',label='AUC = %0.2f'%roc_auc8)\n",
    "plt.legend(loc='lower right')\n",
    "plt.plot([0,1],[0,1],color='darkblue',linestyle='--')\n",
    "plt.ylabel('True Positive Rate')\n",
    "plt.xlabel('False Positive Rate')\n",
    "plt.show()"
   ]
  },
  {
   "cell_type": "markdown",
   "metadata": {},
   "source": [
    "### XG Boost:"
   ]
  },
  {
   "cell_type": "code",
   "execution_count": 76,
   "metadata": {},
   "outputs": [],
   "source": [
    "##Fitting the XG Boost model:\n",
    "\n",
    "xgb=XGBClassifier()\n",
    "xgb.fit(x_train,y_train)\n",
    "prediction9=xgb.predict(x_test)"
   ]
  },
  {
   "cell_type": "code",
   "execution_count": 77,
   "metadata": {},
   "outputs": [
    {
     "name": "stdout",
     "output_type": "stream",
     "text": [
      "Confusion Matrix is: [[1990   17]\n",
      " [  31  361]]\n"
     ]
    }
   ],
   "source": [
    "#Compute accuracy and display confusion matrix.\n",
    "cm9=confusion_matrix(y_test,prediction9)\n",
    "print('Confusion Matrix is:',cm9)"
   ]
  },
  {
   "cell_type": "code",
   "execution_count": 78,
   "metadata": {},
   "outputs": [
    {
     "name": "stdout",
     "output_type": "stream",
     "text": [
      "Accuracy in %: 97.99916631929972\n"
     ]
    }
   ],
   "source": [
    "print('Accuracy in %:',metrics.accuracy_score(y_test,prediction9)*100)"
   ]
  },
  {
   "cell_type": "code",
   "execution_count": 79,
   "metadata": {},
   "outputs": [
    {
     "data": {
      "text/plain": [
       "array([[0.98013073, 0.01986928],\n",
       "       [0.9960606 , 0.0039394 ],\n",
       "       [0.99553776, 0.00446225],\n",
       "       ...,\n",
       "       [0.98526394, 0.01473608],\n",
       "       [0.99149746, 0.00850257],\n",
       "       [0.61647284, 0.38352713]], dtype=float32)"
      ]
     },
     "execution_count": 79,
     "metadata": {},
     "output_type": "execute_result"
    }
   ],
   "source": [
    "probs9=xgb.predict_proba(x_test)\n",
    "probs9"
   ]
  },
  {
   "cell_type": "code",
   "execution_count": 80,
   "metadata": {},
   "outputs": [
    {
     "name": "stdout",
     "output_type": "stream",
     "text": [
      "Area under the curve 0.9862528344671202\n",
      "fpr [0.00000000e+00 0.00000000e+00 0.00000000e+00 0.00000000e+00\n",
      " 0.00000000e+00 0.00000000e+00 0.00000000e+00 0.00000000e+00\n",
      " 0.00000000e+00 0.00000000e+00 0.00000000e+00 0.00000000e+00\n",
      " 0.00000000e+00 0.00000000e+00 0.00000000e+00 0.00000000e+00\n",
      " 0.00000000e+00 0.00000000e+00 0.00000000e+00 0.00000000e+00\n",
      " 0.00000000e+00 0.00000000e+00 0.00000000e+00 0.00000000e+00\n",
      " 0.00000000e+00 0.00000000e+00 0.00000000e+00 0.00000000e+00\n",
      " 0.00000000e+00 0.00000000e+00 0.00000000e+00 0.00000000e+00\n",
      " 0.00000000e+00 0.00000000e+00 4.98256104e-04 4.98256104e-04\n",
      " 4.98256104e-04 4.98256104e-04 4.98256104e-04 4.98256104e-04\n",
      " 4.98256104e-04 4.98256104e-04 4.98256104e-04 4.98256104e-04\n",
      " 4.98256104e-04 4.98256104e-04 4.98256104e-04 4.98256104e-04\n",
      " 4.98256104e-04 4.98256104e-04 9.96512207e-04 9.96512207e-04\n",
      " 9.96512207e-04 9.96512207e-04 9.96512207e-04 9.96512207e-04\n",
      " 9.96512207e-04 9.96512207e-04 1.49476831e-03 1.49476831e-03\n",
      " 1.99302441e-03 2.49128052e-03 2.49128052e-03 2.49128052e-03\n",
      " 2.49128052e-03 2.49128052e-03 2.49128052e-03 2.49128052e-03\n",
      " 2.49128052e-03 2.49128052e-03 2.49128052e-03 3.48779273e-03\n",
      " 3.48779273e-03 3.98604883e-03 3.98604883e-03 4.48430493e-03\n",
      " 4.48430493e-03 5.48081714e-03 5.48081714e-03 6.47732935e-03\n",
      " 6.47732935e-03 6.97558545e-03 6.97558545e-03 9.46686597e-03\n",
      " 9.46686597e-03 1.04633782e-02 1.04633782e-02 1.14598904e-02\n",
      " 1.39511709e-02 1.49476831e-02 1.49476831e-02 1.84354758e-02\n",
      " 1.84354758e-02 2.09267564e-02 2.19232686e-02 2.24215247e-02\n",
      " 2.34180369e-02 3.18883906e-02 3.28849028e-02 3.78674639e-02\n",
      " 3.78674639e-02 4.28500249e-02 4.38465371e-02 4.38465371e-02\n",
      " 4.83308421e-02 4.93273543e-02 5.03238665e-02 5.03238665e-02\n",
      " 5.28151470e-02 5.28151470e-02 5.48081714e-02 5.58046836e-02\n",
      " 6.52715496e-02 6.62680618e-02 6.97558545e-02 7.07523667e-02\n",
      " 8.17140010e-02 8.27105132e-02 8.37070254e-02 8.37070254e-02\n",
      " 8.47035376e-02 8.66965620e-02 8.91878426e-02 8.91878426e-02\n",
      " 8.96860987e-02 8.96860987e-02 9.41704036e-02 9.41704036e-02\n",
      " 1.14598904e-01 1.14598904e-01 1.16093672e-01 1.17090184e-01\n",
      " 1.20577977e-01 1.22072745e-01 1.24564026e-01 1.26058794e-01\n",
      " 1.33532636e-01 1.34030892e-01 1.35027404e-01 1.36522172e-01\n",
      " 1.37020429e-01 1.38016941e-01 1.40009965e-01 1.41006477e-01\n",
      " 1.42999502e-01 1.43996014e-01 1.45490782e-01 1.47483807e-01\n",
      " 1.52466368e-01 1.53462880e-01 1.57448929e-01 1.57448929e-01\n",
      " 1.63428002e-01 1.64922770e-01 1.73891380e-01 1.74887892e-01\n",
      " 1.80866966e-01 1.80866966e-01 1.84354758e-01 1.84354758e-01\n",
      " 1.87842551e-01 1.88839063e-01 1.89835575e-01 1.89835575e-01\n",
      " 1.91828600e-01 1.93821624e-01 1.94319880e-01 1.95316393e-01\n",
      " 1.96811161e-01 2.01295466e-01 2.04285002e-01 2.06278027e-01\n",
      " 2.07274539e-01 2.08271051e-01 2.08271051e-01 2.09765820e-01\n",
      " 2.13751868e-01 2.20727454e-01 2.22720478e-01 2.25211759e-01\n",
      " 2.26208271e-01 2.27204783e-01 2.28699552e-01 2.29197808e-01\n",
      " 2.30692576e-01 2.31689088e-01 2.33682113e-01 2.35675137e-01\n",
      " 2.37169905e-01 2.38166418e-01 2.39162930e-01 2.40657698e-01\n",
      " 2.41654210e-01 2.42152466e-01 2.42152466e-01 2.48629796e-01\n",
      " 2.50124564e-01 2.54110613e-01 2.55107125e-01 2.56103637e-01\n",
      " 2.57100149e-01 2.58096662e-01 2.59093174e-01 2.60587942e-01\n",
      " 2.61584454e-01 2.62580967e-01 2.63577479e-01 2.64075735e-01\n",
      " 2.65072247e-01 2.68560040e-01 2.70054808e-01 2.70553064e-01\n",
      " 2.72047833e-01 2.73044345e-01 2.73542601e-01 2.74539113e-01\n",
      " 2.75037369e-01 2.75535625e-01 2.77030394e-01 2.78026906e-01\n",
      " 2.79023418e-01 2.80518186e-01 2.81016442e-01 2.83009467e-01\n",
      " 2.83507723e-01 2.84504235e-01 2.85500747e-01 2.86497260e-01\n",
      " 2.88490284e-01 2.89486796e-01 2.92476333e-01 2.92974589e-01\n",
      " 2.93971101e-01 2.94967613e-01 2.95465869e-01 2.97957150e-01\n",
      " 2.98455406e-01 3.00448430e-01 3.00946687e-01 3.01943199e-01\n",
      " 3.05430992e-01 3.06427504e-01 3.08918784e-01 3.09915296e-01\n",
      " 3.11410065e-01 3.13901345e-01 3.15396114e-01 3.16392626e-01\n",
      " 3.17887394e-01 3.18883906e-01 3.20876931e-01 3.21873443e-01\n",
      " 3.22869955e-01 3.24862980e-01 3.26357748e-01 3.29347285e-01\n",
      " 3.29845541e-01 3.33831589e-01 3.34828102e-01 3.36322870e-01\n",
      " 3.38315894e-01 3.41305431e-01 3.41803687e-01 3.43298455e-01\n",
      " 3.45291480e-01 3.46287992e-01 3.47782760e-01 3.51768809e-01\n",
      " 3.52765321e-01 3.53761834e-01 3.55754858e-01 3.56751370e-01\n",
      " 3.58744395e-01 3.59242651e-01 3.59242651e-01 3.62232187e-01\n",
      " 3.63726956e-01 3.65719980e-01 3.68211261e-01 3.69207773e-01\n",
      " 3.70204285e-01 3.71699053e-01 3.72695566e-01 3.74688590e-01\n",
      " 3.75685102e-01 3.78176383e-01 3.79671151e-01 3.81664175e-01\n",
      " 3.83158944e-01 3.85650224e-01 3.86148480e-01 3.88141505e-01\n",
      " 3.89138017e-01 3.92127554e-01 3.93622322e-01 3.94618834e-01\n",
      " 3.95117090e-01 3.96611858e-01 3.98604883e-01 3.99103139e-01\n",
      " 4.00099651e-01 4.02092676e-01 4.06078724e-01 4.07573493e-01\n",
      " 4.08570005e-01 4.11061286e-01 4.12057798e-01 4.13054310e-01\n",
      " 4.15047334e-01 4.16043847e-01 4.18535127e-01 4.22521176e-01\n",
      " 4.23019432e-01 4.26008969e-01 4.28500249e-01 4.29496761e-01\n",
      " 4.32486298e-01 4.36472347e-01 4.37468859e-01 4.40458396e-01\n",
      " 4.40956652e-01 4.42451420e-01 4.42949676e-01 4.45440957e-01\n",
      " 4.49427005e-01 4.49925262e-01 4.54907823e-01 4.55904335e-01\n",
      " 4.57897359e-01 4.62879920e-01 4.63876432e-01 4.65371201e-01\n",
      " 4.70852018e-01 4.71848530e-01 4.72845042e-01 4.76332835e-01\n",
      " 4.76831091e-01 4.80318884e-01 4.82810164e-01 4.88290982e-01\n",
      " 4.91280518e-01 4.92277030e-01 4.93771799e-01 4.95764823e-01\n",
      " 4.96761335e-01 4.97259591e-01 4.99750872e-01 5.04733433e-01\n",
      " 5.06726457e-01 5.10214250e-01 5.12207275e-01 5.13702043e-01\n",
      " 5.19182860e-01 5.19681116e-01 5.23667165e-01 5.25161933e-01\n",
      " 5.27653214e-01 5.28151470e-01 5.35625311e-01 5.40607872e-01\n",
      " 5.41106129e-01 5.43099153e-01 5.44095665e-01 5.47085202e-01\n",
      " 5.48579970e-01 5.49576482e-01 5.51569507e-01 5.57050324e-01\n",
      " 5.60039860e-01 5.64524165e-01 5.65520678e-01 5.67015446e-01\n",
      " 5.71499751e-01 5.72496263e-01 5.74987544e-01 5.76980568e-01\n",
      " 5.79970105e-01 5.80966617e-01 5.81963129e-01 5.82959641e-01\n",
      " 5.85450922e-01 5.86447434e-01 5.89935227e-01 5.91429995e-01\n",
      " 5.91928251e-01 5.93921276e-01 5.94917788e-01 5.95914300e-01\n",
      " 5.96412556e-01 5.97409068e-01 5.97907324e-01 5.98903837e-01\n",
      " 6.00398605e-01 6.02889885e-01 6.03886398e-01 6.04882910e-01\n",
      " 6.05381166e-01 6.06377678e-01 6.07374190e-01 6.08370703e-01\n",
      " 6.10363727e-01 6.11360239e-01 6.13851520e-01 6.14848032e-01\n",
      " 6.15346288e-01 6.16342800e-01 6.18834081e-01 6.20827105e-01\n",
      " 6.21823617e-01 6.22820130e-01 6.24314898e-01 6.25311410e-01\n",
      " 6.27304434e-01 6.29795715e-01 6.31788739e-01 6.32286996e-01\n",
      " 6.33283508e-01 6.34280020e-01 6.35774788e-01 6.36771300e-01\n",
      " 6.38764325e-01 6.39262581e-01 6.42252118e-01 6.43248630e-01\n",
      " 6.45241654e-01 6.48729447e-01 6.49725959e-01 6.50224215e-01\n",
      " 6.51718984e-01 6.52217240e-01 6.53712008e-01 6.54708520e-01\n",
      " 6.56701545e-01 6.59691081e-01 6.61185850e-01 6.62182362e-01\n",
      " 6.64175386e-01 6.65670154e-01 6.66666667e-01 6.70154459e-01\n",
      " 6.71649228e-01 6.72645740e-01 6.75635277e-01 6.76631789e-01\n",
      " 6.77628301e-01 6.78624813e-01 6.82112606e-01 6.83607374e-01\n",
      " 6.84603886e-01 6.85102143e-01 6.86596911e-01 6.89088191e-01\n",
      " 6.90084704e-01 6.92077728e-01 6.93572496e-01 6.95565521e-01\n",
      " 6.96562033e-01 6.98056801e-01 6.99053313e-01 7.00548082e-01\n",
      " 7.02042850e-01 7.03039362e-01 7.05530643e-01 7.06527155e-01\n",
      " 7.07025411e-01 7.08520179e-01 7.11011460e-01 7.12506228e-01\n",
      " 7.14499253e-01 7.14997509e-01 7.15994021e-01 7.17987045e-01\n",
      " 7.18485301e-01 7.19980070e-01 7.23966119e-01 7.24962631e-01\n",
      " 7.26457399e-01 7.28450424e-01 7.30443448e-01 7.33432985e-01\n",
      " 7.33931241e-01 7.34927753e-01 7.35924265e-01 7.37419033e-01\n",
      " 7.37917289e-01 7.39412058e-01 7.40408570e-01 7.42401594e-01\n",
      " 7.43398107e-01 7.46885899e-01 7.47384155e-01 7.48878924e-01\n",
      " 7.52864973e-01 7.53363229e-01 7.54359741e-01 7.54857997e-01\n",
      " 7.58844046e-01 7.59840558e-01 7.60837070e-01 7.62830095e-01\n",
      " 7.63826607e-01 7.65321375e-01 7.68310912e-01 7.69307424e-01\n",
      " 7.71798705e-01 7.72795217e-01 7.74788241e-01 7.75784753e-01\n",
      " 7.76781266e-01 7.79272546e-01 7.80269058e-01 7.80767314e-01\n",
      " 7.81763827e-01 7.82760339e-01 7.84255107e-01 7.84753363e-01\n",
      " 7.85749875e-01 7.91230693e-01 7.92227205e-01 7.92725461e-01\n",
      " 7.93721973e-01 7.99202790e-01 8.00199302e-01 8.06676632e-01\n",
      " 8.07673144e-01 8.18136522e-01 8.19133034e-01 8.19631290e-01\n",
      " 8.20627803e-01 8.23617339e-01 8.24613852e-01 8.27105132e-01\n",
      " 8.28101644e-01 8.29596413e-01 8.31091181e-01 8.40558047e-01\n",
      " 8.41554559e-01 8.42551071e-01 8.43547583e-01 8.45540608e-01\n",
      " 8.47035376e-01 8.49028401e-01 8.50523169e-01 8.51021425e-01\n",
      " 8.52017937e-01 8.54010962e-01 8.55007474e-01 8.56003986e-01\n",
      " 8.57498754e-01 8.59990035e-01 8.61484803e-01 8.68460389e-01\n",
      " 8.69456901e-01 8.71948181e-01 8.72944694e-01 8.73442950e-01\n",
      " 8.74439462e-01 8.78425511e-01 8.79920279e-01 8.83408072e-01\n",
      " 8.84902840e-01 8.91380169e-01 8.92376682e-01 8.93871450e-01\n",
      " 8.95864474e-01 8.97857499e-01 8.99352267e-01 9.04833084e-01\n",
      " 9.05829596e-01 9.07324365e-01 9.09317389e-01 9.10313901e-01\n",
      " 9.11310414e-01 9.12306926e-01 9.14299950e-01 9.15296462e-01\n",
      " 9.16791231e-01 9.17787743e-01 9.19282511e-01 9.20777280e-01\n",
      " 9.21275536e-01 9.24265072e-01 9.24763328e-01 9.25759841e-01\n",
      " 9.26258097e-01 9.28749377e-01 9.29745889e-01 9.33731938e-01\n",
      " 9.37717987e-01 9.40209268e-01 9.41205780e-01 9.41704036e-01\n",
      " 9.42700548e-01 9.44195316e-01 9.46686597e-01 9.47683109e-01\n",
      " 9.48679621e-01 9.50174390e-01 9.52665670e-01 9.55655207e-01\n",
      " 9.59143000e-01 9.60139512e-01 9.63129048e-01 9.65122073e-01\n",
      " 9.65620329e-01 9.67613353e-01 9.68111609e-01 9.69108122e-01\n",
      " 9.91529646e-01 9.92526158e-01 1.00000000e+00]\n",
      "tpr [0.         0.00255102 0.00510204 0.01020408 0.01530612 0.02040816\n",
      " 0.03316327 0.05867347 0.06377551 0.07142857 0.07908163 0.08163265\n",
      " 0.08673469 0.08928571 0.10204082 0.10459184 0.1122449  0.11479592\n",
      " 0.11989796 0.13265306 0.1377551  0.15816327 0.19132653 0.21173469\n",
      " 0.21938776 0.2244898  0.22959184 0.23214286 0.24234694 0.24744898\n",
      " 0.25       0.25765306 0.27295918 0.27806122 0.3494898  0.35204082\n",
      " 0.38265306 0.38520408 0.4005102  0.40306122 0.41071429 0.41581633\n",
      " 0.41836735 0.55867347 0.56377551 0.57908163 0.66326531 0.66836735\n",
      " 0.67857143 0.68112245 0.68877551 0.69387755 0.70153061 0.70663265\n",
      " 0.71428571 0.75       0.7627551  0.78316327 0.79846939 0.81377551\n",
      " 0.81377551 0.81632653 0.82142857 0.85204082 0.85459184 0.8622449\n",
      " 0.86734694 0.88265306 0.88520408 0.89030612 0.89540816 0.89540816\n",
      " 0.90306122 0.90306122 0.90561224 0.90561224 0.90816327 0.90816327\n",
      " 0.91071429 0.91071429 0.91836735 0.91836735 0.92091837 0.92091837\n",
      " 0.92346939 0.92346939 0.92602041 0.92602041 0.92602041 0.92602041\n",
      " 0.92857143 0.92857143 0.93367347 0.93367347 0.93367347 0.93367347\n",
      " 0.93367347 0.93367347 0.93367347 0.93367347 0.93622449 0.93622449\n",
      " 0.93622449 0.93877551 0.93877551 0.93877551 0.93877551 0.94132653\n",
      " 0.94132653 0.94387755 0.94387755 0.94387755 0.94387755 0.94387755\n",
      " 0.94387755 0.94387755 0.94387755 0.94387755 0.94387755 0.94642857\n",
      " 0.94642857 0.94642857 0.94642857 0.94897959 0.95153061 0.95408163\n",
      " 0.95408163 0.95663265 0.95663265 0.95918367 0.95918367 0.95918367\n",
      " 0.95918367 0.95918367 0.95918367 0.95918367 0.95918367 0.96173469\n",
      " 0.96173469 0.96173469 0.96173469 0.96173469 0.96173469 0.96173469\n",
      " 0.96173469 0.96173469 0.96173469 0.96173469 0.96173469 0.96173469\n",
      " 0.96173469 0.96428571 0.96428571 0.96428571 0.96428571 0.96428571\n",
      " 0.96428571 0.96938776 0.96938776 0.97193878 0.97193878 0.97193878\n",
      " 0.97193878 0.97704082 0.97704082 0.97704082 0.97704082 0.97704082\n",
      " 0.97704082 0.97704082 0.97704082 0.97704082 0.97704082 0.97704082\n",
      " 0.97959184 0.97959184 0.97959184 0.97959184 0.97959184 0.97959184\n",
      " 0.97959184 0.97959184 0.97959184 0.97959184 0.97959184 0.97959184\n",
      " 0.97959184 0.97959184 0.98214286 0.98214286 0.98214286 0.98214286\n",
      " 0.98214286 0.98214286 0.98469388 0.98469388 0.98469388 0.98469388\n",
      " 0.98469388 0.98469388 0.98469388 0.98469388 0.98469388 0.98469388\n",
      " 0.98469388 0.98469388 0.98469388 0.98469388 0.98469388 0.98469388\n",
      " 0.98469388 0.98469388 0.98469388 0.98469388 0.98469388 0.98469388\n",
      " 0.9872449  0.9872449  0.9872449  0.9872449  0.9872449  0.9872449\n",
      " 0.9872449  0.9872449  0.9872449  0.9872449  0.9872449  0.9872449\n",
      " 0.9872449  0.9872449  0.9872449  0.98979592 0.98979592 0.98979592\n",
      " 0.98979592 0.98979592 0.98979592 0.98979592 0.98979592 0.98979592\n",
      " 0.98979592 0.98979592 0.98979592 0.98979592 0.98979592 0.98979592\n",
      " 0.98979592 0.98979592 0.98979592 0.98979592 0.98979592 0.98979592\n",
      " 0.98979592 0.98979592 0.98979592 0.98979592 0.99234694 0.99234694\n",
      " 0.99234694 0.99234694 0.99234694 0.99234694 0.99234694 0.99234694\n",
      " 0.99234694 0.99234694 0.99234694 0.99234694 0.99234694 0.99234694\n",
      " 0.99234694 0.99234694 0.99234694 0.99234694 0.99489796 0.99489796\n",
      " 0.99489796 0.99489796 0.99489796 0.99489796 0.99489796 0.99489796\n",
      " 0.99489796 0.99489796 0.99489796 0.99489796 0.99489796 0.99489796\n",
      " 0.99489796 0.99489796 0.99489796 0.99489796 0.99489796 0.99489796\n",
      " 0.99489796 0.99489796 0.99489796 0.99489796 0.99489796 0.99489796\n",
      " 0.99489796 0.99489796 0.99489796 0.99489796 0.99489796 0.99489796\n",
      " 0.99489796 0.99489796 0.99489796 0.99489796 0.99489796 0.99489796\n",
      " 0.99489796 0.99489796 0.99489796 0.99489796 0.99489796 0.99489796\n",
      " 0.99489796 0.99744898 0.99744898 0.99744898 0.99744898 0.99744898\n",
      " 0.99744898 0.99744898 0.99744898 0.99744898 0.99744898 0.99744898\n",
      " 0.99744898 0.99744898 0.99744898 0.99744898 0.99744898 0.99744898\n",
      " 0.99744898 0.99744898 0.99744898 0.99744898 0.99744898 0.99744898\n",
      " 0.99744898 0.99744898 0.99744898 0.99744898 0.99744898 0.99744898\n",
      " 0.99744898 0.99744898 0.99744898 0.99744898 0.99744898 0.99744898\n",
      " 0.99744898 0.99744898 0.99744898 0.99744898 0.99744898 0.99744898\n",
      " 0.99744898 0.99744898 0.99744898 0.99744898 0.99744898 0.99744898\n",
      " 0.99744898 0.99744898 0.99744898 0.99744898 0.99744898 0.99744898\n",
      " 0.99744898 0.99744898 0.99744898 0.99744898 0.99744898 0.99744898\n",
      " 0.99744898 0.99744898 0.99744898 0.99744898 0.99744898 0.99744898\n",
      " 0.99744898 0.99744898 0.99744898 0.99744898 0.99744898 0.99744898\n",
      " 0.99744898 0.99744898 0.99744898 0.99744898 0.99744898 0.99744898\n",
      " 0.99744898 0.99744898 0.99744898 0.99744898 0.99744898 0.99744898\n",
      " 0.99744898 0.99744898 0.99744898 0.99744898 0.99744898 0.99744898\n",
      " 0.99744898 0.99744898 0.99744898 0.99744898 0.99744898 0.99744898\n",
      " 0.99744898 0.99744898 0.99744898 0.99744898 0.99744898 0.99744898\n",
      " 0.99744898 0.99744898 0.99744898 0.99744898 0.99744898 0.99744898\n",
      " 0.99744898 0.99744898 0.99744898 0.99744898 0.99744898 0.99744898\n",
      " 0.99744898 0.99744898 0.99744898 0.99744898 0.99744898 0.99744898\n",
      " 0.99744898 0.99744898 0.99744898 0.99744898 0.99744898 0.99744898\n",
      " 0.99744898 0.99744898 0.99744898 0.99744898 0.99744898 0.99744898\n",
      " 0.99744898 0.99744898 0.99744898 0.99744898 0.99744898 0.99744898\n",
      " 0.99744898 0.99744898 0.99744898 0.99744898 0.99744898 0.99744898\n",
      " 0.99744898 0.99744898 0.99744898 0.99744898 0.99744898 0.99744898\n",
      " 0.99744898 1.         1.         1.         1.         1.\n",
      " 1.         1.         1.         1.         1.         1.\n",
      " 1.         1.         1.         1.         1.         1.\n",
      " 1.         1.         1.         1.         1.         1.\n",
      " 1.         1.         1.         1.         1.         1.\n",
      " 1.         1.         1.         1.         1.         1.\n",
      " 1.         1.         1.         1.         1.         1.\n",
      " 1.         1.         1.         1.         1.         1.\n",
      " 1.         1.         1.         1.         1.         1.\n",
      " 1.         1.         1.         1.         1.         1.\n",
      " 1.         1.         1.         1.         1.         1.\n",
      " 1.         1.         1.         1.         1.         1.\n",
      " 1.         1.         1.         1.         1.         1.\n",
      " 1.         1.         1.         1.         1.         1.\n",
      " 1.         1.         1.         1.         1.         1.\n",
      " 1.         1.         1.         1.         1.         1.\n",
      " 1.         1.         1.         1.         1.         1.\n",
      " 1.         1.         1.         1.         1.         1.\n",
      " 1.         1.         1.         1.         1.         1.\n",
      " 1.         1.         1.         1.         1.         1.\n",
      " 1.         1.         1.         1.         1.         1.\n",
      " 1.         1.         1.         1.         1.         1.\n",
      " 1.         1.         1.         1.         1.         1.\n",
      " 1.         1.         1.         1.         1.        ]\n",
      "threshold [1.99779594e+00 9.97795939e-01 9.97718096e-01 9.97617304e-01\n",
      " 9.96789336e-01 9.96720254e-01 9.96662915e-01 9.96545255e-01\n",
      " 9.96173441e-01 9.95593011e-01 9.95519161e-01 9.95518923e-01\n",
      " 9.95504677e-01 9.95118260e-01 9.94975805e-01 9.94829357e-01\n",
      " 9.94798899e-01 9.94711637e-01 9.94574487e-01 9.93650377e-01\n",
      " 9.93235767e-01 9.82928634e-01 9.82335389e-01 9.82042611e-01\n",
      " 9.79636550e-01 9.77877200e-01 9.77169454e-01 9.77112532e-01\n",
      " 9.76380944e-01 9.75991845e-01 9.73636985e-01 9.70538378e-01\n",
      " 9.61507082e-01 9.60245848e-01 9.57343578e-01 9.52917814e-01\n",
      " 9.51248109e-01 9.50578034e-01 9.46162879e-01 9.42920685e-01\n",
      " 9.42309737e-01 9.41959798e-01 9.38572288e-01 9.38250184e-01\n",
      " 9.33061182e-01 9.32559550e-01 9.29627061e-01 9.22488511e-01\n",
      " 9.05106962e-01 8.97962749e-01 8.97404909e-01 8.92200947e-01\n",
      " 8.90039325e-01 8.80471528e-01 8.75576317e-01 8.74085367e-01\n",
      " 8.68708253e-01 8.62722397e-01 8.54174614e-01 8.46807003e-01\n",
      " 8.33367229e-01 8.26092720e-01 8.23453963e-01 8.21976662e-01\n",
      " 8.16132724e-01 8.14845681e-01 8.06949794e-01 7.95751452e-01\n",
      " 7.86171079e-01 7.79105902e-01 7.71672666e-01 7.59585440e-01\n",
      " 7.27519810e-01 7.21583843e-01 7.13030994e-01 7.02907741e-01\n",
      " 6.75189495e-01 6.72878087e-01 6.66015089e-01 6.22811198e-01\n",
      " 5.56064367e-01 5.35586953e-01 5.27471304e-01 4.85390723e-01\n",
      " 4.83047247e-01 4.51477915e-01 4.29638267e-01 4.07614946e-01\n",
      " 3.43416870e-01 3.40516746e-01 3.31099749e-01 2.94217169e-01\n",
      " 2.87477612e-01 2.67600954e-01 2.64501333e-01 2.61570573e-01\n",
      " 2.60852963e-01 2.04210460e-01 2.03018486e-01 1.71434730e-01\n",
      " 1.41721472e-01 1.24542311e-01 1.24264129e-01 1.24081850e-01\n",
      " 1.15683623e-01 1.15229689e-01 1.14235640e-01 1.11990884e-01\n",
      " 1.08378164e-01 1.08166367e-01 1.04532078e-01 1.04370274e-01\n",
      " 8.43476132e-02 8.39993432e-02 8.07014853e-02 8.06400627e-02\n",
      " 6.87312037e-02 6.82693794e-02 6.68622479e-02 6.65360093e-02\n",
      " 6.61180541e-02 6.59856573e-02 6.41808659e-02 6.40540570e-02\n",
      " 6.39042407e-02 6.31410778e-02 6.10751063e-02 6.05414584e-02\n",
      " 4.90451194e-02 4.90023121e-02 4.86205295e-02 4.82397489e-02\n",
      " 4.67485189e-02 4.67402749e-02 4.62103114e-02 4.61463891e-02\n",
      " 4.30685654e-02 4.30373102e-02 4.26950790e-02 4.25022207e-02\n",
      " 4.24636416e-02 4.22847643e-02 4.20559905e-02 4.19203937e-02\n",
      " 4.08126153e-02 4.08039279e-02 4.06664088e-02 4.06259559e-02\n",
      " 3.90397608e-02 3.90307084e-02 3.78364809e-02 3.78069989e-02\n",
      " 3.59252095e-02 3.58912386e-02 3.37912180e-02 3.37056890e-02\n",
      " 3.05648539e-02 3.04966830e-02 2.95736268e-02 2.95096412e-02\n",
      " 2.83069648e-02 2.82184705e-02 2.81716567e-02 2.78946012e-02\n",
      " 2.76897512e-02 2.75326204e-02 2.75135133e-02 2.73597725e-02\n",
      " 2.73511950e-02 2.67900247e-02 2.66245082e-02 2.63587534e-02\n",
      " 2.63206381e-02 2.62764841e-02 2.62537878e-02 2.59132124e-02\n",
      " 2.58697756e-02 2.50105970e-02 2.49173734e-02 2.46841926e-02\n",
      " 2.46180724e-02 2.45733969e-02 2.44176202e-02 2.43306663e-02\n",
      " 2.42902432e-02 2.42852252e-02 2.41641644e-02 2.41514165e-02\n",
      " 2.41296459e-02 2.40097120e-02 2.39983555e-02 2.38872413e-02\n",
      " 2.36042384e-02 2.35261191e-02 2.34916918e-02 2.26111207e-02\n",
      " 2.25674231e-02 2.21150462e-02 2.20361594e-02 2.19392795e-02\n",
      " 2.19257157e-02 2.19038222e-02 2.19012219e-02 2.17853729e-02\n",
      " 2.16808710e-02 2.16142237e-02 2.16134116e-02 2.15545241e-02\n",
      " 2.14168560e-02 2.08535921e-02 2.07984783e-02 2.07514409e-02\n",
      " 2.06902511e-02 2.05431823e-02 2.04668101e-02 2.04508808e-02\n",
      " 2.04435922e-02 2.03894060e-02 2.03808174e-02 2.02540569e-02\n",
      " 2.00872943e-02 2.00778302e-02 2.00497303e-02 1.99649762e-02\n",
      " 1.99251752e-02 1.99089181e-02 1.98692791e-02 1.98681336e-02\n",
      " 1.98476966e-02 1.98434573e-02 1.95844360e-02 1.94789208e-02\n",
      " 1.94141921e-02 1.93915814e-02 1.93893388e-02 1.93840750e-02\n",
      " 1.93119291e-02 1.92825086e-02 1.91993024e-02 1.91816911e-02\n",
      " 1.91716719e-02 1.90806668e-02 1.89843271e-02 1.89353414e-02\n",
      " 1.89300906e-02 1.87677126e-02 1.86410788e-02 1.85831990e-02\n",
      " 1.85242184e-02 1.83712933e-02 1.83167551e-02 1.82676725e-02\n",
      " 1.82002503e-02 1.81513950e-02 1.81109197e-02 1.81085877e-02\n",
      " 1.80879887e-02 1.77801996e-02 1.77632347e-02 1.77253112e-02\n",
      " 1.75999366e-02 1.74940359e-02 1.74924210e-02 1.74769871e-02\n",
      " 1.74145419e-02 1.73877180e-02 1.72388926e-02 1.72250178e-02\n",
      " 1.72175039e-02 1.71682257e-02 1.71248652e-02 1.70937832e-02\n",
      " 1.70844365e-02 1.69884861e-02 1.69859622e-02 1.69122797e-02\n",
      " 1.69088319e-02 1.68800205e-02 1.68563835e-02 1.68133322e-02\n",
      " 1.67612452e-02 1.67338103e-02 1.67313069e-02 1.67278331e-02\n",
      " 1.66715104e-02 1.66110136e-02 1.64814033e-02 1.64312143e-02\n",
      " 1.63847171e-02 1.63802076e-02 1.63785089e-02 1.62485410e-02\n",
      " 1.60936303e-02 1.60737615e-02 1.60018317e-02 1.59828849e-02\n",
      " 1.59237776e-02 1.59019139e-02 1.58183016e-02 1.57809686e-02\n",
      " 1.56495757e-02 1.56216798e-02 1.56193413e-02 1.56160938e-02\n",
      " 1.55310081e-02 1.54522890e-02 1.54045122e-02 1.53266136e-02\n",
      " 1.53063545e-02 1.52888503e-02 1.52845280e-02 1.52246756e-02\n",
      " 1.52136981e-02 1.51757803e-02 1.51133509e-02 1.50545528e-02\n",
      " 1.49687324e-02 1.48520833e-02 1.48134269e-02 1.47938980e-02\n",
      " 1.47833591e-02 1.47463726e-02 1.47385811e-02 1.47360759e-02\n",
      " 1.47308009e-02 1.45176472e-02 1.44735062e-02 1.44484099e-02\n",
      " 1.44383702e-02 1.43138021e-02 1.42977647e-02 1.42856194e-02\n",
      " 1.42113930e-02 1.41582228e-02 1.40947429e-02 1.40636871e-02\n",
      " 1.40113318e-02 1.40094869e-02 1.38953924e-02 1.38088902e-02\n",
      " 1.37571990e-02 1.37177194e-02 1.36792446e-02 1.35446237e-02\n",
      " 1.34683950e-02 1.34519078e-02 1.34117510e-02 1.34046618e-02\n",
      " 1.33544635e-02 1.33339902e-02 1.32455071e-02 1.31226918e-02\n",
      " 1.31208878e-02 1.30589185e-02 1.30246999e-02 1.29869394e-02\n",
      " 1.29759125e-02 1.29521647e-02 1.28829507e-02 1.27488729e-02\n",
      " 1.26402341e-02 1.25764310e-02 1.25321271e-02 1.25175947e-02\n",
      " 1.23239355e-02 1.22656645e-02 1.21617587e-02 1.21507002e-02\n",
      " 1.18092364e-02 1.18058575e-02 1.17094647e-02 1.16777550e-02\n",
      " 1.12476153e-02 1.12252692e-02 1.11571364e-02 1.11465994e-02\n",
      " 1.10287983e-02 1.10132387e-02 1.09553970e-02 1.09006567e-02\n",
      " 1.08033447e-02 1.07843792e-02 1.06130484e-02 1.05909109e-02\n",
      " 1.05862254e-02 1.05322264e-02 1.05252070e-02 1.05172694e-02\n",
      " 1.04755787e-02 1.04489215e-02 1.04310298e-02 1.04250163e-02\n",
      " 1.03687393e-02 1.03474958e-02 1.03217307e-02 1.03148455e-02\n",
      " 1.02603380e-02 1.02558453e-02 1.02463383e-02 1.02328407e-02\n",
      " 1.01355668e-02 1.01286471e-02 1.00993402e-02 1.00857057e-02\n",
      " 1.00801513e-02 1.00533087e-02 9.96860303e-03 9.96133592e-03\n",
      " 9.94180050e-03 9.91845410e-03 9.85583849e-03 9.81726311e-03\n",
      " 9.74704232e-03 9.74040385e-03 9.67801921e-03 9.63634625e-03\n",
      " 9.57171433e-03 9.52285901e-03 9.50792991e-03 9.48550738e-03\n",
      " 9.47297551e-03 9.46976338e-03 9.46331117e-03 9.44936741e-03\n",
      " 9.43112560e-03 9.32028797e-03 9.29054059e-03 9.28960182e-03\n",
      " 9.25501436e-03 9.24747530e-03 9.24557075e-03 9.18510649e-03\n",
      " 8.99926014e-03 8.99160467e-03 8.98242742e-03 8.93566106e-03\n",
      " 8.93413741e-03 8.92366841e-03 8.91366694e-03 8.76215380e-03\n",
      " 8.75272509e-03 8.71823449e-03 8.52644630e-03 8.50348826e-03\n",
      " 8.49974249e-03 8.49128328e-03 8.46997276e-03 8.43416248e-03\n",
      " 8.36521480e-03 8.33599083e-03 8.33206158e-03 8.25828221e-03\n",
      " 8.25528335e-03 8.20707250e-03 8.20269249e-03 8.18013400e-03\n",
      " 8.16977583e-03 8.12803768e-03 8.12692288e-03 8.12209584e-03\n",
      " 8.09178967e-03 8.08929838e-03 7.94975646e-03 7.93968420e-03\n",
      " 7.93700665e-03 7.93043897e-03 7.92990997e-03 7.88057875e-03\n",
      " 7.86145870e-03 7.84183014e-03 7.82235898e-03 7.80485105e-03\n",
      " 7.80225219e-03 7.80221494e-03 7.73437461e-03 7.72246812e-03\n",
      " 7.70443538e-03 7.59281917e-03 7.57480320e-03 7.56346295e-03\n",
      " 7.55471690e-03 7.54519831e-03 7.52675021e-03 7.51391612e-03\n",
      " 7.50677520e-03 7.46136019e-03 7.41270185e-03 7.40761263e-03\n",
      " 7.37636583e-03 7.35907909e-03 7.35885929e-03 7.34069664e-03\n",
      " 7.33009214e-03 7.28976727e-03 7.28264544e-03 7.20214704e-03\n",
      " 7.19640031e-03 7.18697300e-03 7.14924047e-03 7.13137863e-03\n",
      " 7.10418727e-03 7.02275382e-03 6.98436843e-03 6.98200753e-03\n",
      " 6.85469247e-03 6.82243938e-03 6.78514224e-03 6.66664168e-03\n",
      " 6.62135240e-03 6.55799266e-03 6.54669432e-03 6.53592637e-03\n",
      " 6.50839973e-03 6.46381779e-03 6.43241312e-03 6.42364891e-03\n",
      " 6.32266328e-03 6.07175566e-03 5.97977405e-03 5.97472023e-03\n",
      " 5.92544302e-03 5.75442985e-03 5.71137993e-03 5.40159689e-03\n",
      " 5.38512971e-03 5.02866926e-03 4.99348715e-03 4.98098601e-03\n",
      " 4.96429624e-03 4.82502114e-03 4.79499623e-03 4.71639028e-03\n",
      " 4.68709832e-03 4.54877317e-03 4.46224771e-03 4.14278964e-03\n",
      " 4.13107919e-03 4.04337607e-03 4.02883487e-03 3.93940182e-03\n",
      " 3.93563882e-03 3.81785841e-03 3.80857196e-03 3.74553632e-03\n",
      " 3.70325544e-03 3.60935368e-03 3.57463886e-03 3.49774305e-03\n",
      " 3.49092041e-03 3.34076420e-03 3.31705576e-03 2.95665441e-03\n",
      " 2.95406487e-03 2.87009403e-03 2.78064725e-03 2.77836062e-03\n",
      " 2.74982583e-03 2.64172582e-03 2.64046853e-03 2.59606261e-03\n",
      " 2.58510816e-03 2.44559953e-03 2.41099484e-03 2.38153245e-03\n",
      " 2.29335111e-03 2.26120441e-03 2.25307862e-03 2.18794541e-03\n",
      " 2.18317960e-03 2.18256167e-03 2.14666105e-03 2.13884725e-03\n",
      " 2.12016585e-03 2.10681371e-03 2.06631469e-03 2.05848902e-03\n",
      " 2.01603002e-03 1.99900032e-03 1.96374441e-03 1.96307059e-03\n",
      " 1.94234378e-03 1.92707661e-03 1.91977737e-03 1.89571071e-03\n",
      " 1.89264026e-03 1.87100633e-03 1.86003302e-03 1.78115140e-03\n",
      " 1.75319763e-03 1.71303109e-03 1.70687190e-03 1.69658475e-03\n",
      " 1.67657598e-03 1.65067776e-03 1.64467259e-03 1.63347088e-03\n",
      " 1.62533624e-03 1.61462557e-03 1.53713394e-03 1.48890971e-03\n",
      " 1.42006623e-03 1.41848624e-03 1.36550586e-03 1.31742132e-03\n",
      " 1.31383084e-03 1.30873721e-03 1.30544882e-03 1.30158511e-03\n",
      " 7.39772746e-04 7.26894068e-04 1.68627346e-04]\n"
     ]
    }
   ],
   "source": [
    "prob_positive9=probs9[:,1]\n",
    "fpr9,tpr9,threshold9=metrics.roc_curve(y_test,prob_positive9)\n",
    "roc_auc9=metrics.auc(fpr9,tpr9)\n",
    "print('Area under the curve',roc_auc9)\n",
    "print('fpr',fpr9)\n",
    "print('tpr',tpr9)\n",
    "print('threshold',threshold9)"
   ]
  },
  {
   "cell_type": "code",
   "execution_count": 81,
   "metadata": {},
   "outputs": [
    {
     "data": {
      "image/png": "[encoded data removed]",
      "text/plain": [
       "<Figure size 432x288 with 1 Axes>"
      ]
     },
     "metadata": {
      "needs_background": "light"
     },
     "output_type": "display_data"
    }
   ],
   "source": [
    "##plot the roc curve:\n",
    "plt.title('Receiver Operating Characteristic')\n",
    "plt.plot(fpr9,tpr9,'orange',label='AUC = %0.2f'%roc_auc9)\n",
    "plt.legend(loc='lower right')\n",
    "plt.plot([0,1],[0,1],color='darkblue',linestyle='--')\n",
    "plt.ylabel('True Positive Rate')\n",
    "plt.xlabel('False Positive Rate')\n",
    "plt.show()"
   ]
  },
  {
   "cell_type": "markdown",
   "metadata": {},
   "source": [
    "### Which model gives best accuracy and why?"
   ]
  },
  {
   "cell_type": "markdown",
   "metadata": {},
   "source": [
    "Random Forest is giving 98.45% of accuracy, which is the best accuracy amongst all the models used for this particular case study.\n",
    "Random forest's best part is that it avoids overfitting as the algorithm gives the advantage to each individual tree to randomly take n sample or data points from the dataset with replacement and resulting in different trees. Therefore random forest forms a collection of decision trees."
   ]
  },
  {
   "cell_type": "markdown",
   "metadata": {},
   "source": [
    "### Do you feel accuracy is a good performance evaluation metric for the given data? If yes, justify your answer. If no, justify your answer and suggest alternative metric/s."
   ]
  },
  {
   "cell_type": "markdown",
   "metadata": {},
   "source": [
    "No, the accuracy is not a good performance evaluation here for the given data atleast. Rather we should go for the area under the curve, as it measures the quality of a model's prediction. Therefore higher the area under curve the better is the model, so according to that we are seeing that Gradient boosting and XG boost are having 99% coverage. Either we may also use confusion matrix to find out the model which is predicting the best or nearby accuracy depending on the less number of records to be present for both false positives and false negatives."
   ]
  }
 ],
 "metadata": {
  "kernelspec": {
   "display_name": "Python 3",
   "language": "python",
   "name": "python3"
  },
  "language_info": {
   "codemirror_mode": {
    "name": "ipython",
    "version": 3
   },
   "file_extension": ".py",
   "mimetype": "text/x-python",
   "name": "python",
   "nbconvert_exporter": "python",
   "pygments_lexer": "ipython3",
   "version": "3.7.3"
  }
 },
 "nbformat": 4,
 "nbformat_minor": 2
}
